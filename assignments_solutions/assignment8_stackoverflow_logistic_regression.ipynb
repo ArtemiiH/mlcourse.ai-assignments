{
 "cells": [
  {
   "cell_type": "markdown",
   "metadata": {},
   "source": [
    "## [mlcourse.ai](https://mlcourse.ai) – Open Machine Learning Course \n",
    "Authors: [Pavel Nesterov](http://pavelnesterov.info/) (@mephistopheies), [Yury Kashnitskiy](https://yorko.github.io) (@yorko), and [Daniel Potapov](https://www.linkedin.com/in/daniel-potapov/) (@sharthZ23). Edited by [Anastasia Manokhina](https://www.linkedin.com/in/anastasiamanokhina/) (@manokhina). This material is subject to the terms and conditions of the [Creative Commons CC BY-NC-SA 4.0](https://creativecommons.org/licenses/by-nc-sa/4.0/) license. Free use is permitted for any non-commercial purpose."
   ]
  },
  {
   "cell_type": "markdown",
   "metadata": {},
   "source": [
    "# <center> Assignment #8. Fall 2018\n",
    "## <center> StackOverflow questions tagging with logistic regression\n",
    "\n",
    "**You need to derive formulas where it's asked (yes, with pen and paper), fill in the code in the cells and select answers in the [web form](https://docs.google.com/forms/d/1FsawLzl_i3nw-ahECsJAJkd0SxFsmWDS5sS2hr6RbKY).**\n",
    "\n",
    "## 0. Problem description\n",
    "\n",
    "In this assignment, we will code a model for predicting tags based on a multilabel logistic regression. Unlike the usual setting of a multiclass problem, in this case one example can belong to several classes. We will implement an online version of the multilabel classification algorithm.\n",
    "\n",
    "We will use a small sample of 70k questions extracted from StackOverflow (about 23 MB if zipped, download from [here](https://drive.google.com/file/d/1djuygR3cTXb4go_KMWSOw94WlFKb2NT5/view?usp=sharing)).\n",
    "\n",
    "Actually, such implementations are used in real life (though not implemented in Python). For example, in online [Click-Through Rate](https://en.wikipedia.org/wiki/Click-through_rate) prediction models, the user is shown a banner, then, depending on the presence of a click, the model parameters are updated. In real applications, the number of model parameters can reach hundreds of millions, while one user usually has only a hundred or a thousand non-zero parameters out of this hundred of millions, therefore it is not effective to vectorize such a model. Usually, all user data is stored in huge clusters in in-memory databases, and user processing is distributed.\n",
    "\n",
    "> Data Science is the math for your business \n",
    "\n",
    "To perfectly grasp this folk wisdom, we'll dive into the math of multiclass & multilabel logistic regression."
   ]
  },
  {
   "cell_type": "markdown",
   "metadata": {},
   "source": [
    "## 1. Multiclass & multilabel logistic regression\n",
    "\n",
    "### 1.1. Softmax classifier (multiclass logistic regression)\n",
    "\n",
    "Let's see how logistic regression is derived for two classes $ \\left\\{0, 1\\right\\}$: the probability that an instance belongs to class $1$ is derived from the Bayes theorem:\n",
    "\n",
    "$$\\large \\begin{array}{rcl}\n",
    "p\\left(c = 1 \\mid \\vec{x}\\right) &=& \\dfrac{p\\left(\\vec{x} \\mid c = 1\\right)p\\left(c = 1\\right)}{p\\left(\\vec{x}\\right)} \\\\\n",
    "&=& \\dfrac{p\\left(\\vec{x} \\mid c = 1\\right)p\\left(c = 1\\right)}{p\\left(\\vec{x} \\mid c = 1\\right)p\\left(c = 1\\right) + p\\left(\\vec{x} \\mid c = 0\\right)p\\left(c = 0\\right)} \\\\\n",
    "&=& \\dfrac{1}{1 + e^{-a}} = \\sigma\\left(a\\right)\n",
    "\\end{array}$$\n",
    "where:\n",
    "- $\\vec{x}$ – is a feature vector\n",
    "- $\\sigma$ – stands for the sigmoid function of a scalar argument\n",
    "- $a = \\log \\frac{p\\left(\\vec{x} \\mid c = 1\\right)p\\left(c = 1\\right)}{p\\left(\\vec{x} \\mid c = 0\\right)p\\left(c = 0\\right)} = \\sum_{i=0}^{d} w_i x_i$ – this relation is modeled by a linear function of features and model parameters\n",
    "\n",
    "This expression can easily be generalized to a set of $ K $ classes, only the denominator in the Bayes formula changes. Let us write down the probability that an instance belongs to class $ k $:\n",
    "$$\\large \\begin{array}{rcl}\n",
    "p\\left(c = k \\mid \\vec{x}\\right) &=& \\dfrac{p\\left(\\vec{x} \\mid c = k\\right)p\\left(c = k\\right)}{\\sum_{i=1}^K p\\left(\\vec{x} \\mid c = i\\right)p\\left(c = i\\right)} = \\dfrac{e^{z_k}}{\\sum_{i=1}^{K}e^{z_i}} = \\sigma_k\\left(\\vec{z}\\right)\n",
    "\\end{array}$$\n",
    "where\n",
    "- $\\sigma_k$ – stands for a softmax function of a vector argument\n",
    "- $z_k = \\log p\\left(\\vec{x} \\mid c = k\\right)p\\left(c = k\\right) = \\sum_{i=0}^{d} w_{ki} x_i$ – this relation is modeled by a linear function of features and model parameters for the class $k$"
   ]
  },
  {
   "cell_type": "markdown",
   "metadata": {},
   "source": [
    "To model the full likelihood of **one example**  (look, it's not the same as the likelihood of the whole training set), we use the [categorical distribution](https://en.wikipedia.org/wiki/Categorical_distribution), or, to be more precise, its logarithm (for convenience):\n",
    "\n",
    "$$\\Large \\mathcal{L} = \\log p\\left({\\vec{x}}\\right) = \\log \\prod_{i=1}^K \\sigma_i\\left(\\vec{z}\\right)^{y_i} = \\sum_{i=1}^K y_i \\log \\sigma_i\\left(\\vec{z}\\right), $$\n",
    "\n",
    "where \n",
    "\n",
    "- $K$ is the number of classes\n",
    "- $y_i$ is either 0 or 1, depending on the true class label of the example $\\vec{x}$\n",
    "\n",
    "It turns out to be a famous [cross entropy](https://en.wikipedia.org/wiki/Cross_entropy) function (if multiplied by $-1$). Likelihood needs to be maximized, and, accordingly, cross entropy should be minimized. By differentiating with respect to the parameters of the model, we will obtain the rules for updating the weights for gradient descent, **do this derivation on your own**, you will need to understand this for further fulfillment of the task:\n",
    "\n",
    "$$\\large \\begin{array}{rcl}\n",
    "\\frac{\\partial \\mathcal{L}}{\\partial w_{km}} &=& x_m \\left(y_k - \\sigma_k\\left(\\vec{z}\\right)\\right)\n",
    "\\end{array}$$\n",
    "\n",
    "Softmax classifier is very well [explained](http://cs231n.github.io/linear-classify/) in Stanford's course cs231n \"Convolutional Neural Networks for Visual Recognition\"."
   ]
  },
  {
   "cell_type": "markdown",
   "metadata": {},
   "source": [
    "### 1.2. Multilabel logistic regression\n",
    "\n",
    "It turns out that the softmax classifier tends to predict a high probability for some class and low probabilities for all other classes. That's due to an exponent in the formula of softmax. Also, in the previous formulation, it turns out that the vector $\\left(\\sigma_1, \\sigma_2, \\ldots, \\sigma_K\\right)$ forms a discrete probability distribution, i.e. $\\sum_{i=1}^K \\sigma_i = 1$. But in our problem statement, each example can have several tags or can simultaneously belong to several classes. To take it into account we will slightly change the model:\n",
    "- We assume that all tags are independent of each other, i.e. each outcome is a logistic regression on two classes (either there is a tag or not), then the probability that an example has a tag will be written as following (each tag/class has its own set of parameters as in the case of a softmax classifier):\n",
    "$$\\large p\\left(\\text{tag}_k \\mid \\vec{x}\\right) = \\sigma\\left(z_k\\right) = \\sigma\\left(\\sum_{i=0}^d w_{ki} x_i \\right)$$\n",
    "- The presence of each tag will be modeled using <a href=\"https://en.wikipedia.org/wiki/Bernoulli_distribution\">Bernoulli distribution</a>\n",
    "\n",
    "Your first task is to write a simplified expression for the negative log-likelihood (NLL) of one training example. As a rule, many optimization algorithms have an interface for minimizing the function, and we follow the same tradition and multiply the resulting expression for log-likelihood by $-1$ to get NLL $-\\mathcal{L}$. In the second part,  we derive formulas to minimize the resulting expression."
   ]
  },
  {
   "cell_type": "markdown",
   "metadata": {},
   "source": [
    "**<font color=\"red\">Question 1:</font> What's the correct formula for negative log-likelihood of one training example?**\n",
    "\n",
    "*For discussions, please stick to [ODS Slack](https://opendatascience.slack.com/), channel #mlcourse_ai, pinned thread __#a8_q1__*\n",
    "\n",
    "**<font color=\"red\">Answer options:</font>**\n",
    "1. $\\large -\\mathcal{L} = -\\sum_{i=1}^d y_i \\log \\sigma\\left(z_i\\right) + \\left(1 - y_i\\right) \\log \\left(1 - \\sigma\\left(z_i\\right)\\right)$\n",
    "\n",
    "2. $\\large -\\mathcal{L} = -\\sum_{i=1}^d z_i \\log \\sigma\\left(y_i\\right) + \\left(1 - z_i\\right) \\log \\left(1 - \\sigma\\left(y_i\\right)\\right)$\n",
    "\n",
    "3. $\\large -\\mathcal{L} = -\\sum_{i=1}^K z_i \\log \\sigma\\left(y_i\\right) + \\left(1 - z_i\\right) \\log \\left(1 - \\sigma\\left(y_i\\right)\\right)$\n",
    "\n",
    "4. $\\large -\\mathcal{L} = -\\sum_{i=1}^K y_i \\log \\sigma\\left(z_i\\right) + \\left(1 - y_i\\right) \\log \\left(1 - \\sigma\\left(z_i\\right)\\right)$"
   ]
  },
  {
   "cell_type": "markdown",
   "metadata": {},
   "source": [
    "**Answer:**<br>\n",
    "4. $\\large -\\mathcal{L} = -\\sum_{i=1}^K y_i \\log \\sigma\\left(z_i\\right) + \\left(1 - y_i\\right) \\log \\left(1 - \\sigma\\left(z_i\\right)\\right)$"
   ]
  },
  {
   "cell_type": "markdown",
   "metadata": {},
   "source": [
    "## 2. Deriving the formula for weight updates\n",
    "\n",
    "In the second task, you need to derive the formula for the partial derivative of $-\\mathcal{L}$ w.r.t weights."
   ]
  },
  {
   "cell_type": "markdown",
   "metadata": {
    "collapsed": true
   },
   "source": [
    "**<font color=\"red\">Question 2:</font> What's the correct formula for the derivative of negative log-likelihood w.r.t. to weights?**\n",
    "\n",
    "*For discussions, please stick to [ODS Slack](https://opendatascience.slack.com/), channel #mlcourse_ai, pinned thread __#a8_q2__*\n",
    "\n",
    "**<font color=\"red\">Answer options:</font>**\n",
    "1. $\\large -\\frac{\\partial \\mathcal{L}}{\\partial w_{km}} = -x_m \\left(y_k - \\sigma\\left(z_k\\right)\\right)$\n",
    "2. $\\large -\\frac{\\partial \\mathcal{L}}{\\partial w_{km}} = -x_m \\left(\\sigma\\left(z_k\\right) - y_k\\right)$\n",
    "3. $\\large -\\frac{\\partial \\mathcal{L}}{\\partial w_{km}} = \\left(y_k - \\sigma\\left(z_k\\right)x_m\\right)$\n",
    "4. $\\large -\\frac{\\partial \\mathcal{L}}{\\partial w_{km}} = \\left(\\sigma\\left(z_k\\right)x_m - y_k\\right)$"
   ]
  },
  {
   "cell_type": "markdown",
   "metadata": {},
   "source": [
    "**Answer:**<br>\n",
    "1. $\\large -\\frac{\\partial \\mathcal{L}}{\\partial w_{km}} = -x_m \\left(y_k - \\sigma\\left(z_k\\right)\\right)$"
   ]
  },
  {
   "cell_type": "markdown",
   "metadata": {},
   "source": [
    "## 3. Basic model implementation"
   ]
  },
  {
   "cell_type": "code",
   "execution_count": 3,
   "metadata": {
    "ExecuteTime": {
     "end_time": "2018-11-12T21:14:40.368913Z",
     "start_time": "2018-11-12T21:14:39.970765Z"
    }
   },
   "outputs": [],
   "source": [
    "from collections import defaultdict\n",
    "from tqdm import tqdm_notebook\n",
    "import numpy as np\n",
    "import pandas as pd\n",
    "import matplotlib.pyplot as plt\n",
    "import seaborn as sns\n",
    "sns.set()\n",
    "%matplotlib inline\n",
    "from IPython.display import clear_output\n",
    "\n",
    "pd.set_option('display.float_format', lambda x: '{:g}'.format(x))\n",
    "np.set_printoptions(suppress=True)\n",
    "sns.set_style(\"dark\")\n",
    "plt.rcParams['figure.figsize'] = 16, 12"
   ]
  },
  {
   "cell_type": "markdown",
   "metadata": {},
   "source": [
    "Let's load and preprocess our [dataset](https://drive.google.com/file/d/1djuygR3cTXb4go_KMWSOw94WlFKb2NT5/view?usp=sharing). Change paths to data files if needed."
   ]
  },
  {
   "cell_type": "code",
   "execution_count": 4,
   "metadata": {
    "ExecuteTime": {
     "end_time": "2018-11-12T21:14:40.783902Z",
     "start_time": "2018-11-12T21:14:40.780892Z"
    }
   },
   "outputs": [],
   "source": [
    "df = pd.read_csv('../data/stackoverflow_sample_70k.csv.zip')"
   ]
  },
  {
   "cell_type": "code",
   "execution_count": 5,
   "metadata": {},
   "outputs": [
    {
     "data": {
      "text/html": [
       "<div>\n",
       "<style scoped>\n",
       "    .dataframe tbody tr th:only-of-type {\n",
       "        vertical-align: middle;\n",
       "    }\n",
       "\n",
       "    .dataframe tbody tr th {\n",
       "        vertical-align: top;\n",
       "    }\n",
       "\n",
       "    .dataframe thead th {\n",
       "        text-align: right;\n",
       "    }\n",
       "</style>\n",
       "<table border=\"1\" class=\"dataframe\">\n",
       "  <thead>\n",
       "    <tr style=\"text-align: right;\">\n",
       "      <th></th>\n",
       "      <th>question</th>\n",
       "      <th>tags</th>\n",
       "    </tr>\n",
       "  </thead>\n",
       "  <tbody>\n",
       "    <tr>\n",
       "      <th>0</th>\n",
       "      <td>i ve got some code in window scroll that check...</td>\n",
       "      <td>javascript jquery</td>\n",
       "    </tr>\n",
       "    <tr>\n",
       "      <th>1</th>\n",
       "      <td>i have a custom adapter for a list view it has...</td>\n",
       "      <td>android</td>\n",
       "    </tr>\n",
       "    <tr>\n",
       "      <th>2</th>\n",
       "      <td>in my form panel i added a checkbox setting st...</td>\n",
       "      <td>javascript</td>\n",
       "    </tr>\n",
       "    <tr>\n",
       "      <th>3</th>\n",
       "      <td>i have the two dates variables startwork and e...</td>\n",
       "      <td>c#</td>\n",
       "    </tr>\n",
       "    <tr>\n",
       "      <th>4</th>\n",
       "      <td>i might have been using the wrong search tags ...</td>\n",
       "      <td>android</td>\n",
       "    </tr>\n",
       "  </tbody>\n",
       "</table>\n",
       "</div>"
      ],
      "text/plain": [
       "                                            question               tags\n",
       "0  i ve got some code in window scroll that check...  javascript jquery\n",
       "1  i have a custom adapter for a list view it has...            android\n",
       "2  in my form panel i added a checkbox setting st...         javascript\n",
       "3  i have the two dates variables startwork and e...                 c#\n",
       "4  i might have been using the wrong search tags ...            android"
      ]
     },
     "execution_count": 5,
     "metadata": {},
     "output_type": "execute_result"
    }
   ],
   "source": [
    "df.head()"
   ]
  },
  {
   "cell_type": "markdown",
   "metadata": {},
   "source": [
    "Top tags on StackOverflow for these 70k questions are the following:"
   ]
  },
  {
   "cell_type": "code",
   "execution_count": 6,
   "metadata": {
    "ExecuteTime": {
     "end_time": "2018-11-12T21:14:41.089827Z",
     "start_time": "2018-11-12T21:14:41.083816Z"
    }
   },
   "outputs": [],
   "source": [
    "top_tags = ['python', 'ios', 'html', 'android', 'c++', 'jquery', 'java', 'php', 'c#', 'javascript']"
   ]
  },
  {
   "cell_type": "markdown",
   "metadata": {},
   "source": [
    "`question` and `tags` are strings, so we need to preprocess them. \n",
    "\n",
    "Preprocessing steps will be as follows: \n",
    "- convert to lowercase \n",
    "- strip whitespaces \n",
    "- split by whitespaces to form a list of words"
   ]
  },
  {
   "cell_type": "code",
   "execution_count": 7,
   "metadata": {
    "ExecuteTime": {
     "end_time": "2018-11-12T21:14:48.264230Z",
     "start_time": "2018-11-12T21:14:45.437883Z"
    },
    "code_folding": []
   },
   "outputs": [
    {
     "name": "stdout",
     "output_type": "stream",
     "text": [
      "CPU times: user 3.79 s, sys: 742 ms, total: 4.53 s\n",
      "Wall time: 5.04 s\n"
     ]
    }
   ],
   "source": [
    "%%time\n",
    "df['tags'] = df['tags'].str.lower()\\\n",
    "                       .str.strip()\\\n",
    "                       .str.split(' ')\n",
    "df['question'] = df['question'].str.lower()\\\n",
    "                               .str.strip()\\\n",
    "                               .str.split(' ')"
   ]
  },
  {
   "cell_type": "code",
   "execution_count": 8,
   "metadata": {
    "ExecuteTime": {
     "end_time": "2018-11-12T21:14:48.284225Z",
     "start_time": "2018-11-12T21:14:48.267218Z"
    }
   },
   "outputs": [
    {
     "data": {
      "text/html": [
       "<div>\n",
       "<style scoped>\n",
       "    .dataframe tbody tr th:only-of-type {\n",
       "        vertical-align: middle;\n",
       "    }\n",
       "\n",
       "    .dataframe tbody tr th {\n",
       "        vertical-align: top;\n",
       "    }\n",
       "\n",
       "    .dataframe thead th {\n",
       "        text-align: right;\n",
       "    }\n",
       "</style>\n",
       "<table border=\"1\" class=\"dataframe\">\n",
       "  <thead>\n",
       "    <tr style=\"text-align: right;\">\n",
       "      <th></th>\n",
       "      <th>question</th>\n",
       "      <th>tags</th>\n",
       "    </tr>\n",
       "  </thead>\n",
       "  <tbody>\n",
       "    <tr>\n",
       "      <th>0</th>\n",
       "      <td>[i, ve, got, some, code, in, window, scroll, t...</td>\n",
       "      <td>[javascript, jquery]</td>\n",
       "    </tr>\n",
       "    <tr>\n",
       "      <th>1</th>\n",
       "      <td>[i, have, a, custom, adapter, for, a, list, vi...</td>\n",
       "      <td>[android]</td>\n",
       "    </tr>\n",
       "    <tr>\n",
       "      <th>2</th>\n",
       "      <td>[in, my, form, panel, i, added, a, checkbox, s...</td>\n",
       "      <td>[javascript]</td>\n",
       "    </tr>\n",
       "    <tr>\n",
       "      <th>3</th>\n",
       "      <td>[i, have, the, two, dates, variables, startwor...</td>\n",
       "      <td>[c#]</td>\n",
       "    </tr>\n",
       "    <tr>\n",
       "      <th>4</th>\n",
       "      <td>[i, might, have, been, using, the, wrong, sear...</td>\n",
       "      <td>[android]</td>\n",
       "    </tr>\n",
       "  </tbody>\n",
       "</table>\n",
       "</div>"
      ],
      "text/plain": [
       "                                            question                  tags\n",
       "0  [i, ve, got, some, code, in, window, scroll, t...  [javascript, jquery]\n",
       "1  [i, have, a, custom, adapter, for, a, list, vi...             [android]\n",
       "2  [in, my, form, panel, i, added, a, checkbox, s...          [javascript]\n",
       "3  [i, have, the, two, dates, variables, startwor...                  [c#]\n",
       "4  [i, might, have, been, using, the, wrong, sear...             [android]"
      ]
     },
     "execution_count": 8,
     "metadata": {},
     "output_type": "execute_result"
    }
   ],
   "source": [
    "df.head()"
   ]
  },
  {
   "cell_type": "code",
   "execution_count": 9,
   "metadata": {
    "ExecuteTime": {
     "end_time": "2018-11-12T21:14:48.630133Z",
     "start_time": "2018-11-12T21:14:48.581133Z"
    }
   },
   "outputs": [
    {
     "name": "stdout",
     "output_type": "stream",
     "text": [
      "<class 'pandas.core.frame.DataFrame'>\n",
      "RangeIndex: 70000 entries, 0 to 69999\n",
      "Data columns (total 2 columns):\n",
      "question    70000 non-null object\n",
      "tags        70000 non-null object\n",
      "dtypes: object(2)\n",
      "memory usage: 128.2 MB\n"
     ]
    }
   ],
   "source": [
    "df.info(memory_usage='deep')"
   ]
  },
  {
   "cell_type": "markdown",
   "metadata": {},
   "source": [
    "You are given a template of the class `LogRegressor`. Analyze it carefully paying attention to all comments. Then fill in the blanks, run the resulting model and answer the test question.\n",
    "\n",
    "As you might notice, when you update the weight of $ w_ {km} $, the value of the sign $ x_m $ is used, which is $ 0 $ if the word with the index $ m $ is not in the sentence, and is greater than zero if there is such a word. Accordingly, when calculating a linear combination $ z $ of model weights and sample features, only non-zero attributes of the object should be considered.\n",
    "\n",
    "Hint:\n",
    "- If you implement the calculation of the sigmoid in the same way as in the formula, then for a large negative value $ z $ the calculation of $ e ^ {- z} $ turns into a very large number that will go beyond permissible limits\n",
    "- at the same time $ e ^ {- z} $ from a large positive $z$ will be zero\n",
    "- use properties of the sigmoid function $\\sigma$  to fix this."
   ]
  },
  {
   "cell_type": "code",
   "execution_count": 10,
   "metadata": {},
   "outputs": [],
   "source": [
    "def sigmoid(x):\n",
    "    \"\"\"Numerically-stable sigmoid function.\"\"\"\n",
    "    if x >= 0:\n",
    "        return 1 / (1 + np.exp(-x))\n",
    "    else:\n",
    "        z = np.exp(x)\n",
    "        return z / (1 + z)"
   ]
  },
  {
   "cell_type": "code",
   "execution_count": 48,
   "metadata": {
    "ExecuteTime": {
     "end_time": "2018-11-12T21:14:49.354033Z",
     "start_time": "2018-11-12T21:14:49.324043Z"
    },
    "code_folding": []
   },
   "outputs": [],
   "source": [
    "class LogRegressor():\n",
    "    def __init__(self, tags):  \n",
    "        \"\"\"LogRegressor class constructor\n",
    "    \n",
    "        Parameters\n",
    "        ----------\n",
    "        tags: list of string\n",
    "        \"\"\"\n",
    "        self.__version__ = 'v0.3'\n",
    "        # `set` will drop duplicated tags\n",
    "        self._tags = set(tags)\n",
    "        \n",
    "        # A dictionary that contains the mapping of sentence words and tags into indexes (to save memory)\n",
    "        # example: self._vocab ['exception'] = 17 means that the word \"exception\" has an index of 17\n",
    "        self._vocab = {} #defaultdict(lambda: len(self._vocab))\n",
    "        \n",
    "        # parameters of the model: weights\n",
    "        # for each class/tag we need to store its own vector of weights\n",
    "        # By default, all weights will be zero\n",
    "        # we do not know in advance how many scales we will need\n",
    "        # so for each class we create a dictionary of a variable size with a default value of 0\n",
    "        # example: self._w['java'][self._vocab['exception']] contains a weight for word exception and tag java\n",
    "        self._w = dict([(t, defaultdict(int)) for t in self._tags])\n",
    "        \n",
    "        # parameters of the model: bias term or w_0 weight\n",
    "        self._b = dict([(t, 0) for t in self._tags])\n",
    "    \n",
    "    def update_vocab(self, words_list):\n",
    "        \"\"\"Update vocab with new words from words_list\n",
    "        \n",
    "        Parameters\n",
    "        ----------\n",
    "        words_list: list of strings\n",
    "        \"\"\"\n",
    "        for word in words_list:\n",
    "            # every new word will get index=len(self._vocab)\n",
    "            # so at the end of training all words will be numbered from 1 to len(self._vocab)+1\n",
    "            if word not in self._vocab:\n",
    "                self._vocab[word] = len(self._vocab)+1\n",
    "    \n",
    "    def generate_vocab(self, df, column_name):\n",
    "        \"\"\"Build vocabulary from a dataframe column which contain lists of words.\n",
    "        \n",
    "        Parameters\n",
    "        ----------\n",
    "        df: pandas.Dataframe\n",
    "        \n",
    "        column_name: string\n",
    "        \"\"\"\n",
    "        if column_name not in df.columns:\n",
    "            raise ValueError(f\"DataFrame doesnt have '{column_name}' column!\")\n",
    "        df[column_name].map(self.update_vocab)\n",
    "\n",
    "    def fit_sample(self, sample):\n",
    "        \"\"\"Fit single sample\n",
    "\n",
    "        Parameters\n",
    "        ----------\n",
    "        sample: pandas.Series\n",
    "            a dict-like object which contains a question and its tags\n",
    "\n",
    "        Returns\n",
    "        -------\n",
    "        pandas.Series object with metrics for sample\n",
    "        \"\"\"\n",
    "        # sample.name is value from df.index aka row number\n",
    "        sample_id = sample.name\n",
    "        question = sample['question']\n",
    "        tags = set(sample['tags'])\n",
    "        \n",
    "        sample_loss = 0\n",
    "        \n",
    "        # derive the gradients for each tag\n",
    "        for tag in self._tags:\n",
    "            # target is 1 if this sample has the tag \n",
    "            y = int(tag in tags)\n",
    "            # calculate a linear combination of weights and features\n",
    "            # HERE'S YOUR CODE\n",
    "            z = self._b[tag]\n",
    "            \n",
    "            for word in question:\n",
    "                # in the test mode, ignore the words that are not in the vocabulary\n",
    "                if sample_id >= self.top_n_train and  word not in self._vocab:\n",
    "                    continue\n",
    "                # HERE'S YOUR CODE\n",
    "                z += self._w[tag][self._vocab[word]]\n",
    "                \n",
    "            # calculate the probability of tag \n",
    "            # HERE'S YOUR CODE\n",
    "            sigma = sigmoid(z) \n",
    "            \n",
    "            # update the value of the loss function for this sample\n",
    "            # HERE'S YOUR CODE\n",
    "#             bounded_sigma = max(self.tolerance, min(1 - self.tolerance, sigma))\n",
    "            if y == 1:\n",
    "                bounded_sigma = max(self.tolerance, sigma)\n",
    "                sample_loss += -np.log(bounded_sigma)\n",
    "            else:\n",
    "                bounded_sigma = min(1 - self.tolerance, sigma)\n",
    "                sample_loss += -np.log(1-bounded_sigma)\n",
    "                \n",
    "            # If the sample belongs to the training part, update the model weights\n",
    "            if sample_id < self.top_n_train:\n",
    "                # compute the log-likelihood derivative by weight\n",
    "                # HERE'S YOUR CODE\n",
    "                dLdw = (y - sigma)\n",
    "                \n",
    "                # make gradient descent step\n",
    "                # We minimize negative log-likelihood (second minus sign)\n",
    "                # so we go to the opposite direction of the gradient to minimize it (the first minus sign)\n",
    "                delta = self.learning_rate * dLdw\n",
    "                for word in question:\n",
    "                    idx = self._vocab[word]\n",
    "                    self._w[tag][idx] -= -delta\n",
    "                self._b[tag] -= -delta\n",
    "                \n",
    "        if (sample_id+1) % self.show_period == 0:\n",
    "            n = sample_id+1 #+ self.show_period\n",
    "            clear_output(wait=True)\n",
    "            print('LogRegressor {} | {} ({:.2f}%) samples fitted.'.format(\n",
    "                self.__version__, n, 100 * n / self.total_len))\n",
    "            \n",
    "        return pd.Series({'loss': sample_loss})\n",
    "    \n",
    "    def fit_dataframe(self, df, top_n_train=60000, learning_rate=0.1, tolerance=1e-16):\n",
    "        \"\"\"One run through dataframe\n",
    "\n",
    "        Parameters\n",
    "        ----------\n",
    "        df : pandas.DataFrame\n",
    "            pandas DataFrame with question and tags data\n",
    "\n",
    "        top_n_train : int\n",
    "            first top_n_train samples will be used for training, the remaining samples are for the test\n",
    "            default=60000\n",
    "\n",
    "        learning_rate : float \n",
    "            gradient descent training speed\n",
    "            default=0.1\n",
    "\n",
    "        tolerance : float \n",
    "            used for bounding the values of logarithm argument\n",
    "            default=1e-16\n",
    "\n",
    "        Returns\n",
    "        -------\n",
    "        pandas.DataFrame with metrics for each sample\n",
    "        \"\"\"\n",
    "        self.total_len = df.shape[0]\n",
    "        self.top_n_train = top_n_train\n",
    "        self.learning_rate = learning_rate\n",
    "        self.tolerance = tolerance\n",
    "        \n",
    "        if self.top_n_train > self.total_len:\n",
    "            print(\"Warning! 'top_n_train' more than dataframe rows count!\\n\"\n",
    "                  \"Set default 'top_n_train'=60000\")\n",
    "            self.top_n_train = 60000\n",
    "        \n",
    "        # generating self._vocab\n",
    "#         self.generate_vocab(df.loc[:60000], column_name='question')\n",
    "\n",
    "        self.generate_vocab(df, column_name='question')\n",
    "        # Show progress every self.show_period sample, 1% by default\n",
    "        self.show_period = self.total_len // 20\n",
    "        # apply self.fit_sample to each row (sample) of dataframe\n",
    "        self.metrics = df.apply(self.fit_sample, axis=1)\n",
    "        return self.metrics"
   ]
  },
  {
   "cell_type": "code",
   "execution_count": 49,
   "metadata": {
    "ExecuteTime": {
     "end_time": "2018-11-12T21:17:11.916995Z",
     "start_time": "2018-11-12T21:14:49.651937Z"
    },
    "scrolled": true
   },
   "outputs": [
    {
     "name": "stdout",
     "output_type": "stream",
     "text": [
      "LogRegressor v0.3 | 70000 (100.00%) samples fitted.\n",
      "CPU times: user 9min 48s, sys: 2.24 s, total: 9min 51s\n",
      "Wall time: 10min 45s\n"
     ]
    }
   ],
   "source": [
    "%%time\n",
    "model = LogRegressor(tags=top_tags)\n",
    "# by default, we will train on first 60k samples, and test on last 10k\n",
    "metrics = model.fit_dataframe(df)"
   ]
  },
  {
   "cell_type": "markdown",
   "metadata": {},
   "source": [
    "Let's check if the value of negative logarithmic likelihood has actually decreased. Since we are using stochastic gradient descent, we should not expect a smooth fall of the loss function. We will use a moving average with a window of 10,000 examples to smooth the graph."
   ]
  },
  {
   "cell_type": "code",
   "execution_count": 50,
   "metadata": {},
   "outputs": [
    {
     "data": {
      "text/html": [
       "<div>\n",
       "<style scoped>\n",
       "    .dataframe tbody tr th:only-of-type {\n",
       "        vertical-align: middle;\n",
       "    }\n",
       "\n",
       "    .dataframe tbody tr th {\n",
       "        vertical-align: top;\n",
       "    }\n",
       "\n",
       "    .dataframe thead th {\n",
       "        text-align: right;\n",
       "    }\n",
       "</style>\n",
       "<table border=\"1\" class=\"dataframe\">\n",
       "  <thead>\n",
       "    <tr style=\"text-align: right;\">\n",
       "      <th></th>\n",
       "      <th>loss</th>\n",
       "    </tr>\n",
       "  </thead>\n",
       "  <tbody>\n",
       "    <tr>\n",
       "      <th>0</th>\n",
       "      <td>2.4134e-11</td>\n",
       "    </tr>\n",
       "    <tr>\n",
       "      <th>1</th>\n",
       "      <td>8.2889</td>\n",
       "    </tr>\n",
       "    <tr>\n",
       "      <th>2</th>\n",
       "      <td>5.86224</td>\n",
       "    </tr>\n",
       "    <tr>\n",
       "      <th>3</th>\n",
       "      <td>5.80809</td>\n",
       "    </tr>\n",
       "    <tr>\n",
       "      <th>4</th>\n",
       "      <td>1.75791</td>\n",
       "    </tr>\n",
       "  </tbody>\n",
       "</table>\n",
       "</div>"
      ],
      "text/plain": [
       "        loss\n",
       "0 2.4134e-11\n",
       "1     8.2889\n",
       "2    5.86224\n",
       "3    5.80809\n",
       "4    1.75791"
      ]
     },
     "execution_count": 50,
     "metadata": {},
     "output_type": "execute_result"
    }
   ],
   "source": [
    "metrics.head()"
   ]
  },
  {
   "cell_type": "markdown",
   "metadata": {},
   "source": [
    "**Spolier** to save your time: if you get such a graph of the loss function, it's OK. \n",
    "\n",
    "<img src='../img/assignment8_loss.png' width=40%>"
   ]
  },
  {
   "cell_type": "code",
   "execution_count": 51,
   "metadata": {
    "ExecuteTime": {
     "end_time": "2018-11-12T21:17:12.104994Z",
     "start_time": "2018-11-12T21:17:11.928979Z"
    }
   },
   "outputs": [
    {
     "data": {
      "image/png": "[encoded data removed]",
      "text/plain": [
       "<Figure size 432x288 with 1 Axes>"
      ]
     },
     "metadata": {
      "needs_background": "light"
     },
     "output_type": "display_data"
    }
   ],
   "source": [
    "plt.plot(pd.Series(metrics['loss'][:-10000]).rolling(10000).mean());"
   ]
  },
  {
   "cell_type": "code",
   "execution_count": 52,
   "metadata": {
    "ExecuteTime": {
     "end_time": "2018-11-12T21:17:12.116004Z",
     "start_time": "2018-11-12T21:17:12.107994Z"
    }
   },
   "outputs": [
    {
     "name": "stdout",
     "output_type": "stream",
     "text": [
      "Mean of the loss function on the last 10k TRAIN samples: 21.59\n"
     ]
    }
   ],
   "source": [
    "last_10k_train_loss = np.mean(metrics['loss'][-20000:-10000]) \n",
    "print(f'Mean of the loss function on the last 10k TRAIN samples: {last_10k_train_loss:.2f}')"
   ]
  },
  {
   "cell_type": "markdown",
   "metadata": {},
   "source": [
    "**<font color=\"red\">Question 3:</font> What's the average value of the cost function for the last 10000 examples of the training set?**\n",
    "\n",
    "*For discussions, please stick to [ODS Slack](https://opendatascience.slack.com/), channel #mlcourse_ai, pinned thread __#a8_q3__*\n",
    "\n",
    "**<font color=\"red\">Answer options:</font>**\n",
    "1. 18.31\n",
    "2. 19.86\n",
    "3. 21.74\n",
    "4. 26.43"
   ]
  },
  {
   "cell_type": "markdown",
   "metadata": {},
   "source": [
    "\n",
    "## <font color=\"red\"> ACHTUNG! </font>\n",
    "\n",
    "\n",
    "I am actually done with this little error i get. I tried to change a lot of things in the code but i still dont know why my results in **every** exercise is slightly different. If you have any suggestions just write to me. But for now i will continue as it is!"
   ]
  },
  {
   "cell_type": "markdown",
   "metadata": {
    "collapsed": true
   },
   "source": [
    "## 4. Model testing\n",
    "\n",
    "In the base model, the first 60k rows are used for training, and the remaining ones are used as a test set. As you can see, the value of negative log-likelihood is not very informative, although it allows you to compare different models. In the fourth task, you need to modify the base model so that the `fit_dataframe` method calculates the value of _accuracy_ on the test portion of the dataset for every sample.\n",
    "\n",
    "The accuracy is defined as following:\n",
    "- consider that the question has a tag if the predicted probability of the tag is greater than 0.9\n",
    "- the accuracy of one example is calculated as [Jaccard coefficient](https://en.wikipedia.org/wiki/Jaccard_index) between the set of real tags and tags predicted by the model\n",
    "  - for example, if the sample has real tags ['html', 'jquery'], and according to the model they are ['ios', 'html', 'java'], then the Jaccard coefficient will be |['html', 'jquery'] $\\cap$ ['ios', 'html', 'java']| / |['html', 'jquery'] $\\cup$ ['ios', 'html', 'java']| = |['html']| / |['jquery', 'ios', 'html', 'java']| = 1/4\n",
    "- `fit_dataframe` method returns _pd.DataFrame_ with column _Jaccard_ \n",
    "- For answer you need to calculate **average (mean)** accuracy on _Jaccard_ column on the test set"
   ]
  },
  {
   "cell_type": "markdown",
   "metadata": {},
   "source": [
    "<font color=\"red\">Modified class:</font>"
   ]
  },
  {
   "cell_type": "code",
   "execution_count": 54,
   "metadata": {
    "ExecuteTime": {
     "end_time": "2018-11-12T21:17:12.135997Z",
     "start_time": "2018-11-12T21:17:12.117991Z"
    },
    "code_folding": []
   },
   "outputs": [],
   "source": [
    "class LogRegressor():\n",
    "    def __init__(self, tags): \n",
    "        self.__version__ = 'v0.4'\n",
    "        self._tags = set(tags)\n",
    "        self._vocab = {}\n",
    "        self._w = dict([(t, defaultdict(int)) for t in tags])\n",
    "        self._b = dict([(t, 0) for t in tags])\n",
    "    \n",
    "    def update_vocab(self, words_list):\n",
    "        for word in words_list:\n",
    "            if word not in self._vocab:\n",
    "                self._vocab[word] = len(self._vocab)\n",
    "    \n",
    "    def generate_vocab(self, df, column_name):\n",
    "        if column_name not in df.columns:\n",
    "            raise ValueError(\"DataFrame doesnt have '{}' column!\")\n",
    "        df[column_name].map(self.update_vocab)\n",
    "\n",
    "    def fit_sample(self, sample):\n",
    "        sample_id = sample.name\n",
    "        question = sample['question']\n",
    "        tags = set(sample['tags'])\n",
    "    \n",
    "        sample_loss = 0\n",
    "        predicted_tags = None\n",
    "\n",
    "        for tag in self._tags:\n",
    "            y = int(tag in tags)\n",
    "            # HERE'S YOUR CODE\n",
    "            # z = ...\n",
    "            z = self._b[tag]\n",
    "\n",
    "            for word in question:\n",
    "                is_word_unknown = word not in self._vocab\n",
    "                if sample_id >= self.top_n_train and is_word_unknown:\n",
    "                    continue\n",
    "                # HERE'S YOUR CODE\n",
    "                # z += ...\n",
    "                z += self._w[tag][self._vocab[word]]\n",
    "                \n",
    "            # HERE'S YOUR CODE\n",
    "            # sigma = ...\n",
    "            sigma = sigmoid(z) \n",
    "            \n",
    "            # HERE'S YOUR CODE\n",
    "            # sample_loss += ...\n",
    "            if y == 1:\n",
    "                bounded_sigma = max(self.tolerance, sigma)\n",
    "                sample_loss += -np.log(bounded_sigma)\n",
    "            else:\n",
    "                bounded_sigma = min(1 - self.tolerance, sigma)\n",
    "                sample_loss += -np.log(1-bounded_sigma)\n",
    "            \n",
    "            if sample_id < self.top_n_train:\n",
    "                # HERE'S YOUR CODE\n",
    "                # dLdw = ...\n",
    "                dLdw = (y - sigma)\n",
    "                \n",
    "                delta = self.learning_rate*dLdw\n",
    "                for word in question:                        \n",
    "                    self._w[tag][self._vocab[word]] -= -delta\n",
    "                self._b[tag] -= -delta\n",
    "            else:\n",
    "                if predicted_tags is None:\n",
    "                    predicted_tags = []\n",
    "                # HERE'S YOUR CODE\n",
    "                # if sigma... :\n",
    "                #     predicted_tags...\n",
    "                if sigma > self.accuracy_level:\n",
    "                    predicted_tags.append(tag)\n",
    "\n",
    "        if sample_id % self.show_period == 0:\n",
    "            n = sample_id + self.show_period\n",
    "            clear_output(wait=True)\n",
    "            print('LogRegressor {} | {} ({:.2f}%) samples fitted.'.format(\n",
    "                self.__version__,\n",
    "                n, \n",
    "                100 * n / self.total_len))\n",
    "        if predicted_tags is not None:\n",
    "            predicted_tags_set = set(predicted_tags)\n",
    "            # HERE'S YOUR CODE\n",
    "            # Jaccard = ...\n",
    "            Jaccard = len(predicted_tags_set & tags) / len(predicted_tags_set | tags)\n",
    "            \n",
    "            return pd.Series({'loss': sample_loss, 'Jaccard': Jaccard})\n",
    "        else:\n",
    "            return pd.Series({'loss': sample_loss, 'Jaccard': np.NaN})\n",
    "\n",
    "    \n",
    "    def fit_dataframe(self, df, top_n_train=60000,  learning_rate=0.1,\n",
    "                      tolerance=1e-16, accuracy_level=0.9):\n",
    "        self.total_len = df.shape[0]\n",
    "        self.top_n_train = top_n_train\n",
    "        self.learning_rate = learning_rate\n",
    "        self.tolerance = tolerance\n",
    "        self.accuracy_level = accuracy_level\n",
    "        \n",
    "        if self.top_n_train > self.total_len:\n",
    "            print(\"Warning! 'top_n_train' more than dataframe rows count!\\n\"\n",
    "                  \"Set default 'top_n_train'=60000\")\n",
    "            self.top_n_train = 60000\n",
    "        \n",
    "        self.generate_vocab(df, column_name='question')\n",
    "        self.show_period = self.total_len // 100\n",
    "        self.metrics = df.apply(self.fit_sample, axis=1)\n",
    "        return self.metrics"
   ]
  },
  {
   "cell_type": "code",
   "execution_count": 55,
   "metadata": {
    "ExecuteTime": {
     "end_time": "2018-11-12T21:19:34.050653Z",
     "start_time": "2018-11-12T21:17:12.136994Z"
    }
   },
   "outputs": [
    {
     "name": "stdout",
     "output_type": "stream",
     "text": [
      "LogRegressor v0.4 | 70000 (100.00%) samples fitted.\n",
      "CPU times: user 10min 5s, sys: 2.24 s, total: 10min 7s\n",
      "Wall time: 11min 14s\n"
     ]
    }
   ],
   "source": [
    "%%time\n",
    "model = LogRegressor(tags=top_tags)\n",
    "metrics = model.fit_dataframe(df)"
   ]
  },
  {
   "cell_type": "code",
   "execution_count": 56,
   "metadata": {
    "ExecuteTime": {
     "end_time": "2018-11-12T21:19:34.060546Z",
     "start_time": "2018-11-12T21:19:34.051636Z"
    }
   },
   "outputs": [
    {
     "data": {
      "text/html": [
       "<div>\n",
       "<style scoped>\n",
       "    .dataframe tbody tr th:only-of-type {\n",
       "        vertical-align: middle;\n",
       "    }\n",
       "\n",
       "    .dataframe tbody tr th {\n",
       "        vertical-align: top;\n",
       "    }\n",
       "\n",
       "    .dataframe thead th {\n",
       "        text-align: right;\n",
       "    }\n",
       "</style>\n",
       "<table border=\"1\" class=\"dataframe\">\n",
       "  <thead>\n",
       "    <tr style=\"text-align: right;\">\n",
       "      <th></th>\n",
       "      <th>loss</th>\n",
       "      <th>Jaccard</th>\n",
       "    </tr>\n",
       "  </thead>\n",
       "  <tbody>\n",
       "    <tr>\n",
       "      <th>0</th>\n",
       "      <td>2.4134e-11</td>\n",
       "      <td>nan</td>\n",
       "    </tr>\n",
       "    <tr>\n",
       "      <th>1</th>\n",
       "      <td>8.2889</td>\n",
       "      <td>nan</td>\n",
       "    </tr>\n",
       "    <tr>\n",
       "      <th>2</th>\n",
       "      <td>5.86224</td>\n",
       "      <td>nan</td>\n",
       "    </tr>\n",
       "    <tr>\n",
       "      <th>3</th>\n",
       "      <td>5.80809</td>\n",
       "      <td>nan</td>\n",
       "    </tr>\n",
       "    <tr>\n",
       "      <th>4</th>\n",
       "      <td>1.75791</td>\n",
       "      <td>nan</td>\n",
       "    </tr>\n",
       "  </tbody>\n",
       "</table>\n",
       "</div>"
      ],
      "text/plain": [
       "        loss  Jaccard\n",
       "0 2.4134e-11      nan\n",
       "1     8.2889      nan\n",
       "2    5.86224      nan\n",
       "3    5.80809      nan\n",
       "4    1.75791      nan"
      ]
     },
     "execution_count": 56,
     "metadata": {},
     "output_type": "execute_result"
    }
   ],
   "source": [
    "metrics.head()"
   ]
  },
  {
   "cell_type": "code",
   "execution_count": 57,
   "metadata": {
    "ExecuteTime": {
     "end_time": "2018-11-12T21:19:34.084203Z",
     "start_time": "2018-11-12T21:19:34.062535Z"
    }
   },
   "outputs": [
    {
     "name": "stdout",
     "output_type": "stream",
     "text": [
      "Mean Jaccard accuracy: 0.63\n"
     ]
    }
   ],
   "source": [
    "# HERE'S YOUR CODE\n",
    "# accuracy = ...\n",
    "accuracy = np.mean(metrics['Jaccard'][-10000:])\n",
    "print('Mean Jaccard accuracy: {:.2f}'.format(accuracy))"
   ]
  },
  {
   "cell_type": "markdown",
   "metadata": {
    "collapsed": true
   },
   "source": [
    "**<font color=\"red\">Question 4:</font> What is the mean Jaccard accuracy for the test set?**\n",
    "\n",
    "*For discussions, please stick to [ODS Slack](https://opendatascience.slack.com/), channel #mlcourse_ai, pinned thread __#a8_q4__*\n",
    "\n",
    "**<font color=\"red\">Answer options:</font>**\n",
    "1. 0.31\n",
    "2. 0.41\n",
    "3. 0.51\n",
    "4. 0.61"
   ]
  },
  {
   "cell_type": "markdown",
   "metadata": {
    "collapsed": true
   },
   "source": [
    "## 5. $L_2$-regularization\n",
    "\n",
    "In the fifth task, you need to add $ L_2 $-regularization to the `LogRegressor` class. In the `fit_sample` method, the `lambda_ = 0.01` parameter with the default value should appear (we call this argument `lambda_` (with underscore) because `lambda` (without underscore) is a reserved Python name). Taking into account regularization, the new cost function takes the form:\n",
    "\n",
    "$$\\large \\begin{array}{rcl}\n",
    "L &=& -\\mathcal{L} + \\frac{\\lambda}{2} R\\left(W\\right) \\\\\n",
    "&=& -\\mathcal{L} + \\frac{\\lambda}{2} \\sum_{k=1}^K\\sum_{i=1}^d w_{ki}^2\n",
    "\\end{array}$$\n",
    "\n",
    "We have already derived the gradient of the first term of the sum, and for the second one it looks like:\n",
    "\n",
    "$$\\large \\begin{array}{rcl}\n",
    "\\frac{\\partial}{\\partial w_{ki}} \\frac{\\lambda}{2} R\\left(W\\right) &=& \\lambda w_{ki}\n",
    "\\end{array}$$\n",
    "\n",
    "If we make an explicit update of all weights on each example, then the process will be very slow, because we have to run through every word of the vocabulary at each iteration. At the expense of the theoretical accuracy, we use a dirty trick: we regularize only those words that are present in the current sentence. Do not forget that the bias term is not regularized. `sample_loss` should also remain unchanged."
   ]
  },
  {
   "cell_type": "markdown",
   "metadata": {},
   "source": [
    "<font color=\"red\">Modified class:</font>"
   ]
  },
  {
   "cell_type": "code",
   "execution_count": 58,
   "metadata": {
    "ExecuteTime": {
     "end_time": "2018-11-12T21:19:34.102197Z",
     "start_time": "2018-11-12T21:19:34.085202Z"
    }
   },
   "outputs": [],
   "source": [
    "class LogRegressor():\n",
    "    def __init__(self, tags): \n",
    "        self.__version__ = 'v0.5'\n",
    "        self._tags = set(tags)\n",
    "        self._vocab = {}\n",
    "        self._w = dict([(t, defaultdict(int)) for t in tags])\n",
    "        self._b = dict([(t, 0) for t in tags])\n",
    "    \n",
    "    def update_vocab(self, words_list):\n",
    "        for word in words_list:\n",
    "            if word not in self._vocab:\n",
    "                self._vocab[word] = len(self._vocab)\n",
    "    \n",
    "    def generate_vocab(self, df, column_name):\n",
    "        if column_name not in df.columns:\n",
    "            raise ValueError(\"DataFrame doesnt have '{}' column!\")\n",
    "        df[column_name].map(self.update_vocab)\n",
    "\n",
    "    def fit_sample(self, sample):\n",
    "        sample_id = sample.name\n",
    "        question = sample['question']\n",
    "        tags = set(sample['tags'])\n",
    "        sample_loss = 0\n",
    "        predicted_tags = None\n",
    "\n",
    "        for tag in self._tags:\n",
    "            y = int(tag in tags)\n",
    "            # HERE'S YOUR CODE\n",
    "            # z = ...\n",
    "            z = self._b[tag]\n",
    "\n",
    "            for word in question:\n",
    "                is_word_unknown = word not in self._vocab\n",
    "                if sample_id >= self.top_n_train and is_word_unknown:\n",
    "                    continue\n",
    "                # HERE'S YOUR CODE\n",
    "                # z += ...\n",
    "                z += self._w[tag][self._vocab[word]]\n",
    "            \n",
    "            # HERE'S YOUR CODE\n",
    "            # sigma = ...\n",
    "            sigma = sigmoid(z)\n",
    "            \n",
    "            # HERE'S YOUR CODE\n",
    "            # sample_loss += ...\n",
    "            if y == 1:\n",
    "                bounded_sigma = max(self.tolerance, sigma)\n",
    "                sample_loss += -np.log(bounded_sigma)\n",
    "            else:\n",
    "                bounded_sigma = min(1 - self.tolerance, sigma)\n",
    "                sample_loss += -np.log(1-bounded_sigma)\n",
    "                \n",
    "            if sample_id < self.top_n_train:\n",
    "                # HERE'S YOUR CODE\n",
    "                # dLdw = ...\n",
    "                dLdw = (y - sigma)\n",
    "                \n",
    "                delta = self.learning_rate*dLdw\n",
    "                for word in question:\n",
    "                    # HERE'S YOUR CODE\n",
    "                    # self._w[tag][self._vocab[word]] -= (- delta...\n",
    "                    reg = self.learning_rate*self.lambda_*self._w[tag][self._vocab[word]]\n",
    "                    self._w[tag][self._vocab[word]] -= (-delta + reg)\n",
    "                self._b[tag] -= -delta\n",
    "            else:\n",
    "                if predicted_tags is None:\n",
    "                    predicted_tags = []\n",
    "                # HERE'S YOUR CODE\n",
    "                # if sigma... :\n",
    "                #     predicted_tags...\n",
    "                if sigma > self.accuracy_level:\n",
    "                    predicted_tags.append(tag)\n",
    "\n",
    "        if sample_id % self.show_period == 0:\n",
    "            n = sample_id + self.show_period\n",
    "            clear_output(wait=True)\n",
    "            print('LogRegressor {} | {} ({:.2f}%) samples fitted.'.format(\n",
    "                self.__version__,\n",
    "                n, \n",
    "                100 * n / self.total_len))\n",
    "        if predicted_tags is not None:\n",
    "            # HERE'S YOUR CODE\n",
    "            # Jaccard = ...\n",
    "            predicted_tags_set = set(predicted_tags)\n",
    "            Jaccard = len(predicted_tags_set & tags) / len(predicted_tags_set | tags)\n",
    "            \n",
    "            return pd.Series({'loss': sample_loss, 'Jaccard': Jaccard})\n",
    "        else:\n",
    "            return pd.Series({'loss': sample_loss, 'Jaccard': np.NaN})\n",
    "\n",
    "    \n",
    "    def fit_dataframe(self, \n",
    "                      df,\n",
    "                      top_n_train=60000, \n",
    "                      learning_rate=0.1,\n",
    "                      tolerance=1e-16,\n",
    "                      accuracy_level=0.9,\n",
    "                      lambda_=0.01):\n",
    "        self.total_len = df.shape[0]\n",
    "        self.top_n_train = top_n_train\n",
    "        self.learning_rate = learning_rate\n",
    "        self.tolerance = tolerance\n",
    "        self.accuracy_level = accuracy_level\n",
    "        self.lambda_ = lambda_\n",
    "\n",
    "        if self.top_n_train > self.total_len:\n",
    "            print(\"Warning! 'top_n_train' more than dataframe rows count!\\n\"\n",
    "                  \"Set default 'top_n_train'=60000\")\n",
    "            self.top_n_train = 60000\n",
    "        \n",
    "        self.generate_vocab(df, column_name='question')\n",
    "        self.show_period = self.total_len // 100\n",
    "        self.metrics = df.apply(self.fit_sample, axis=1)\n",
    "        return self.metrics"
   ]
  },
  {
   "cell_type": "code",
   "execution_count": 59,
   "metadata": {
    "ExecuteTime": {
     "end_time": "2018-11-12T21:22:47.257582Z",
     "start_time": "2018-11-12T21:19:34.149186Z"
    }
   },
   "outputs": [
    {
     "name": "stdout",
     "output_type": "stream",
     "text": [
      "LogRegressor v0.5 | 70000 (100.00%) samples fitted.\n",
      "CPU times: user 13min 55s, sys: 2.36 s, total: 13min 57s\n",
      "Wall time: 14min 50s\n"
     ]
    }
   ],
   "source": [
    "%%time\n",
    "model = LogRegressor(tags=top_tags)\n",
    "metrics = model.fit_dataframe(df)"
   ]
  },
  {
   "cell_type": "code",
   "execution_count": 60,
   "metadata": {
    "ExecuteTime": {
     "end_time": "2018-11-12T21:22:47.407541Z",
     "start_time": "2018-11-12T21:22:47.259567Z"
    }
   },
   "outputs": [
    {
     "name": "stdout",
     "output_type": "stream",
     "text": [
      "0.55\n",
      "Mean of the loss function on the last 10k TRAIN samples: 19.40\n"
     ]
    },
    {
     "data": {
      "image/png": "[encoded data removed]",
      "text/plain": [
       "<Figure size 432x288 with 1 Axes>"
      ]
     },
     "metadata": {
      "needs_background": "light"
     },
     "output_type": "display_data"
    }
   ],
   "source": [
    "# HERE'S YOUR CODE\n",
    "# accuracy = ...\n",
    "accuracy = np.mean(metrics['Jaccard'][-10000:])\n",
    "print('{:.2f}'.format(accuracy))\n",
    "plot = plt.plot(pd.Series(metrics['loss'][:-10000]).rolling(10000).mean())\n",
    "last_10k_train_loss = np.mean(metrics['loss'][-20000:-10000]) \n",
    "print(f'Mean of the loss function on the last 10k TRAIN samples: {last_10k_train_loss:.2f}')"
   ]
  },
  {
   "cell_type": "markdown",
   "metadata": {},
   "source": [
    "**<font color=\"red\">Question 5:</font> What's the average value of Jaccard accuracy in case of $L_2$-regularization?**\n",
    "\n",
    "*For discussions, please stick to [ODS Slack](https://opendatascience.slack.com/), channel #mlcourse_ai, pinned thread __#a8_q5__*\n",
    "\n",
    "**<font color=\"red\">Answer options:</font>**\n",
    "1. 0.32\n",
    "2. 0.38\n",
    "3. 0.48\n",
    "4. 0.52 "
   ]
  },
  {
   "cell_type": "markdown",
   "metadata": {},
   "source": [
    "## 6. ElasticNet regularization, derivation\n",
    "In addition to $ L_2 $ regularization, $ L_1 $ regularization is often used.\n",
    "\n",
    "$$\\large \\begin{array}{rcl}\n",
    "L &=& -\\mathcal{L} + \\lambda R\\left(W\\right) \\\\\n",
    "&=& -\\mathcal{L} + \\lambda \\sum_{k=1}^K\\sum_{i=1}^d \\left|w_{ki}\\right|\n",
    "\\end{array}$$\n",
    "\n",
    "If we linearly combine $ L_1 $ and $ L_2 $ regularization, then the resulting regularization type is called **ElasticNet**:\n",
    "\n",
    "$$\\large \\begin{array}{rcl}\n",
    "L &=& -\\mathcal{L} + \\lambda R\\left(W\\right) \\\\\n",
    "&=& -\\mathcal{L} + \\lambda \\left(\\gamma \\sum_{k=1}^K\\sum_{i=1}^d w_{ki}^2 + \\left(1 - \\gamma\\right) \\sum_{k=1}^K\\sum_{i=1}^d \\left|w_{ki}\\right| \\right)\n",
    "\\end{array}$$\n",
    "- where $\\gamma \\in \\left[0, 1\\right]$\n",
    "\n",
    "Here we omitted the multiplier $\\frac{1}{2}$  that we used for $L_2$-regularization.\n",
    "\n",
    "**<font color=\"red\">Question 6:</font> What's the correct formula for the gradient of the ElasticNet regularization term?**\n",
    "\n",
    "**<font color=\"red\">Answer options:</font>**\n",
    "1. $\\large \\frac{\\partial}{\\partial w_{ki}} \\lambda R\\left(W\\right) = \\lambda \\left(\\gamma w_{ki} + \\left(1 - \\gamma\\right) \\text{sign}\\left(w_{ki}\\right)\\right)$\n",
    "2. $\\large \\frac{\\partial}{\\partial w_{ki}} \\lambda R\\left(W\\right) = \\lambda \\left(2 \\gamma w_{ki} + \\left(1 - \\gamma\\right) w_{ki}\\right)$ \n",
    "3. $\\large \\frac{\\partial}{\\partial w_{ki}} \\lambda R\\left(W\\right) = \\lambda \\left(2 \\gamma w_{ki} + \\left(1 - \\gamma\\right) \\text{sign}\\left(w_{ki}\\right)\\right)$\n",
    "4. $\\large \\frac{\\partial}{\\partial w_{ki}} \\lambda R\\left(W\\right) = \\lambda \\left(2 \\gamma \\left|w_{ki}\\right| + \\left(1 - \\gamma\\right) \\text{sign}\\left(w_{ki}\\right)\\right)$"
   ]
  },
  {
   "cell_type": "markdown",
   "metadata": {},
   "source": [
    "**Answer:**\n",
    "3. $\\large \\frac{\\partial}{\\partial w_{ki}} \\lambda R\\left(W\\right) = \\lambda \\left(2 \\gamma w_{ki} + \\left(1 - \\gamma\\right) \\text{sign}\\left(w_{ki}\\right)\\right)$"
   ]
  },
  {
   "cell_type": "markdown",
   "metadata": {},
   "source": [
    "## 7. ElasticNet regularization, implementation\n",
    "\n",
    "In the seventh task you are supposed to change the class `LogRegressor` so that the` fit_dataframe` method takes two parameters with default values `lambda = 0.001` and `gamma = 0.1`. Do one pass through the dataset with ElasticNet regularization and default parameter values and answer the question."
   ]
  },
  {
   "cell_type": "markdown",
   "metadata": {},
   "source": [
    "<font color=\"red\">Modified class:</font>"
   ]
  },
  {
   "cell_type": "code",
   "execution_count": 63,
   "metadata": {
    "ExecuteTime": {
     "end_time": "2018-11-12T21:39:10.815508Z",
     "start_time": "2018-11-12T21:39:10.797514Z"
    },
    "code_folding": []
   },
   "outputs": [],
   "source": [
    "class LogRegressor():\n",
    "    def __init__(self, tags): \n",
    "        self.__version__ = 'v0.7'\n",
    "        self._tags = set(tags)\n",
    "        self._vocab = {}\n",
    "        self._w = dict([(t, defaultdict(int)) for t in tags])\n",
    "        self._b = dict([(t, 0) for t in tags])\n",
    "    \n",
    "    def update_vocab(self, words_list):\n",
    "        for word in words_list:\n",
    "            if word not in self._vocab:\n",
    "                self._vocab[word] = len(self._vocab)\n",
    "    \n",
    "    def generate_vocab(self, df, column_name):\n",
    "        if column_name not in df.columns:\n",
    "            raise ValueError(\"DataFrame doesnt have '{}' column!\")\n",
    "        df[column_name].map(self.update_vocab)\n",
    "\n",
    "    def fit_sample(self, sample):\n",
    "        sample_id = sample.name\n",
    "        question = sample['question']\n",
    "        tags = set(sample['tags'])\n",
    "        sample_loss = 0\n",
    "        predicted_tags = None\n",
    "\n",
    "        for tag in self._tags:\n",
    "            y = int(tag in tags)\n",
    "            # HERE'S YOUR CODE\n",
    "            # z = ...\n",
    "            z = self._b[tag]\n",
    "\n",
    "            for word in question:\n",
    "                is_word_unknown = word not in self._vocab\n",
    "                if sample_id >= self.top_n_train and is_word_unknown:\n",
    "                    continue\n",
    "                # HERE'S YOUR CODE\n",
    "                # z += ...\n",
    "                z += self._w[tag][self._vocab[word]]\n",
    "            \n",
    "            # HERE'S YOUR CODE\n",
    "            # sigma = ...\n",
    "            sigma = sigmoid(z)\n",
    "            \n",
    "            # HERE'S YOUR CODE\n",
    "            # sample_loss += ...\n",
    "            if y == 1:\n",
    "                bounded_sigma = max(self.tolerance, sigma)\n",
    "                sample_loss += -np.log(bounded_sigma)\n",
    "            else:\n",
    "                bounded_sigma = min(1 - self.tolerance, sigma)\n",
    "                sample_loss += -np.log(1-bounded_sigma)\n",
    "                \n",
    "                \n",
    "            if sample_id < self.top_n_train:\n",
    "                # HERE'S YOUR CODE\n",
    "                # dLdw = ...\n",
    "                dLdw = (y - sigma)\n",
    "                \n",
    "                delta = self.learning_rate*dLdw\n",
    "                for word in question:\n",
    "                    # HERE'S YOUR CODE\n",
    "                    # self._w[tag][self._vocab[word]] -= (- delta...\n",
    "                    w_k_i = self._w[tag][self._vocab[word]]\n",
    "                    w_sign = (1 if w_k_i > 0 else (0 if w_k_i == 0 else -1))\n",
    "                    reg = 2*self.gamma_*w_k_i  + (1-self.gamma_)*w_sign\n",
    "                    reg *= self.lambda_ * self.learning_rate\n",
    "                    self._w[tag][self._vocab[word]] -= (-delta + reg)\n",
    "                self._b[tag] -= -delta\n",
    "            else:\n",
    "                if predicted_tags is None:\n",
    "                    predicted_tags = []\n",
    "                # HERE'S YOUR CODE\n",
    "                # if sigma... :\n",
    "                #     predicted_tags...\n",
    "                if sigma > self.accuracy_level:\n",
    "                    predicted_tags.append(tag)\n",
    "\n",
    "        if sample_id % self.show_period == 0:\n",
    "            n = sample_id + self.show_period\n",
    "            clear_output(wait=True)\n",
    "            print('LogRegressor {} | {} ({:.2f}%) samples fitted.'.format(\n",
    "                self.__version__,\n",
    "                n, \n",
    "                100 * n / self.total_len))\n",
    "        if predicted_tags is not None:\n",
    "            # HERE'S YOUR CODE\n",
    "            # Jaccard = ...\n",
    "            predicted_tags_set = set(predicted_tags)\n",
    "            Jaccard = len(predicted_tags_set & tags) / len(predicted_tags_set | tags)\n",
    "            \n",
    "            return pd.Series({'loss': sample_loss, 'Jaccard': Jaccard})\n",
    "        else:\n",
    "            return pd.Series({'loss': sample_loss, 'Jaccard': np.NaN})\n",
    "\n",
    "    \n",
    "    def fit_dataframe(self, \n",
    "                      df,\n",
    "                      top_n_train=60000, \n",
    "                      learning_rate=0.1,\n",
    "                      tolerance=1e-16,\n",
    "                      accuracy_level=0.9,\n",
    "                      lambda_=0.001, \n",
    "                      gamma_=0.1):\n",
    "        self.total_len = df.shape[0]\n",
    "        self.top_n_train = top_n_train\n",
    "        self.learning_rate = learning_rate\n",
    "        self.tolerance = tolerance\n",
    "        self.accuracy_level = accuracy_level\n",
    "        self.lambda_ = lambda_\n",
    "        self.gamma_ = gamma_\n",
    "\n",
    "        if self.top_n_train > self.total_len:\n",
    "            print(\"Warning! 'top_n_train' more than dataframe rows count!\\n\"\n",
    "                  \"Set default 'top_n_train'=60000\")\n",
    "            self.top_n_train = 60000\n",
    "        \n",
    "        self.generate_vocab(df, column_name='question')\n",
    "        self.show_period = self.total_len // 100\n",
    "        self.metrics = df.apply(self.fit_sample, axis=1)\n",
    "        return self.metrics"
   ]
  },
  {
   "cell_type": "code",
   "execution_count": 64,
   "metadata": {
    "ExecuteTime": {
     "end_time": "2018-11-12T21:45:33.329289Z",
     "start_time": "2018-11-12T21:39:11.641795Z"
    }
   },
   "outputs": [
    {
     "name": "stdout",
     "output_type": "stream",
     "text": [
      "LogRegressor v0.7 | 70000 (100.00%) samples fitted.\n",
      "CPU times: user 24min 54s, sys: 5.51 s, total: 25min\n",
      "Wall time: 27min 2s\n"
     ]
    }
   ],
   "source": [
    "%%time\n",
    "model = LogRegressor(tags=top_tags)\n",
    "metrics = model.fit_dataframe(df)"
   ]
  },
  {
   "cell_type": "code",
   "execution_count": 65,
   "metadata": {
    "ExecuteTime": {
     "end_time": "2018-11-12T21:45:33.498137Z",
     "start_time": "2018-11-12T21:45:33.331289Z"
    }
   },
   "outputs": [
    {
     "name": "stdout",
     "output_type": "stream",
     "text": [
      "0.59\n",
      "Mean of the loss function on the last 10k TRAIN samples: 20.62\n"
     ]
    },
    {
     "data": {
      "image/png": "[encoded data removed]",
      "text/plain": [
       "<Figure size 432x288 with 1 Axes>"
      ]
     },
     "metadata": {
      "needs_background": "light"
     },
     "output_type": "display_data"
    }
   ],
   "source": [
    "# HERE'S YOUR CODE\n",
    "# accuracy = ...\n",
    "accuracy = np.mean(metrics['Jaccard'][-10000:])\n",
    "print('{:.2f}'.format(accuracy))\n",
    "plot = plt.plot(pd.Series(metrics['loss'][:-10000]).rolling(10000).mean())\n",
    "last_10k_train_loss = np.mean(metrics['loss'][-20000:-10000]) \n",
    "print(f'Mean of the loss function on the last 10k TRAIN samples: {last_10k_train_loss:.2f}')"
   ]
  },
  {
   "cell_type": "markdown",
   "metadata": {
    "collapsed": true
   },
   "source": [
    "**<font color=\"red\">Question 7:</font> What's the average value of Jaccard accuracy in case of ElasticNet regularization?**\n",
    "\n",
    "*For discussions, please stick to [ODS Slack](https://opendatascience.slack.com/), channel #mlcourse_ai, pinned thread __#a8_q7__*\n",
    "\n",
    "**<font color=\"red\">Answer options:</font>**\n",
    "1. 0.51\n",
    "2. 0.61\n",
    "3. 0.71\n",
    "4. 0.81"
   ]
  },
  {
   "cell_type": "markdown",
   "metadata": {},
   "source": [
    "## 8. The most important words for a tag\n",
    "\n",
    "The beauty of linear models is that they are somewhat interpretable. You are supposed to calculate which words contribute the most to the probability of each of the tags. And then answer the question."
   ]
  },
  {
   "cell_type": "code",
   "execution_count": 83,
   "metadata": {
    "ExecuteTime": {
     "end_time": "2018-11-12T21:45:36.839055Z",
     "start_time": "2018-11-12T21:45:33.501141Z"
    }
   },
   "outputs": [
    {
     "name": "stdout",
     "output_type": "stream",
     "text": [
      "Tag c# in c#'s top words: False\n",
      "\t c# : foreach, 00, asp, writeline, binding\n",
      "Tag javascript in javascript's top words: True\n",
      "\t javascript : infowindow, span, getelementbyid, 125, javascript\n",
      "Tag android in android's top words: True\n",
      "\t android : exampleproguard, 18, activity, quot, android\n",
      "Tag html in html's top words: True\n",
      "\t html : quot, font, some, span, html\n",
      "Tag python in python's top words: True\n",
      "\t python : np, django, py, def, python\n",
      "Tag ios in ios's top words: True\n",
      "\t ios : corefoundation, nil, nsstring, dylib, ios\n",
      "Tag jquery in jquery's top words: True\n",
      "\t jquery : script, val, ready, ajax, jquery\n",
      "Tag c++ in c++'s top words: True\n",
      "\t c++ : endl, _defaultimage, std, cout, c++\n",
      "Tag java in java's top words: True\n",
      "\t java : jsp, quot, spring, java, println\n",
      "Tag php in php's top words: True\n",
      "\t php : _post, echo, 125, x5c, php\n"
     ]
    }
   ],
   "source": [
    "model._vocab_inv = dict([(v, k) for (k, v) in model._vocab.items()])\n",
    "top = 5\n",
    "for tag in model._tags:\n",
    "    # HERE'S YOUR CODE\n",
    "    # top5_words = ...\n",
    "    weights = dict([(v, k) for k, v in model._w[tag].items()])\n",
    "    top5_words_w = sorted(weights.keys())[-top:]\n",
    "    top5_words_idx = [weights[w] for w in top5_words_w]\n",
    "    top5_words = [model._vocab_inv[i] for i in top5_words_idx]\n",
    "    print(f'Tag {tag} in {tag}\\'s top words: {tag in top5_words}')    \n",
    "    print('\\t', tag, ':', ', '.join(top5_words))\n"
   ]
  },
  {
   "cell_type": "markdown",
   "metadata": {},
   "source": [
    "For many tags, the presence of the tag itself in the sentence is an important signal, and for many, the tag itself is the strongest signal, which is not surprising. \n",
    "\n",
    "**<font color=\"red\">Question 8:</font> For which of the tags the tag name itself is not included in the top 5 most important words?**\n",
    "\n",
    "*For discussions, please stick to [ODS Slack](https://opendatascience.slack.com/), channel #mlcourse_ai, pinned thread __#a8_q8__*\n",
    "\n",
    "**<font color=\"red\">Answer options:</font>**\n",
    "1. android\n",
    "2. javascript\n",
    "3. jquery\n",
    "4. c#"
   ]
  },
  {
   "cell_type": "markdown",
   "metadata": {
    "collapsed": true
   },
   "source": [
    "## 9. Reducing the size of the vocabulary\n",
    "\n",
    "Now the number of words in the vocabulary is too big. If it was a sample of 10 million questions from the StackOverflow website, then the vocabulary size would've been ~ 10 million as well. You can regularize the model not only mathematically, but also simply limiting the size of the vocabulary. You are supposed to make the following changes in the class `LogRegressor`:\n",
    "- add `self._word_stats = defaultdict(int)` to `__init__` to calculate word frequencies\n",
    "- add one more argument to the `fit_dataframe` method with the default value `freeze_vocab = False`\n",
    "- when `freeze_vocab = False` allow adding words to the vocabulary and word_stats\n",
    "- when `freeze_vocab = True` ignore words which are not in the vocabulary and don't update word_stats\n",
    "- add the class method `filter_vocab (n = 10000)`, which will leave only top-n most popular words in the dictionary\n",
    "\n",
    "For first `fit_dataframe` call use `learning_rate=0.2`."
   ]
  },
  {
   "cell_type": "markdown",
   "metadata": {},
   "source": [
    "<font color=\"red\">Modified class:</font>"
   ]
  },
  {
   "cell_type": "code",
   "execution_count": 11,
   "metadata": {
    "ExecuteTime": {
     "end_time": "2018-11-12T21:45:36.879043Z",
     "start_time": "2018-11-12T21:45:36.844053Z"
    }
   },
   "outputs": [],
   "source": [
    "class LogRegressor():\n",
    "    def __init__(self, tags): \n",
    "        self.__version__ = 'v0.9'\n",
    "        self._tags = set(tags)\n",
    "        self._vocab = {}\n",
    "        self._w = dict([(t, defaultdict(int)) for t in tags])\n",
    "        self._b = dict([(t, 0) for t in tags])\n",
    "        self._word_stats = defaultdict(int)\n",
    "    \n",
    "    def update_vocab(self, words_list):\n",
    "        for word in words_list:\n",
    "            self._word_stats[word] = self._word_stats[word] + 1\n",
    "            if word not in self._vocab:\n",
    "                self._vocab[word] = len(self._vocab)\n",
    "    \n",
    "    def generate_vocab(self, df, column_name):\n",
    "        if column_name not in df.columns:\n",
    "            raise ValueError(\"DataFrame doesnt have '{}' column!\")\n",
    "        df[column_name].map(self.update_vocab)\n",
    "\n",
    "    def filter_vocab(self, n=10000):\n",
    "        top_stats = sorted(self._word_stats.values(), reverse=True)[:n]\n",
    "        \n",
    "        counter = 0\n",
    "        top_words = []\n",
    "        for k, v in self._word_stats.items():\n",
    "            if v in top_stats and counter < n:\n",
    "                counter += 1\n",
    "                top_words.append(k)\n",
    "                \n",
    "        filtered_vocab = dict([(word, self._vocab[word]) for word in top_words])\n",
    "        self._vocab = filtered_vocab\n",
    "        print(filtered_vocab)\n",
    "        \n",
    "    def fit_sample(self, sample):\n",
    "        sample_id = sample.name\n",
    "        question = sample['question']\n",
    "        tags = set(sample['tags'])\n",
    "        sample_loss = 0\n",
    "        predicted_tags = None\n",
    "\n",
    "        for tag in self._tags:\n",
    "            y = int(tag in tags)\n",
    "            # HERE'S YOUR CODE\n",
    "            # z = ...\n",
    "            z = self._b[tag]\n",
    "\n",
    "            for word in question:\n",
    "                is_word_unknown = word not in self._vocab\n",
    "#                 if sample_id >= self.top_n_train and is_word_unknown:\n",
    "                if is_word_unknown:\n",
    "                    continue\n",
    "                # HERE'S YOUR CODE\n",
    "                # z += ...\n",
    "                z += self._w[tag][self._vocab[word]]\n",
    "            \n",
    "            # HERE'S YOUR CODE\n",
    "            # sigma = ...\n",
    "            sigma = sigmoid(z)\n",
    "            \n",
    "            # HERE'S YOUR CODE\n",
    "            # sample_loss += ...\n",
    "            if y == 1:\n",
    "                bounded_sigma = max(self.tolerance, sigma)\n",
    "                sample_loss += -np.log(bounded_sigma)\n",
    "            else:\n",
    "                bounded_sigma = min(1 - self.tolerance, sigma)\n",
    "                sample_loss += -np.log(1-bounded_sigma)\n",
    "                \n",
    "                \n",
    "            if sample_id < self.top_n_train:\n",
    "                # HERE'S YOUR CODE\n",
    "                # dLdw = ...\n",
    "                dLdw = (y - sigma)\n",
    "                \n",
    "                delta = self.learning_rate*dLdw\n",
    "                for word in question:\n",
    "                    # HERE'S YOUR CODE\n",
    "                    # self._w[tag][self._vocab[word]] -= (- delta...\n",
    "                    if word in self._vocab:\n",
    "                        w_k_i = self._w[tag][self._vocab[word]]\n",
    "                        w_sign = (1 if w_k_i > 0 else (0 if w_k_i == 0 else -1))\n",
    "                        reg = 2*self.gamma_*w_k_i  + (1-self.gamma_)*w_sign\n",
    "                        reg *= self.lambda_ * self.learning_rate\n",
    "                        self._w[tag][self._vocab[word]] -= (-delta + reg)\n",
    "                        \n",
    "                self._b[tag] -= -delta\n",
    "            else:\n",
    "                if predicted_tags is None:\n",
    "                    predicted_tags = []\n",
    "                # HERE'S YOUR CODE\n",
    "                # if sigma... :\n",
    "                #     predicted_tags...\n",
    "                if sigma > self.accuracy_level:\n",
    "                    predicted_tags.append(tag)\n",
    "\n",
    "        if sample_id % self.show_period == 0:\n",
    "            n = sample_id + self.show_period\n",
    "            clear_output(wait=True)\n",
    "            print('LogRegressor {} | {} ({:.2f}%) samples fitted.'.format(\n",
    "                self.__version__,\n",
    "                n, \n",
    "                100 * n / self.total_len))\n",
    "        if predicted_tags is not None:\n",
    "            # HERE'S YOUR CODE\n",
    "            # Jaccard = ...\n",
    "            predicted_tags_set = set(predicted_tags)\n",
    "            Jaccard = len(predicted_tags_set & tags) / len(predicted_tags_set | tags)\n",
    "            \n",
    "            return pd.Series({'loss': sample_loss, 'Jaccard': Jaccard})\n",
    "        else:\n",
    "            return pd.Series({'loss': sample_loss, 'Jaccard': np.NaN})\n",
    "\n",
    "    \n",
    "    def fit_dataframe(self, \n",
    "                      df,\n",
    "                      top_n_train=60000, \n",
    "                      learning_rate=0.1,\n",
    "                      tolerance=1e-16,\n",
    "                      accuracy_level=0.9,\n",
    "                      lambda_=0.001, \n",
    "                      gamma_=0.1,\n",
    "                      freeze_vocab=False):\n",
    "        self.total_len = df.shape[0]\n",
    "        self.top_n_train = top_n_train\n",
    "        self.learning_rate = learning_rate\n",
    "        self.tolerance = tolerance\n",
    "        self.accuracy_level = accuracy_level\n",
    "        self.lambda_ = lambda_\n",
    "        self.gamma_ = gamma_\n",
    "\n",
    "        if self.top_n_train > self.total_len:\n",
    "            print(\"Warning! 'top_n_train' more than dataframe rows count!\\n\"\n",
    "                  \"Set default 'top_n_train'=60000\")\n",
    "            self.top_n_train = 60000\n",
    "        \n",
    "        if not freeze_vocab:\n",
    "            self.generate_vocab(df, column_name='question')\n",
    "        \n",
    "        self.show_period = self.total_len // 100\n",
    "        self.metrics = df.apply(self.fit_sample, axis=1)\n",
    "        return self.metrics"
   ]
  },
  {
   "cell_type": "code",
   "execution_count": 12,
   "metadata": {
    "ExecuteTime": {
     "end_time": "2018-11-12T21:52:34.210452Z",
     "start_time": "2018-11-12T21:45:36.881041Z"
    }
   },
   "outputs": [
    {
     "name": "stdout",
     "output_type": "stream",
     "text": [
      "LogRegressor v0.9 | 70000 (100.00%) samples fitted.\n",
      "0.58\n",
      "Mean of the loss function on the last 10k TRAIN samples: 24.89\n",
      "CPU times: user 23min 42s, sys: 1.42 s, total: 23min 43s\n",
      "Wall time: 23min 47s\n"
     ]
    },
    {
     "data": {
      "image/png": "[encoded data removed]",
      "text/plain": [
       "<Figure size 432x288 with 1 Axes>"
      ]
     },
     "metadata": {
      "needs_background": "light"
     },
     "output_type": "display_data"
    }
   ],
   "source": [
    "%%time\n",
    "model = LogRegressor(tags=top_tags)\n",
    "# HERE'S YOUR CODE\n",
    "# metrics = model.fit_dataframe(df, ...\n",
    "metrics = model.fit_dataframe(df, learning_rate=0.2)\n",
    "# HERE'S YOUR CODE\n",
    "# accuracy = ...\n",
    "accuracy = np.mean(metrics['Jaccard'][-10000:])\n",
    "print('{:.2f}'.format(accuracy))\n",
    "plot = plt.plot(pd.Series(metrics['loss'][:-10000]).rolling(10000).mean())\n",
    "last_10k_train_loss = np.mean(metrics['loss'][-20000:-10000]) \n",
    "print(f'Mean of the loss function on the last 10k TRAIN samples: {last_10k_train_loss:.2f}')"
   ]
  },
  {
   "cell_type": "markdown",
   "metadata": {},
   "source": [
    "We leave only 10 000 words."
   ]
  },
  {
   "cell_type": "code",
   "execution_count": 17,
   "metadata": {
    "ExecuteTime": {
     "end_time": "2018-11-12T21:52:35.099786Z",
     "start_time": "2018-11-12T21:52:34.211441Z"
    },
    "collapsed": true
   },
   "outputs": [
    {
     "name": "stdout",
     "output_type": "stream",
     "text": [
      "dict_keys(['i', 've', 'got', 'some', 'code', 'in', 'window', 'scroll', 'that', 'checks', 'if', 'an', 'element', 'is', 'visible', 'then', 'triggers', 'another', 'function', 'however', 'only', 'the', 'first', 'section', 'of', 'firing', 'both', 'bits', 'work', 'and', 'themselves', 'swap', 'their', 'order', 'on', 'top', 'fires', 'correctly', 'my', 'as', 'follows', 'fn', 'use', 'strict', 'var', 'win', 'viewport', 'scrolltop', 'left', 'bounds', 'this', 'offset', 'right', '+', 'width', 'bottom', 'height', 'return', 'lt', 'gt', 'ajax', 'true', 'what', 'am', 'doing', 'wrong', 'can', 'you', 'fire', 'one', 'event', 'from', 'assume', 'not', 'have', 'a', 'custom', 'adapter', 'for', 'list', 'view', 'it', 'has', '3', 'fields', 'thumbnail', 'two', 'text', 'once', 'layout', 'thumbnails', 'are', 'downloaded', 'external', 'server', 'how', 'do', 'change', 'functionality', 'so', 'images', 'when', 'user', 'scrolls', 'down', 'override', 'public', 'getview', 'int', 'position', 'convertview', 'viewgroup', 'parent', 'inflate', 'layoutinflater', 'inflater', 'context', 'getsystemservice', 'layout_inflater_service', 'rowview', 'r', 'false', 'imageview', 'image', 'findviewbyid', 'id', 'picture', 'textview', 'get', 'information', 'about', 'report', 'current', 'objects', 'all', 'important', 'string', 'construct', 'url', 'to', 'separator', 'extension', 'display', 'downloader', 'download', 'settext', 'tostring', 'yyyy', 'mm', 'dd', 'h', 'm', 'form', 'panel', 'added', 'checkbox', 'setting', 'before', 'sending', 'save', 'state', 'calling', 'other', 'reload', 'page', 'they', 'previous', 'but', 'start', 'unchecked', 'there', 'any', 'way', 'force', 'value', 'dates', 'variables', 'need', 'define', 'whether', 'person', 'includes', 'worked', 'period', '23', 'hours', '05', 'example', 'hour', 'result', '21', '5', 'yes', '22', '12', 'no', '8', '7', '9', 'amp', 'coverage', 'variants', 'might', 'been', 'using', 'search', 'tags', 'here', 'goes', 'app', 'developing', 'able', 'upload', 'pictures', 'videos', 'through', 'recording', 'or', 'gallery', 'currently', 'trying', 'show', 'video', 'which', 'just', 'recorded', 'taking', 'uri', 'intent', 'getdata', 'after', 'with', 'mediastore', 'void', 'new', 'ctx', 'getpackagemanager', 'null', 'startactivityforresult', 'else', 'toast', 'maketext', 'language', 'translate', 'length_long', 'log', 'tried', 'take', 'phone', 'camera', 'content', 'now', 'should', 'into', 'playing', 'videoview', 't', 'seem', 'find', 'decent', 'solution', 'issue', 'simply', 'activity', 'where', 'showing', 'results', 'black', 'sure', 'someone', 'solved', 'already', 'collection', 'guaranteed', 'be', 'distinct', 'particular', 'indexed', 'by', 'unique', 'integer', 'also', 'know', 'exactly', 'many', 'them', 'number', 'won', 'was', 'wondering', 'array', 'would', 'performance', 'advantage', 'over', 'hashset', 'storing', 'retrieving', 'said', 'elements', 'paper', 'constant', 'time', 'insertion', 'since', 'size', 'ahead', 'looks', 'much', 'cleaner', 'adds', 'losing', 'anything', 'wise', 'at', 'least', 'below', 'problem', 'don', 'understand', 'why', 'refer', 'children', 'object', 'via', 'accessing', 'firstname', 'surname', 'please', 'help', 'me', 'age', 'length', 'addchild', 'push', 'foreach', 'item', 'index', 'splice', '1', 'module', 'exports', 'poster', 'sorry', 'too', 'long', 'hit', 'wall', 'try', 'making', 'matrices', 'calculator', 'c', 'wpf', 'last', 'figure', 'out', 's', 'iterator', 'edit', 'values', '2d', 'better', 'idea', 'project', 'far', 'requires', 'input', 'n', 'make', 'll', 'generate', '0', 'default', 'going', 'editing', 'whole', '2', 'private', 'global', 'ints', 'keeps', 'track', 'row', 'column', 'these', 'numbers', 'part', 'iterations', 'starts', 'off', 'fine', 'instead', 'like', 'jumps', 'gone', 'times', 'logic', 'though', 'yet', 'test', 'back', 'nearly', 'identical', 'assuming', 'same', 'problems', 'having', 'thanks', 'could', 'point', 'move', 'onto', 'coding', 'up', 'parts', 'matrix', 'being', 'edited', 'set', 'made', 'col', 'sender', 'routedeventargs', 'e', 'console', 'writeline', 'setvalue', 'getlength', 'more', 'parse', 'catch', 'exception', 'valid', 'caption', 'warning', 'button', 'ok', 'icon', 'messagebox', 'fixed', 'saw', 'willing', 'post', 'rest', 'request', 'syntax', 'response', 'refresh', 'aspx', 'firefox', 'chrome', 'memorystream', 'ms', 'opts', 'seek', 'begin', 'byte', 'toarray', 'contenttype', 'application', 'pdf', 'clear', 'outputstream', 'write', 'httpcontext', 'finally', 'close', 'internet', 'explorer', 'redirect', 'sec', 'ie', 'advance', 'forum', 'we', 'capture', 'jvm', 'metrics', 'followed', 'steps', 'link', 'https', 'github', 'com', 'high', 'level', 'installation', 'unzip', 'archive', 'add', 'following', 'your', 'java', 'path', 'jar', 'host', 'port', 'config', 'process', 'usual', 'main', 'class', 'demo', 'works', 'version', '6', 'ensure', 'running', 'localhost', 'pid', 'nc', 'dumps', 'xml', 'stdout', 'git', 'clone', 'above', 'directory', 'cd', 'bash', 'export', 'etc', 'util', 'logging', 'file', 'properties', 'cp', '4', 'info', 'argument', 'its', 'coming', 'native', 'logs', 'shows', 'see', 'used', 'around', 'every', '10', 'writing', 'instance', 'does', 'run', 'command', 'line', 'root', 'hostname', 'master', 'mode', 'getting', 'suggest', 'week', 'struggling', 'www', 'brief', 'send', 'data', 'he', 'connection', 'filename', 'tag', 'httpurlconnection', 'dataoutputstream', 'datainputstream', 'inputstream', 'boundary', 'bytesread', 'buffersize', 'buffer', '1024', 'fileinputstream', 'openconnection', 'allow', 'inputs', 'outputs', 'enable', 'method', 'setrequestmethod', 'setrequestproperty', 'keep', 'alive', 'type', 'multipart', 'getoutputstream', 'disposition', 'name', 'uploadedfile', 'available', 'math', 'min', 'read', 'while', 'responses', 'message', 'getresponsecode', 'flush', 'append', 'fileoutputstream', 'f2', 'overwrite', 'buf', 'len', 'delete', 'ex', 'getmessage', 'drawable', 'occurred', 'php', 'basename', '_files', 'move_uploaded_file', 'tmp_name', 'echo', 'uploaded', 'error', 'uploading', 'again', 'really', 'dont', 'script', 'anyone', 'give', 'tip', 'microsoft', 'outlook', 'create', 'mail', 'template', 'existing', 'html', 'let', 'replace', 'created', 'virtual', 'vm', 'pip', 'freeze', 'installed', 'packages', 'output', 'requests', 'lib', 'different', 'makes', 'provide', '13', 'security', 'urllib', '20', 'python', 'laravel', 'environments', 'want', 'site', 'always', 'setup', 'comes', 'declare', 'env', 'local', 'mark', 'macbook', 'development', 'servers', 'co', 'uk', 'production', 'files', 'correct', 'database', 'details', 'each', 'environment', 'database_name', 'applications', 'mamp', 'tmp', 'mysql', 'sock', 'db', 'pass', 'connections', 'driver', 'username', 'password', 'charset', 'utf8', 'prefix', 'usually', 'artisan', 'serve', 'undefined', 'projects', 'build', 'cc', '67', 'happen', 'may', 'cheers', 'linq', 'query', 'fill', 'cycle', 'slow', 'f', 'join', 'equals', 's2', 'formid', 'orderby', 'descending', 'select', 'ipaddress', 'useragent', 'createdby', 'createddate', 'firstordefault', 'status', 'tolist', 'x', 'count', 'x++', 'elementat', 'entry', 'definitely', 'faster', 'dynamically', 'alert', 'components', 'react', 'bootstrap', 'runtime', 'instantiating', 'javascript', 'classes', 'because', 'lots', 'alerts', 'attempts', 'working', 'generally', 'applies', 'occurs', 'js', 'throws', 'typeerror', 'throw', 'getcomponent', 'call', 'dom', 'createclass', 'isvisible', 'render', 'props', 'p', 'setstate', 'prototype', 'go', 'doesn', 'success', 'constructor', 'kinds', 'danger', '123', '321', 'map', 'div', 'document', 'getelementbyid', 'component', 'library', 'found', 'necessary', 'satisfy', 'framework', 'reality', 'instances', 'generating', 'nodes', 'proper', 'hint', 'hardcoded', 'without', 'duplicate', '777', 'replacement', 'including', 'explains', 'key', 'child', 'prop', 'check', 'http', 'fb', 'keys', 'inside', 'source', 'v0', '11', 'head', 'src', 'rel', 'stylesheet', 'href', 'css', 'theme', 'body', 'trouble', 'understanding', 'short', 'hand', 'notation', 'seeing', 'explain', 'difference', 'between', 'functions', 'thank', 'def', 'test1', 'david', 'smith', 'print', 'test2', 'implement', 'algorithm', 'best', 'possible', 'scale', 'angle', 'such', 'overlap', 'edges', 'container', 'takes', 'defined', 'wide', 'represent', 'mind', 'something', 'end', 'points', 'exists', 'vertex', 'y', '360', 'aligned', 'tuple', 'continue', 'increase', 'aware', 'implementation', 'online', 'share', 'otherwise', 'word', 'think', 'thinking', 'consider', 'center', 'located', 'screen', 'interesting', 'place', 'nstimer', 'timer', 'nil', 'self', 'isrunning', 'nsdate', 'limit', 'alloc', 'target', 'selector', 'userinfo', 'repeats', 'release', 'invalidate', 'purpose', 'whose', 'will', 'called', 'consists', 'latitude', 'longitude', '45', '25', '15', '19', '35', '33', '24', 'based', 'distance', 'question', 'perform', 'apache', 'spark', 'implemented', 'double', 'w', 'i++', 'j', 'j++', 'temp1', 'temp2', 'pow', 'sqrt', 'suitable', 'store', 'rdd', 'performing', 'api', 'v', 'edittext', 'sd', 'desc', 'description', 'spinner', 'priority', 'validate', 'field', 'cannot', 'empty', 'getselecteditem', 'gettext', 'sharedpreferences', 'pref', 'getapplicationcontext', 'getsharedpreferences', 'mode_private', 'editor', 'commit', 'd', 'getall', 'mainactivity', 'startactivity', 'boolean', 't1', 'put', 'corresponding', 'fetch', 'given', 'expects', 'known', 'second', 'wrote', 'handle', 'ssl', 'communicate', 'paypal', 'year', 'fails', 'away', 'happens', 'turned', 'cipher', 'thought', 'attempting', 'handshake', 'failure', '40', 'exact', 'connect', 'tool', 'openssl', 'sandbox', '443', 'note', 'option', 'expected', 'seen', 'couple', 'posts', 'say', 'means', 'leading', 'those', 'interested', 'our', 'relevant', 'removed', 'checking', 'happening', 'std', 'shared_ptr', 'srp', 'md5', 'bio', 'nullptr', 'char', 'addr', 'c_str', 'stderr', 'failed', 'connecting', 'gets', 'mentioned', 'earlier', 'options', 'enough', 'avoid', 'tricky', 'buy', 'tickets', 'ticket', 'price', 'everytime', 'billing', 'pay', 'programmatically', 'written', 'program', 'selenium', 'few', 'methods', 'basically', 'scrape', 'interact', 'fills', 'submits', 'record', 'beginning', 'seems', 'nice', 'polygon', 'jsfiddle', '400', '529', '320', '424', '381', 'con', 'contour', 'pts', 'performs', 'several', 'tells', 'processed', 'myfunction', 'seconds', 'inform', 'under', 'during', 'step', 'gui', 'remains', 'simple', 'progressbar', 'processing', 'software', 'space', 'pops', 'ideas', 'creating', 'saving', 'nsmutablearray', 'detects', 'taps', 'clicks', 'uilabel', 'generated', 'clicked', 'deleted', 'deleting', 'labels', 'future', 'moment', 'feel', 'stuck', 'dead', 'heres', 'viewdidload', 'super', 'additional', 'loading', 'typically', 'nib', 'corner', 'radius', 'hidden', 'ibaction', 'bg', 'cover', 'nsinteger', 'obj', '+1', 'addobject', 'nsnumber', 'posx', '300', 'posy', 'frame', 'nsstring', 'txt', 'cgrect', 'cgrectmake', '100', '30', 'label', 'initwithframe', 'stringwithformat', 'settextcolor', 'uicolor', 'backgroundcolor', 'clearcolor', 'addsubview', 'userinteractionenabled', 'gesture', 'action', 'uitapgesturerecognizer', 'recognizer', 'cgpoint', 'translation', 'cgpointmake', 'reset', 'viewwithtag', 'nslog', 'final', 'coordinates', 'gi', 'static', 'instanceof', 'illegalargumentexception', 'getstring', 'quite', 'understandable', 'extends', 'confused', 'ever', 'tree', 'filtered', 'contains', 'criteria', 'bold', 'searched', 'node', 'stackoverflow', 'searching', 'stack', 'rendered', 'achieve', 'nsdata', 'documents', 'folder', 'nsfilemanager', 'filemanager', 'objectatindex', 'stringbyappendingpathcomponent', 'bool', 'isdirectory', 'nserror', 'attributes', 'localizeddescription', 'jpeg', 'until', 'tested', 'started', 'myfile', 'exist', 'sample', 'level1', 'level2', 'datatype', 'service', 'value1', 'value2', '50', 'table', 'omitted', 'bunch', 'represents', 'lengths', 'required', 'optional', 'flags', 'things', 'soap', 'approaches', 'none', 'took', 'wanted', 'guess', 'concept', 'stdclass', 'levels', 'access', 'maybe', 'direction', 'block', '30px', '2px', 'clarification', 'looking', 'border', 'pseudo', 'three', 'android', 'devices', 'b', 'connected', 'wi', 'fi', 'direct', 'group', 'owner', 'questions', 'client', 'small', 'unexpected', 'token', 'firebug', 'says', 'missing', 'property', 'click', 'ready', 'handler', 'img', 'png', 'im', 'kinda', 'multiple', 'features', 'thread', 'per', 'tcp', 'approach', 'recv', '4096', 'include', 'cursor', '__name__', 'listener', 'bind', '15000', 'ip', 'threading', 'exit', 'terminates', 'daemon', 'shutdown', 'connector', 'import', 'mysqldb', '192', '168', '__init__', 'passwd', 'execute', '250', 'threads', 'doesnt', 'socket', 'open', 'limited', 'planning', 'good', 'regards', 'combobox', 'ad', 'jquery', 'val', 'json', 'utf', 'eclipse', 'very', 'properly', 'copy', 'paste', 'errors', 'package', 'weather', 'alertdialog', 'dialoginterface', 'location', 'locationmanager', 'net', 'os', 'bundle', 'widget', 'oncreate', 'savedinstancestate', 'setcontentview', 'location_service', 'gps_provider', 'gps', 'enabled', 'length_short', 'action_view', 'builder', 'setmessage', 'disabled', 'device', 'setcancelable', 'setpositivebutton', 'goto', 'settings', 'onclicklistener', 'onclick', 'dialog', 'provider', 'setnegativebutton', 'cancel', 'knows', 'tablet', 'adb', 'shell', 'usb', 'debug', 'screens', 'switched', 'bluetooth', 'well', 'moreover', 'responsive', 'starting', 'date', 'months', 'specific', 'monthly', 'datetime', '2010', '14', 'case', 'startdate', '31', '27', '28', '29', 'regular', 'expression', 'currency', 'requirements', 'appear', 'either', 'digit', 'decimal', 'd+', 'str', 'regexp', 'res', 'returning', 'listview', 'customized', 'textviews', 'along', 'dropdownlist', 'populated', 'arrayadapter', 'populating', 'views', 'taken', 'arraylist', 'stored', 'card', 'screenshot', 'arises', 'sdcard', 'converted', 'bitmap', 'bitmapfactory', 'decodefile', 'assigned', 'setimagebitmap', 'bmp', 'rows', 'anybody', 'specifically', 'assignment', 'overloaded', 'controls', 'facing', 'single', 'behaves', 'suggestion', 'welcome', 'surely', 'great', 'getlayoutinflater', 'settag', 'gettag', 'split', 'parseint', 'common', 'getabsolutepath', 'printstacktrace', 'asynctask', 'mholder', 'holder', 'asset', 'protected', 'doinbackground', 'params', 'onpostexecute', 'probably', 'loaded', 'mean', 'transformation', 'mesh', 'named', 'scene', 're', 'didn', 'apply', 'next', 'imported', 'solve', 'applied', 'straight', 'blank', 'ps', '63', 'english', 'insert', 'mssql', 'statement', 'servername', 'die', 'couldn', 'sql', 'myserver', 'selected', 'mydb', 'dbo', 'computer', 'administrator', 'webserver', 'pc', 'role', 'tryed', 'sizeof', 'records', 'still', 'schema', 'returns', '26', 'update', 'closes', 'browser', 'tab', 'ff', 'opera', 'safari', 'placed', 'hi', 'iam', 'span', 'textbox', 'checked', '200', 'hashcode', 'clicking', 'displayed', 'col3', 'pub', 'sub', 'activemq', 'subscriber', 'looked', 'timeout', 'nothing', 'system', 'commands', 'namespace', 'internal', 'args', 'factory', 'connectionfactory', 'clientid', 'myid', 'session', 'consumer', 'readline', 'stop', 'timespan', 'maxvalue', 'sit', 'waiting', 'disappear', 'admin', 'jsp', 'character', 'pointer', 'mouse', 'mousedown', 'mouseup', 'standard', 'must', 'spaces', 'characters', 'days', 'almost', 'had', 'myself', 'ive', 'come', 'combination', 'sorts', 'research', 'typeof', 'getselection', 'sel', 'createelement', '++i', 'appendchild', 'innerhtml', 'selection', 'indexof', 'distribute', 'ide', 'windows', 'linux', 'macosx', 'visual', 'studio', 'familiar', 'developer', 'prefer', 'maven', 'everyone', 'did', 'cuda', 'toolkit', 'website', 'j2ee', 'edition', 'built', 'support', 'cloned', 'workspace', 'trace', 'lang', 'load', 'x86_64', 'base', 'nullpointerexception', 'resource', 'dll', 'adding', 'paths', 'gpu', 'computing', 'v6', 'bin', 'x64', 'even', 'anywhere', 'resolve', 'linking', 'issues', 'building', 'amazing', 'snippet', 'look', 'speed', 'wrap', 'stars', 'rather', 'modification', 'canvas', 'docu', 'style', 'margin', 'overflow', 'innerwidth', 'innerheight', 'g', 'getcontext', 'random', 'sin', 'o', 'floor', 'q', 'volume', '500', '1000', 'detail', '120', 'ii', 'setinterval', 'fillstyle', '000', 'fillrect', 'z', 'rgb', 'linewidth', 'moveto', 'lineto', 'stroke', 'struts', 'successfully', 'invoked', 'hits', 'datarow', 'title', 'mongodb', 'stock', 'tick', 'symbol', 'minute', '_id', 'objectid', '2014', '04', 'ticks', 'mu', 'ae', '93', '91', '9000', 'bid', 'ask', 'aggregate', 'bars', 'low', 'match', 'projection', 'month', 'day', 'sort', 'max', 'identified', 'equal', 'mixed', 'sense', 'poor', 'design', 'require', 'upon', 'visiting', 'web', 'file_get_contents', 'exe', 'downloading', 'header', 'redirecting', 'stops', 'structure', 'django', 'mysite', 'scrapy', 'py', 'urls', 'models', 'sqlite3', 'manage', 'spider', 'items', 'model', 'charfield', 'max_length', 'crawl', 'importerror', 'format', 'curl', 'transparent', 'proxy', 'frontend', 'cant', 'logged', 'activated', 'httpget', 'route', 'httpresponsemessage', 'webclient', 'headers', 'jsonconvert', 'encoding', 'configurationmanager', 'appsettings', 'iis', 'configurations', 'activate', 'authorization', 'users', 'credentials', 'were', 'passed', 'backend', 'showed', 'identity', 'passing', 'game', 'stumbled', 'original', 'obviously', 'fix', 'bet', 'money', 'loop', 'flow', 'cout', 'endl', 'lose', 'cin', 'total', 'lost', 'simulate', 'traffic', 'light', 'counter', 'red', 'green', 'yellow', 'giving', 'binary', 'signals', '01', 'attached', 'nl', 'json_decode', 'decode', 'user_name', 'fetching', 'msg', 'messages', 'notice', 'non', 'recently', 'memory', 'course', 'life', 'easier', 'cpu', 'ran', 'actual', 'benefits', 'storage', 'instructions', 'helping', 'cycles', 'figured', 'optimized', 'cache', 'accordingly', 'saves', '750', '550', 'safe', 'letting', 'speak', 'calculate', 'suppose', 'autocomplete', 'parameters', 'sensor', 'lat', 'lng', '10000', 'maps', 'googleapis', 'pizza', 'united', 'reference', 'terms', 'types', 'john', 'street', '32', '46', 'delivery', 'road', '36', '39', 'side', 'ro', 'datepicker', 'picker', 'twitter', 'auto', 'greater', 'than', 'selectable', 'documentation', 'assistance', 'appreciated', 'control', 'strong', 'expiry', 'years', '2015', 'readonly', 'calendar', 'libs', 'reading', 'others', 'article', 'trigger', 'yaml', 'full', 'prompt', 'repeater', 'condition', 'htm', 'ul', 'li', 'active', 'onkeyup', 'reproduce', 'textarea', 'outside', 'isn', 'activation', 'assumption', 'session_start', 'isset', '_session', 'newdata', 'concat', 'builds', 'expect', 'everything', 'led', 'waits', 'executed', 'menus', 'mrecorder', 'mediarecorder', 'mnt', 'recorder', 'prepare', 'menu', 'oncreateoptionsmenu', 'menuinflater', 'getmenuinflater', 'menuitem', 'switch', 'getitemid', 'println', 'logcat', 'focused', 'ignoring', 'focus', 'gain', 'stub', 'lines', 'exceptions', 'throwable', 'blocks', 'recommended', 'multiply', 'smtp', 'mailer', 'trial', 'allowed', 'receive', 'emails', 'kind', 'pretty', 'neat', 'replicate', 'actions', 'tell', 'restarted', 'iostream', 'opencv2', 'hpp', 'core', 'cv', 'mat', 'image2', 'imread', 'jpg', 'normal', 'imshow', '3000', 'srand', 'a++', 'rand', 'cols', 'channels', 'grey', '255', 'colour', 'generates', 'unhandled', 'c++', 'opencv', 'debugging', 'reveal', 'modal', '215', 'initialise', 'assets', 'foundation', 'nullreferenceexception', 'implementing', 'inotifypropertychanged', 'mywindow', 'initializecomponent', 'binding', 'getvalue', 'dependencyproperty', 'register', 'variable', 'easy', 'construction', 'hello', 'navigate', 'slides', 'slide', 'intro', 'h1', 'br', 'unit', 'indicator', 'imgur', 'alt', '350px', 'en', 'products', 'ls', 'solutions', 'btn', '50px', 'product', '10px', '38', 'integrated', 'stories', 'smaller', 'drop', 'fit', 'later', 'hope', 'explained', 'sqlite', 'bean', 'dto', 'getters', 'setters', 'correspond', 'simpledateformat', 'formatter', 'hh', 'submit', 'addition', 'settime', 'becomes', 'populate', 'jtable', '1970', 'handled', 'resultset', 'rs', 'illegalaccessexception', 'ioexception', 'gettype', 'getname', 'getdate', 'clueless', 'changed', 'easily', 'shouldn', 'guys', 'technique', 'authentication', 'secretkey', 'techniques', 'lists', 'arrays', 'sm', 'answer', 'router', 'findone', 'helper', 'helpers', 'temp', 'ids', 'containing', 'xlsx', 'gridview', 'within', 'sharepoint', 'spreadsheet', 'abc', 'gather', 'keyboard', 'shortcuts', 'runs', 'certain', 'detect', 'presence', 'modifier', 'emulator', 'overridden', 'onkeydown', 'scala', 'keycode', 'keyevent', '_', 'matches', 'plain', 'modified', 'bindings', 'google', 'noticed', 'picked', 'pressing', 'produces', 'respond', 'comments', 'most', 'generic', 'documented', 'explanation', 'own', 'docs', 'ftp', 'asking', 'ios', 'xhtml', 'attribute', 'gmail', 'whatever', 'technically', 'invalid', 'browsers', 'perhaps', 'groups', 'vertical', 'vertically', 'ordered', 'structures', 'x1', 'y1', 'x2', 'y2', 'subset', 'respectively', 'lets', 'contain', '16', 'thousand', 'basic', 'displays', 'streams', 'feeds', 'feed', 'replaced', 'larger', 'testing', 'cam', 'apologies', 'formatted', 'doctype', 'w3c', 'dtd', 'transitional', 'w3', 'org', 'tr', 'xhtml1', 'xmlns', '1999', 'meta', 'equiv', 'axis', 'cgi', 'real', 'td', 'align', 'replacewith', 'uses', 'boost', 'shared', 'large', 'cleared', 'periodically', 'actually', 'deletes', 'individually', 'deletion', 'inefficient', 'ideally', 'operations', 'touched', 'similar', 'stl', 'blocking', 'asked', 'forums', 'guy', 'rely', 'streamreader', 'reached', 'stream', 'bytes', 'returned', 'related', 'fragment', '55', '222', 'mobile', 'androidruntime', 'fatal', 'subview', 'init', '122', 'shop', 'oncreateview', '119', 'fragmentmanagerimpl', 'movetostate', 'fragmentmanager', 'backstackrecord', 'handlecallback', '733', 'dispatchmessage', '95', 'looper', '137', 'activitythread', 'reflect', 'invokenative', 'invoke', '515', 'zygoteinit', 'methodandargscaller', 'dalvik', 'nativestart', 'relativelayout', 'layout_width', 'fill_parent', 'layout_height', 'wrap_content', '+id', 'layout_margintop', '10dp', 'padding', 'background', 'layout_below', '100dp', 'layout_alignbottom', 'schemas', 'apk', 'mapview', 'gms', 'mapfragment', 'fragmenttransaction', 'transaction', 'fm', 'begintransaction', 'initialize', 'getmap', 'latlng', 'loc', 'markeroptions', 'bitmapdescriptorfactory', 'addmarker', 'cameraupdatefactory', 'hide', 'procedure', 'third', 'l', 'preview', 'install', 'unable', 'follow', 'foreignkey', 'cascade', 'orders', 'country', 'city', 'behaviour', 'plugin', 'piece', 'fade', 'divs', 'changing', 'css3', 'effect', 'animate', 'animation', 'discussion', 'thing', 'animations', 'hybrid', 'styles', 'hasclass', 'closed', 'removeclass', 'addclass', '0px', 'absolute', '200px', '100px', 'color', 'rgba', 'transition', '1s', 'opacity', 'popup', 'range', 'bring', 'typed', 'plunker', 'plnkr', 'controller', 'scope', 'mindate', 'unless', 'helps', 'reports', 'marked', 'angular', 'ui', 'pull', 'allows', 'typing', 'accepted', 'suggests', 'plug', 'directive', 'restrict', 'ngmodel', 'elem', 'attrs', 'ctrl', 'dt', 'computed', 'parameter', 'lowest', 'crash', 'pick', 'launcher', 'except', 'lg', 'g2', 'workaround', 'alternative', 'widgets', 'official', 'permission', 'experienced', 'appwidgetid', 'appwidgetmanager', 'putextra', 'runonuithread', 'runnable', 'bug', 'extras', 'avoiding', 'stacktrace', 'runtimeexception', 'componentinfo', 'resources', 'performlaunchactivity', 'handlelaunchactivity', '800', '139', 'handlemessage', '1200', '102', '136', 'caused', '47', '145', '209', 'getitems', '182', '92', '143', '70', 'performcreate', 'instrumentation', 'callactivityoncreate', 'io', 'filenotfoundexception', '415', 'receiving', 'responsestring', 'email', 'oops', 'account', 'sign', 'received', 'signin', 'analytics', 'offer', 'ability', 'precise', 'expressions', 'explode', 'substr', 'words', 'vary', 'address', '258', 'declared', 'eval', 'putting', 'fruit', 'apple', 'apples', 'banana', 'collections', 'foo', 'blue', 'entity', 'notnull', 'occurring', 'broken', 'wanting', 'vs2010', 'nav', 'realized', 'dosomething', 'vs', 'domains', 'app1', 'app2', 'ear', 'ejb', 'war', '8080', 'modify', 'configuration', 'standalone', 'reverse', 'libraries', 'thus', 'perfect', 'decided', 'scrollview', 'tablelayout', 'layout_weight', 'linearlayout', 'orientation', 'match_parent', 'button1', 'stay', 'entire', 'inner', 'graphical', 'suggestions', 'retrieve', 'box', 'individual', 'avatar', 'pages', 'author', 'display_name', 'current_user', 'user_email', '80', 'wordpress', 'greatly', 'setter', 'difficulty', 'datatrigger', 'interaction', 'behaviors', 'sets', 'separate', 'controltemplate', 'targettype', 'tk', 'minheight', 'templatebinding', 'borderbrush', 'staticresource', 'borderthickness', 'cornerradius', 'columndefinitions', 'columndefinition', 'rowdefinitions', 'rowdefinition', 'grid', 'visibility', 'converter', 'datagrid', 'relativesource', 'rowspan', 'conditions', 'isselected', 'collapsed', 'needs', 'task', 'controlled', 'players', 'xp', 'included', 'player', 'radians', 'pi', '180', 'cos', 'bit', 'fact', 'sides', 'degrees', 'complete', 'tim', 'trim', 'auto_increment', 'primary', 'varchar', 'engine', 'conn', 'mysql_connect', 'mysql_error', 'mysql_select_db', '_post', 'fname', 'mysql_query', 'untitled', 'configure', 'perfectly', 'network', 'whereas', 'remoting', 'reflection', 'thrown', 'invocation', 'ctor', 'idictionary', 'approved', 'live', 'weeks', 'v1', 'submitted', 'review', 'scheduled', 'synchronized', 'marketing', 'plan', 'partner', 'initial', 'risk', 'rejected', 'reason', 'pushed', 'due', 'business', 'plenty', 'appropriate', 'wouldn', 'believe', 'needed', 'styling', 'remove', 'bullet', 'usermanager', '300px', '9px', '103', '180px', '118', 'nd', 'rt', 'fr', 'bb', 'mess', 'ge', 'south', 'west', 'linkbutton', 'itemtemplate', 'asp', 'runat', 'dataitem', 'itemid', 'synchronous', 'determine', 'dataset', 'async', 'jsonresult', 'isvalid', 'fiddler', 'postback', 'validator', 'near', 'remain', 'contact', '__', 'blur', 'cakephp', 'attr', 'columns', 'start_date', 'end_date', 'automatically', 'queries', 'parsed', 'lucene', 'definition', 'modifying', 'unfortunately', 'terrible', 'therefore', 'pre', 'definitions', 'alternatives', 'supports', 'kendo', 'mvc', 'datasource', 'transport', 'pagesize', 'batch', 'home', 'p1', 'p2', 'requirement', 'differ', 'fired', 'watch', 'sent', 'field1', 'asc', 'filter', 'eq', 'dir', 'filters', 'operator', 'manually', 'shown', 'operation', 'al', '00', 'stringify', 'lxml', 'compile', 'little', 'pyd', 'ultimately', 'iterate', 'ind', 'queue', 'reduce', 'const', 'lower', 'upper', 'nan', 'integers', 'mapped', 'netbeans', 'combo', 'setmodel', 'javax', 'swing', 'additem', 'updates', 'matter', 'equivalent', 'enter', 'area', 'wifi', 'occur', 'covered', 'codes', 'snippets', 'locationlistener', 'onlocationchanged', 'stuff', 'break', 'systemclock', 'requestlocationupdates', 'ago', 'displaying', 'done', 'thankful', 'okhttp', 'sends', 'addheader', 'measure', 'valueof', 'preferably', 'webpage', 'choose', 'radio', 'separated', 'cshtml', 'renders', 'partial', 'beginform', 'horizontal', 'labelfor', 'md', 'textboxfor', 'validationmessagefor', 'httppost', 'actionresult', 'modelstate', 'applicationuser', 'await', 'succeeded', 'redirecttoaction', 'fail', 'organization', 'reloads', 'somehow', 'describe', 'curl_init', 'curlopt_returntransfer', 'curlopt_url', 'xx', 'xxx', 'curlopt_post', 'curlopt_postfields', 'item1', 'item2', 'resp', 'curl_exec', 'curl_close', 'sits', 'behind', 'forwarding', 'gives', 'sip', 'viewer', 'ref', '101', '64', 'compiled', 'apr', '17', '07', 'parser', 'er', '66', '37', '73', '227', 'faced', 'resolved', 'guide', 'sometimes', 'xaml', 'regions', 'warnings', 'clickable', 'overlay', 'pls', 'compiler', 'animating', 'duration', 'testclass', 'keyword', 'atomic', 'dropzone', 'uploader', 'front', 'bar', 'examples', 'oh', 'dz', 'fallback', 'blog', 'usage', 'realtime', 'scenario', 'keywords', 'serial', '232', 'capable', 'initially', 'job', 'simultaneously', 'sleep', 'finished', 'button1_click', 'eventargs', 'd2', 'd1', 'label1', 'executing', 'secs', 'thats', 'completely', 'draws', 'dp', '1dp', 'layout_marginleft', 'cccccc', 'onactivityresult', 'cars', 'car', 'oriented', 'archives', 'impression', 'handling', 'decltype', 'supposed', 'examine', 'javafx', 'looping', 'draw', 'somebody', 'stage', 'paint', 'shape', 'ellipse', 'launch', 'sun', 'primarystage', '600', 'white', '210', 'setx', 'sety', 'rr', 'dx', 'dy', 'getchildren', 'encrypt', 'login', 'calls', 'telling', 'letters', 'digits', 'guessing', 'aes', 'encrypted', 'fall', 'guidelines', 'k', 'situation', 'numpy', 'np', 'belongs', 'imagine', 'mfc', 'cstring', 'getlasterror', 'simplified', 'webservice', 'webmethod', 'arr', 'sqlconnection', 'connectionstring', 'sqlexpress', 'catalog', 'uid', 'sa', 'pwd', '123456', 'sqlcommand', 'cmd', 'commandtext', 'ten', 'commandtype', 'executenonquery', 'tempuri', 'asmx', 'soapobject', 'le', 'envelope', 'soapenvelope', 'e3', 'responsebody', 'getresponse', 'e2', 'serialize', 'ljava', 'mp3', 'filesystem', 'ogg', 'wav', 'play', 'audio', 'supported', 'visualize', 'analyze', 'old', 'sdk', 'xcode', 'uibutton', 'iphone', 'xib', 'deployment', 'fis', 'nbsp', 'datacontract', 'exam', 'datamember', 'isrequired', 'parsing', 'activity_main', 'setonclicklistener', 'arg0', 'getlatitude', 'getlongitude', 'ibinder', 'implements', 'mcontext', 'flag', 'minimum', 'meters', 'milliseconds', '60', 'declaring', 'manager', 'getlocation', 'services', 'settitle', 'todo', 'crashes', 'programming', 'positive', 'easiest', 'nested', 'loops', 'guidance', 'general', 'incorrect', 'panels', 'sizes', 'combined', 'pane', 'calculation', 'k++', 'text1', 'mistakes', 'cast', 'series', 'edge', 'bigger', 'fast', 'brings', 'casting', 'grade', 'categories', 'grades', 'curve', 'float', 'nth', 'tests', 'homework', '85', 'manner', '84', 'average', 'category', 'rectangle', 'transparency', '40px', '20px', '250px', '1px', 'solid', 'gray', 'webkit', '15px', 'alarm', 'bypass', 'useful', 'lot', 'people', 'clock', 'apps', 'feature', 'notifications', 'silent', 'sound', 'creates', 'morning', 'middle', 'night', 'haven', 'hopefully', 'progress', 'updated', 'saved', 'formdata', 'processdata', 'clearinterval', 'aria', 'ilist', 'setprogress', 'arg1', 'arg2', 'inline', 'literal', 'constructs', 'argc', 'argv', 'explicitly', 'inheritance', 'similarly', 'trivial', 'directly', 'angularjs', 'express', 'mongoose', 'profile', 'his', 'her', 'ng', 'repeat', 'changes', 'creator', 'updating', 'strange', 'req', 'usermodel', 'forget', 'ugly', 'links', 'maintain', 'affecting', 'advice', 'who', 'derive', 'hold', 'dictionary', 'tracking', 'embed', 'loads', 'turn', 'upd', 'refreshing', 'latest', 'subject', 'marks', 'science', '90', '56', '75', '99', 'concatenate', 'remember', 'subjects', 'pending', 'defining', 'broadcast', 'simulation', 'linked', 'wasn', 'registered', 'modules', 'possibly', 'notes', 'restrictions', 'platform', 'propertyinfo', 'structs', 'volatile', 'automate', 'party', 'buttons', 'finding', 'hwnd', 'indeed', 'feedback', 'marshal', 'successful', 'dllimport', 'user32', 'unicode', 'extern', 'intptr', 'uint32', 'wparam', 'lparam', 'uint', 'zero', 'love', 'forms', 'unrelated', 'rid', 'x86', 'scheduling', 'learning', 'purposes', 'tasks', 'regex', 'messy', 'structured', 'system32', 'arguments', '18', '03', '2011', 'monday', 'tuesday', 'wednesday', 'thursday', 'friday', 'saturday', 'sunday', 'ways', 'likely', 'happy', 'hosted', 'eg', 'bonus', 'clearer', 'arithmetic', 'scanner', 'scan', 'nextdouble', 'meal', 'nextint', 'percentage', 'tax', 'round', 'cost', 'knowing', 'logical', 'verify', 'appreciate', 'xmlhttprequest', 'textstatus', 'errorthrown', 'terminal', 'school', 'asks', 'wait', 'determines', 'decrease', 'interval', 'nuget', '2016', 'encountered', '233', 'banner', 'facet', 'summary', 'timestamp', 'fetched', 'utc', 'timezone', 'udp', 'indicate', 'protocol', 'strings', 'guid', 'operating', 'providing', 'ipv6', 'present', 'wont', 'utility', 'subdomain', 'smart', 'dots', 'domain', 'certificate', 'raw', 'hasn', 'specification', 'dynamic', 'region', 'minutes', 'endregion', 'abstract', 'elseif', 'endif', '__construct', 'identify', 'userdata', 'docx', '768', 'userfile', 'objective', 'contents', 'market', 'privacy', 'fstream', 'ifstream', 'opened', 'csv', 'finish', 'versions', 'folders', 'profiles', 'specified', 'story', 'specify', 'whilst', 'mistake', 'cause', 'moving', 'less', 'material', 'gcd', 'concurrent', 'dispatch_get_main_queue', 'temporary', 'stmt', 'appid', 'pdo', 'fetch_assoc', 'row2', 'pdoexception', '_server', 'http_host', 'dirname', 'php_self', 'appname', 'userid', 'inserted', 'fetchall', 'json_encode', 'messing', 'sqlserver', '2008', 'ado', 'cs', 'webcontrols', 'sqlclient', 'page_load', 'registration', 'convert', 'toint32', 'jdk1', 'jre', 'dependent', 'jdk', 'dlls', 'lead', 'pom', 'classpath', 'tiff', 'raster', 'world', 'param', 'big', 'expert', 'division', 'caught', 'printf', 'vb', 'plot', 'datagridview', 'chart', 'fluid', 'water', 'potential', 'respect', 'linear', 'specifies', 'dim', 'datatable', 'chart1', 'databind', 'byval', 'handles', 'charting', '_x', 'pt', 'pointf', 'graphics', 'drawline', 'cpp', 'desired', 'although', 'spent', '0000', 'pp', 'g++', 'borders', 'hence', 'extended', 'further', 'rounded', 'programs', 'courses', 'ot', 'rails', 'ts', 'op', 'u', 'ns', 'myapp', 'emp', 'o2', '52', 'rec', 'cal', 'unset', 'complicated', 'overriding', 'woocommerce', 'cart', 'ignored', 'vars', 'wc', 'variation', 'add_action', 'ob_start', 'product_id', 'quantity', 'variations', 'get_option', 'fragments', 'clue', 'ping', 'came', 'removefromsuperview', 'controllers', 'subviews', 'uiview', 'calayer', 'retain', 'viewcontroller', 'mainview', 'vc', 'detailed', 'uiviewcontroller', 'dealloc', 'httprequest', 'httpresponse', 'getentity', 'getcontent', 'extract', 'consist', 'e1', 'enctype', 'enum', 'ff0000', 'func', 'expr', 'representation', 'resulting', 'lambda', 'sees', 'special', 'amazon', 'machine', 'invokes', 'sh', 'ec2', 'ext', 'quality', 'err', 'posted', 'attempt', 'array1', 'array2', 'enumerable', 'reflected', 'compare', 'prior', 'designed', 'ienumerable', 'movenext', 'childs', 'training', 'basics', 'ops', 'defaulthttpclient', 'httpclient', 'newest', 'httpentity', 'documentbuilderfactory', 'newinstance', 'documentbuilder', 'doc', 'nodelist', 'getelementsbytagname', 'opposed', 'selects', 'arrow', 'keydown', 'preventdefault', 'noise', 'restful', 'technology', '999', 'derived', 'iterates', 'overhead', 'vector', 'pointers', 'struct', 'vectors', 'explicit', 'feels', 'friend', 'increment', 'static_cast', 'past', 'iterating', 'em', 'typical', 'libgdx', 'fps', 'games', 'experience', 'reasons', 'choice', 'python3', 'forgive', 'ended', 'datagrampacket', 'packet', 'inetaddress', 'bytearrayoutputstream', 'tobytearray', 'combine', 'together', 'illegal', 'reported', 'compute', 'goal', 'computation', 'learn', 'ne', 'sklearn', 'randint', 'sum', 'evaluate', 'term', 'timeit', 'randomly', 'among', '44', 'million', 'cython', 'never', 'distances', 'proceed', 'seed', '1234', 'libc', 'parallel', 'metric', 'i1', 'i2', 'schedule', 'slower', 'worse', 'miss', 'synchronize', 'regarding', 'synchronization', 'deep', 'zoom', 'topics', 'logo', 'enterprise', 'ie9', 'executes', 'itself', 'references', 'him', 'kivy', 'smoothly', 'quit', '02', 'portrait', 'containers', '389', 'initializing', 'v2', 'oct', '58', 'gcc', 'compatible', 'llvm', 'clang', '703', '179', 'symbols', 'providers', 'traceback', 'recent', 'tts', 'leaving', 'cases', 'urlrequest', 'raises', 'pastebin', 'lista', 'sport', 'league', 'populates', 'unwanted', 'duplicates', 'trick', 'searches', 'symfony', 'referring', 'crud', 'quickly', 'tables', 'symfony2', 'netty', 'samples', 'centos', 'decide', 'spring', 'hibernate', 'history', 'applicationcontext', 'classpathxmlapplicationcontext', 'getbean', 'facebook', 'likes', 'onetomany', 'extra', 'unnecessary', 'student', 'room', 'browse', 'press', 'chosen', 'navigation', 'itemssource', 'datacontext', 'relative', 'intercept', 'forward', 'excel', 'succeed', 'responsetext', 'pk', 'hr', 'telephone', 'contacts', 'tel', 'preferred', 'initiate', 'scratch', 'delegate', 'exclude', 'htaccess', '_get', 'strtolower', 'strlen', 'longer', 'strpos', 'in_array', 'str_replace', 'pathinfo', 'errormsg', 'ignore', 'session_id', '567', 'hashed', 'consisting', 'chars', 'mytable', '251', 'preferences', 'instantly', 'differences', 'weird', 'statements', 'th', 'querying', 'preference', 'quote', 'onpreexecute', 'currenttimemillis', 'pm', 'packagename', 'caller', 'prefs', 'ai', 'unknown', 'hover', 'tooltips', 'tooltip', 'customize', '333', '320px', 'nowrap', 'moz', 'shadow', '4px', 'gradient', 'mandatory', 'frames', 'setvisible', 'mainframe', 'mf', 'silly', 'wanna', 'mediaplayer', 'getactivity', 'adt', 'arm', 'deflate', '06', 'managed', 'rates', 'filled', '186', 'countries', 'inserting', 'decoding', 'beginner', 'toolbar', 'setsupportactionbar', 'setsize', '2000', '1f', 'tile', 'separately', 'amount', 'conditional', 'formatting', 'assist', 'rendering', 'minor', 'slideshow', 'thin', 'photo', 'stays', 'lack', 'skill', 'idx', 'wonder', 'sliding', 'drawer', 'scrolling', 'viewed', 'clearly', 'paging', 'tries', 'scripts', 'causing', 'pulling', 'exporting', 'var_dump', 'assign', 'whitespace', 'file_name', 'vnd', 'xls', 'phpexcel', 'exported', 'redirected', 'is_valid', 'cleaned_data', 'company', 'authenticate', 'password2', 'urlpatterns', 'contrib', 'auth', 'logout', 'dashboard', 'evt', 'constraint', 'jq', 'remote', 'dopost', 'httpservletrequest', 'httpservletresponse', 'servletexception', 'acc', 'getparameter', 'getwriter', 'rules', 'rule', 'validation', 'confirm', 'somevalue', 'kernel', 'indexes', 'completed', 'allocation', 'variant', 'kill', 'execution', 'limitation', 'sites', 'luck', 'fiddle', 'flip', 'cool', 'pics', 'face', 'perspective', 'transform', 'preserve', '3d', '5s', 'font', 'family', 'paragraph', 'centered', 'pain', 'servlet', 'provided', 'behave', 'gravity', 'mytext', 'paddingleft', 'textcolor', 'ffffff', 'textsize', 'textappearance', 'layout_centerhorizontal', 'tap', 'phrase', 'publish', 'publishing', 'uploads', 'excerpt', 'attachment', 'lorem', 'ipsum', 'dolor', 'amet', 'sed', 'diam', 'post_id', 'mb', 'fa', 'circle', 'errormessage', 'submitbutton', 'queryselector', 'closure', 'addeventlistener', 'mouseover', 'draggable', 'spot', 'destroy', 'shift', 'positioning', 'switching', 'hoping', 'choices', 'disable', 'expense', 'onchange', 'selectedindex', 'salary', 'sales', 'accounts', 'whenever', 'de', 'edittext1', '+e', 'bufferedreader', 'inputstreamreader', 'outputstreamwriter', 'urlconnection', 'urlencoder', 'impl', 'test3', 'stringbuffer', 'sb', 'encode', 'wr', 'reader', 'getinputstream', 'stringbuilder', 'mysqli_connect', 'mysqli_connect_errno', 'mysqli_connect_error', 'mysqli_query', 'mysqli_fetch_array', 'mysqli_close', 'yii', 'gunicorn', 'serving', 'nginx', 'roles', 'openjpa', 'serializable', 'serialversionuid', 'generatedvalue', 'strategy', 'generationtype', 'sequence', 'generator', 'cascadetype', 'mappedby', 'manytoone', 'theory', 'gif', 'dateformat', 'yy', 'date1', 'date2', 'satisfied', 'graph', 'arc', 'wish', 'dfs', 'considering', 'selecting', 'four', 'clipboard', 'pokemon', 'formed', 'locations', 'moves', 'het', 'naam', 'van', 'item3', 'querystring', 'substring', 'newurl', 'pathname', 'recyclerview', 'extremely', 'rv', 'somemethod', 'depth', 'replacing', 'illegalstateexception', 'immediately', 'slight', 'monitor', 'bad', 'physical', 'nexus', 'formula', 'colors', 'mostly', 'acceptable', 'portfolio', 'develop', 'mac', 'scheme', 'events', 'reloading', 'clean', 'dist', 'desktop', 'copying', 'ant', 'subclass', 'uikit', 'interface', 'uitableviewcell', 'nonatomic', 'synthesize', 'initwithstyle', 'reuseidentifier', 'initialization', '240', '345', '109', 'setselected', 'animated', 'textlabel', 'tableview', 'uitableview', 'cellforrowatindexpath', 'nsindexpath', 'indexpath', 'cellidentifier', 'cell', 'dequeuereusablecellwithidentifier', 'nsdictionary', 'tweet', 'objectforkey', 'nsurl', 'imageurl', 'urlwithstring', 'uiimage', 'imagenamed', 'placeholder', 'layer', '0f', 'removing', 'normally', 'websocket', 'according', 'tutorial', 'aws', 'told', 'dedicated', 'ab', 'ws', 'established', 'subscribe', 'warn', 'cards', '224', 'meteor', 'tmpl', 'laptop', 'half', '41', 'usr', 'wraps', 'magnitude', 'ipad', 'uiwebview', 'simulator', 'text2', 'qt', 'win32', 'listactivity', 'progressdialog', 'pdialog', 'pe', 'remarks', 'namevaluepair', 'namevaluepairs', 'jsonarray', 'hashmap', 'lv', 'getlistview', 'preferencemanager', 'getdefaultsharedpreferences', 'basicnamevaluepair', 'setentity', 'urlencodedformentity', 'unsupportedencodingexception', 'jsonobject', 'jsonobj', 'getjsonarray', 'getjsonobject', 'jsonexception', 'dismiss', 'listadapter', 'simpleadapter', 'setlistadapter', 'appears', '54', '009', '111', '158', '171', '147', '287', 'futuretask', '234', '230', '022', 'threadpoolexecutor', 'runworker', '1080', 'worker', '573', 'efficiently', 'efficiency', 'naive', 'unsigned', 'resize', 'underlying', '++j', 'accesses', 'sized', 'reserve', 'push_back', 'routine', 'newrow', 'i+1', 'operator+', '30000', 'initialized', 'numrows', 'approximately', '8000', 'heavy', 'anymore', 'frustrating', 'ffmpeg', 'combining', 'bat', 'refreshes', 'designing', 'manual', 'downloads', 'drive', 'letter', 'capital', 'mine', 'loan', '96', 'principle', 'payment', '450', 'balance', 'interest', 'paid', '151', 'principal', 'declaration', 'attachments', 'cid', 'zip', 'disk', 'ascii', 'getbytes', 'filestream', 'filemode', 'fileaccess', 'usercontrol', 'myclass', '_name', 'elementname', 'occured', 'aim', 'reuse', 'observer', 'pattern', 'relationship', '1st', 'skipped', 'nextline', 'savechanges', 'dbcontext', 'entities', 'attach', 'debugger', 'compilation', 'especially', 'fx', 'tbody', 'asd', '449', 'odd', 'eee', 'ddd', '70px', 'markup', 'xpath', 'yield', 'pagination', 'baseurl', 'answers', 'callback', 'metadata', 'iterable', 'alter', 'talking', 'deal', 'scheduler', 'injected', 'inject', 'sessions', 'transactions', 'tx', 'rollback', 'dropdown', 'bill', 'cash', 'credit', 'xmlhttp', 'ie6', 'activexobject', 'onreadystatechange', 'readystate', '+str', 'num', 'mysql_num_rows', 'mysql_fetch_array', 'retrieved', 'detection', 'algorithms', 'unsupported', 'formats', '72', 'assertion', 'dst', '370', 'gen', 'weight', 'today', 'circles', 'coordinate', 'arch', 'calculates', 'damage', 'backup', 'blobs', 'blob', 'azure', 'overload', 'eventually', 'entirely', 'impossible', 'fs', 'fullpath', 'went', 'writefile', 'prevents', 'sync', 'listing', 'broadcastreceiver', 'onreceive', 'getaction', 'getextras', 'sms', 'msgs', 'anyway', 'square', 'zeros', 'a1', 'b1', 'installing', 'rotate', 'regardless', 'across', 'sp', 'optimize', 'evaluated', 'scipy', 'abs', 'embedded', 'optimization', 'evaluation', 'fastest', 'obtain', 'improve', 'backbone', 'settimeout', '5000', 'user_id', 'converts', 'tom', 'encryption', 'elif', 'ord', 'chr', 'languages', 'derby', 'phase', 'met', 'annotation', 'hbm2ddl', 'log4j', 'logger', 'cfg', 'annotations', 'faq', 'exp', 'december', '2006', 'detected', 'glassfish', 'helloworld', 'tools', '698', '199', '257', '104', '24px', 'tiles', 'drawn', 'meaning', 'offsets', 'browsing', '65', 'noob', 'launched', 'navigating', 'recommend', 'incorporate', 'expirationdate', 'strptime', 'integerfield', 'raise', 'attributeerror', '127', 'staticfiles', 'middleware', 'csrf', 'templates', 'premium', 'subscription', 'expire', '34', 'python27', 'handlers', '115', '148', '53', 'loader', 'kwargs', '177', '140', '134', '74', '124', '284', '779', '48', 'paddingbottom', 'dimen', 'activity_vertical_margin', 'activity_horizontal_margin', 'paddingright', 'paddingtop', 'textappearancelarge', 'layout_gravity', 'center_horizontal', 'mipmap', '61', 'contentdescription', 'cleaned', 'strip', 'become', 'stripped', 'functional', 'mails', 'clients', 'deliver', 'constructing', 'grabbed', 'minvalue', 'limits', 'critical', 'avail', 'rowcount', 'authority', 'doctor', 'loginform', 'fadein', 'fadeto', '900', 'h2', 'heading', 'jump', 'destroyed', 'pie', 'slice', 'posting', 'raised', 'geo', 'backends', 'utils', 'oracle', 'scraping', 'listed', 'beautifulsoup', 'urlopen', 'payload', 'agent', 'mozilla', 'soup', 'h3', 'mass', 'extend', 'sep', '__main__', 'plots', 'plugins', 'channel', 'xxxxxx', 'api_key', 'xhttp', 'setrequestheader', 'accept', 'crop', 'closing', 'opt', '622', 'manifest', 'skipping', 'proguard', 'signup', 'fileupload', 'begins', 'filedata', 'newuser', '404', 'signed', 's3', 'crypto', 'hex', 'unlink', 'appender', 'roll', 'daily', 'timing', 'described', 'simpler', 'specifying', 'mongo', 'various', 'tutorials', 'solving', 'upgraded', 'mongoclient', 'incorrectly', 'node_modules', '245', '110', '445', '68', 'anonymous', 'emit', '201', '98', 'guides', 'onoptionsitemselected', 'contactscontract', 'content_uri', 'suppresslint', 'requestcode', 'resultcode', 'se', 'est', 'result_ok', 'helpful', 'everybody', 'qstring', 'readwrite', 'setpassword', 'nam', 'names', 'texts', 'ring', 'r2', 'outer', 'r1', 'ratio', 'divided', 'equation', 'responsible', 'hard', 'coded', 'searchbar', 'printed', 'di', 'dispatcher', 'eventmanager', 'dbadapter', 'flash', 'cookies', 'myapplication', 'registering', 'directories', '__dir__', 'autoload', 'footer', 'cdn', 'dependency', 'dbname', 'utilities', 'notfound', 'trailing', 'slash', 'partials', 'getfile', 'getline', 'ini_set', 'display_errors', 'error_reporting', 'e_all', 'classname', 'entries', 'book', 'constraints', 'repeated', 'members', 'kindly', 'associative', 'deploying', 'stats', 'programme', 'turns', 'bla', 'bs', 'submission', 'increases', '153', 'gae', 'webapp', 'webapp2', 'osx', 'lion', '43', 'webpages', 'cached', 'restricted', 'trees', 'ml', 'huge', 'datasets', 'mapreduce', 'infrastructure', 'succeeds', 'opposite', 'pythonic', 'redo', 'dict', 'data2', 'valueerror', 'previously', 'copied', 'plz', 'complex', 'contained', 'edits', 'c1', 'c2', 'c3', 'ed', 'repository', 'seemed', 'sftp', 'convenient', 'scaling', 'tablerow', 'resizing', 'jpa', 'joincolumn', 'columnnames', 'fetchtype', 'lazy', 'onetoone', 'arr1', 'arr2', 'instantiate', 'apart', 'member', 'realize', 'produce', 'notification', 'soon', 'bare', 'wrapper', 'chunks', 'fyi', 'bus', 'jfilechooser', 'fc', 'arrayindexoutofboundsexception', 'getcolumn', '288', 'awt', 'dispatcheventimpl', 'dispatchevent', 'eventqueue', '610', 'eventdispatchthread', '280', '195', '189', 'dispatch', '220', '185', 'pumpevents', '172', '133', 'management', 'causes', 'involved', 'configured', 'transactional', 'rolled', 'beans', 'springframework', 'xsi', '2001', 'xmlschema', 'aop', 'schemalocation', 'xsd', 'autowire', 'jdbc', 'commons', 'dbcp', 'driverclassname', 'visited', 'fully', 'proxies', 'dealing', 'ends', 'fairly', 'verified', 'insights', 'signs', 'requested', 'driven', 'annotated', 'dao', 'somewhere', 'practice', 'getlogger', 'jdbctemplate', 'setdatasource', 'assert', 'supply', 'touches', 'uitextview', 'responding', 'mouseenter', 'svg', 'mouseleave', 'parentnode', 'succesfully', 'alone', 'httpwebrequest', 'webrequest', 'merchant', 'octet', 'merge', 'arg', '231', 'hasnext', 'pieces', 'compared', 'dbh', 'sentences', 'chat', 'occasionally', 'codec', 'ordinal', '128', 'nltk', 'sentence', 'iframe', 'filesize', 'uncaught', 'mingw', 'makefile', 'pragma', 'typedef', 'cflags', 'sources', 'wildcard', 'mkdir', 'confirmation', 'dbconnection', 'dr', 'executereader', 'odbc', 'michael', 'conflict', 'adjust', 'matching', 'essential', 'agency', 'array_push', 'ace', 'oledb', 'oledbconnection', 'table1', 'oledbcommand', 'pic', 'addwithvalue', 'field2', 'answered', 'inconsistent', 'accessibility', 'viewmodel', 'accessible', 'aren', 'preparestatement', 'setstring', 'executequery', 'parcelable', 'parcel', 'needing', 'rewrite', 'workbook', 'locks', 'restart', 'reconnect', 'disconnect', 'ma', 'mit', 'preg_match', 'print_r', 'iso', 'ca', 'spacer', 'lies', 'framelayout', 'attributeset', 'addview', 'depending', '0dp', 'mainlayout', 'imagebutton', 'layout_alignparentleft', 'layout_alignparenttop', 'extracted', 'cv2', 'builtin', 'dl', '2012', 'data1', 'trusted', 'certificates', 'ignores', 'culture', 'globalization', 'cultureinfo', 'ph', 'nt', 'relatively', 'lightbox', '25px', 'inherit', 'margins', 'aka', 'zombie', 'fashion', 'collision', 'animal', 'iv', 'accomplish', 'explore', 'blocked', 'pop', 'bundles', 'alot', 'confusing', 'covers', 'mention', 'portion', 'achieved', 'underneath', 'fold', 'scrollbars', 'worry', 'tall', 'scrolled', 'care', 'backgrounds', 'html5', 'intranet', 'searchstring', 'joe', 'hair', 'persistence', 'pojo', 'transient', 'someclass', 'despite', 'behavior', 'postgresql', 'postgres', 'shut', '2013', '08', '09', 'aside', 'appearing', 'temperature', 'degree', 'instagram', 'setbackgroundcolor', 'whitecolor', 'uiscrollview', 'contentoffset', 'origin', 'uiimageview', '202', '138', 'nsarray', 'mp4', 'uiapplication', 'sharedapplication', 'receives', 'customer', 'lastname', 'newarray', 'dest', 'pasted', 'necessarily', 'incomplete', 'redundant', 'comment', 'number1', 'number2', 'subtract', 'divide', 'stupid', 'mhandler', 'mlist', 'recipient', 'xmpp', 'smack', 'getuser', 'us', 'getbody', 'incoming', 'setadapter', 'terminate', 'experiment', 'train', 'accuracy', 'method1', 'stating', 'initializes', 'attention', 'encounter', 'listbox', 'listitem', 'constants', 'displayname', 'supplied', 'argumentexception', 'att', 'lookup', 'grateful', 'technical', 'introduction', 'states', 'ordering', 'sidebar', 'multi', 'onstart', 'onpause', 'sendmessage', 'interruptedexception', 'geocode', 'ar', 'north', 'east', 'apparently', 'precision', 'urlencode', 'ch', 'curl_setopt', 'curlopt_header', 'curlopt_followlocation', 'heard', 'floating', 'puzzle', 'probability', 'independent', 'five', 'beside', 'jframe', 'actionlistener', 'jpanel', 'panel2', 'jbutton', 'button2', 'jlabel', 'jtextfield', 'textfield', 'setlayout', 'borderlayout', 'boxlayout', 'setpreferredsize', 'dimension', 'addactionlistener', 'setdefaultcloseoperation', 'pack', 'actionperformed', 'actionevent', 'dispose', 'flowlayout', 'employee', 'setbounds', '290', 'repaint', 'revalidate', 'seemingly', 'twice', 'hundreds', 'slightly', 'failing', 'doubt', 'loss', 'figuring', 'shot', 'dark', 'mysqlconnection', 'cancellationtoken', 'exercise', 'ruby', '440', '493', '425', '401', 'jack', 'gender', 'wamp', 'orange', 'reporting', 'ordinary', 'cross', 'manipulation', 'scripting', 'attack', 'cookie', 'bank', 'initializer', 'myform', 'checkout', 'collecting', 'payments', 'distribution', 'hl', '89', 'da', 'nid', 'que', 'um', 'htmlspecialchars', 'mysqli_real_escape_string', 'mysqli_num_rows', 'preventing', 'injection', 'dbhelper', 'sqliteopenhelper', 'db_name', 'sqlitedatabase', 'getpackagename', 'databases', 'getreadabledatabase', 'myinput', 'getassets', 'mypath', 'opendatabase', 'onupgrade', 'oldversion', 'newversion', 'actionbaractivity', 'drawerlayout', 'actionbardrawertoggle', 'tv', 'getresources', 'drawer_layout', 'setonitemclicklistener', 'adapterview', 'onitemclicklistener', 'onitemclick', 'getsupportactionbar', 'getbasecontext', 'movetofirst', 'getcolumnindex', 'movetonext', 'action_settings', 'baseadapter', 'getcount', 'getitem', 'v4', 'medium', 'divider', '78', '299', 'abslistview', 'performclick', '2911', '785', '601', 'lag', 'drag', 'surfaceview', 'moved', 'cat', 'mysqli', 'mysqli_error', 'segment', 'dex', 'junit', 'asserttrue', 'ground', 'associated', 'enddate', 'rep', 'alex', 'pr', 'composed', 'comma', 'health', 'loses', 'image1', 'image3', 'constantly', 'surrounding', 'opens', 'pushing', 'anyobject', 'uialertaction', 'addaction', 'presentviewcontroller', 'completion', 'imagepicker', 'uiimagepickercontroller', 'cgfloat', 'sharedinstance', 'uifont', 'caching', 'mon', 'tue', 'viewmodels', '_blank', 'thoughts', 'slider', 'drupal', 'potentially', 'essentially', 'pointing', 'fadeout', 'knowledge', 'traditional', 'iteration', 'asynchronously', 'transforms', 'sys', 'pyqt4', 'qtcore', 'qtgui', 'mainwindow', 'qwidget', 'qapplication', 'webapi', 'getimage', 'mappath', 'httpstatuscode', 'jqxhr', 'garbage', 'base64', 'commented', 'conversion', 'leave', 'practices', 'fixes', 'subsequent', 'localized', 'ascending', 'calculations', 'compression', 'central', 'recreated', 'fullname', 'endswith', 'writer', 'readfile', 'mydiv', 'gettime', 'aid', 'parsefloat', 'sn', 'mp', 'mn', 'drivermanager', 'getconnection', 'createstatement', 'executeupdate', 'sqlexception', 'invoice', 'french', 'setdescription', '00000', 'realm', 'finance', 'v3', 'unitprice', 'qty', '2017', '198', 'fault', '6000', 'ce', 'un', 'sparse', 'ou', '71', 'duplicated', '51', 'mylist', '42', '49', 'uinavigationcontroller', 'holding', 'uitableviewcontroller', 'cells', 'hiding', 'storyboard', 'pin', 'demonstrate', 'navbar', 'xs', 'gap', 'disappears', 'reads', 'worried', 'clazz', 'wstring', 'signature', 'suggested', 'enables', 'msdn', 'yields', 'wins', 'counting', 'score', 'tt', 'postdelayed', 'incremented', 'cancelled', 'rate', 'quick', 'delay', 'pressed', 'prints', 'intellij', 'setname', '150', 'filepath', 'appdata', 'ico', 'mvvm', 'treeview', 'dal', 'connectionstrings', 'oledbdataadapter', 'parentid', 'rich', 'mary', 'travel', 'mike', 'door', 'brown', 'filling', 'friends', 'ldap', 'dc', 'cn', 'involving', 'nodejs', 'paused', 'board', 'reject', 'admob', 'ads', 'ctr', 'stopped', 'continuous', 'percent', 'blah', 'alternate', '302', 'affected', 'trust', 'excluding', 'snapshot', 'free', 'pipeline', 'drawing', 'shapes', 'tips', 'pipe', 'subprocess', 'popen', 'stdin', 'raw_input', 'hdfs', 'plane', 'conf', 'flight', 'threw', 'incompatible', 'objectinputstream', 'readobject', 'immutable', 'delegatingmethodaccessorimpl', 'serializer', '76', 'deserialize', 'executor', '214', '617', '745', 'tid', '175', '159', '204', 'tomcat', 'wsfilter', 'dofilter', 'exchange', 'cluster', 'deployed', '81', '82', 'ports', 'apache2', 'mono', 'shipping', 'insight', 'unsuccessful', 'tied', 'peter', 'remotely', 'ssh', '2nd', 'groupby', 'ef', 'dev', 'absolutely', 'wrapping', 'youtube', 'plays', 'webview', 'requestmapping', 'requestmethod', 'addattribute', 'began', 'study', 'mapping', 'o1', 'compiles', 'pname', 'preparing', 'experimenting', 'appdelegate', 'bridge', '365', '306', 'boxes', 'onload', 'type1', 'sid', 'reaches', 'illustrate', 'startup', 'music', 'streaming', 'against', 'itunes', 'multiplication', 'exemple', 'thanx', 'macro', 'replaces', 'identifier', 'pasting', 'besides', 'joomla', 'mx', 'copyright', '2005', 'matters', 'inc', 'rights', 'reserved', 'positions', 'm2', 'dictionaries', 'encoded', 'producing', 'act', 'app_name', 'beautiful', 'falls', 'alpha', 'mentions', 'opening', 'bracket', 'pa', 'observed', 'rotation', 'deg', 'plotting', 'useless', 'gist', 'keeping', 'sometime', 'settype', 'setaction', 'chooser', 'resume', 'articles', 'topic', 'transferred', 'mutable', 'pairs', '97', 'getproperty', 'checkboxes', 'layout_marginbottom', '15dp', 'lightgray', 'layout_alignparentright', 'layout_alignparentstart', 'offers', '20dp', 'mask', 'minus', 'px', 'entering', 'college', 'ba', 'associate', 'tech', '169', 'removes', 'translated', 'triggered', 'comparison', 'centre', 'axes', 'highcharts', 'prepared', 'pure', 'converting', '4th', 'developed', 'difficult', 'fresh', 'iqueryable', 'sencha', 'touch', 'd3', 'narrow', 'limitations', 'charts', 'fits', 'dog', 'horse', 'snake', 'qobject', 'destination', 'animals', 'thinks', 'compilers', 'rhs', 'allocated', 'heap', 'elegant', 'throwing', 'selectall', 'rect', 'frequency', 'styled', 'grouped', 'sections', 'nsurlconnection', 'nsjsonserialization', 'responsedata', 'reloaddata', 'jqgrid', 'mybutton', 'disabling', 'wich', 'removeattr', 'isempty', 'getcell', 'whats', 'preparedstatement', 'charm', 'zend', 'extending', 'fout', 'receiver', 'appengine', 'inf', 'svn', 'zipfile', '114', '112', '164', '132', '113', '69', 'sendmail', 'mypassword', 'tls', 'impact', 'invoking', 'ipc', 'btw', 'highly', 'alternatively', 'assembly', 'gc', 'printing', '616', 'reinterpret_cast', 'temparr', 'fprintf', 'transfer', 'infowindow', 'appendto', 'scaled', 'affect', 'originally', 'curious', 'onerror', 'landing', 'onsuccess', 'finishes', 'wave', 'composer', 'sudo', 'repositories', 'eof', 'launching', 'signal', 'releases', 'assigning', 'inserts', 'land', 'processes', 'invisible', 'winform', 'sufficient', 'actionlink', 'patterns', 'news', 'meet', 'layout_alignparentbottom', 'websettings', 'webviewclient', 'myurl', 'rootview', 'mywebview', 'loadurl', 'getsettings', 'setjavascriptenabled', 'apptheme', 'appcompat', 'colorprimary', 'noactionbar', 'themeoverlay', 'actionbar', 'navigationview', 'fitssystemwindows', 'floatingactionbutton', 'snackbar', 'v7', 'appcompatactivity', 'getsupportfragmentmanager', 'toggle', 'onbackpressed', 'androidmanifest', 'suppresswarnings', 'allowbackup', 'coordinatorlayout', 'appbarlayout', 'actionbarsize', 'typescript', 't2', 'setlocation', 'concrete', 'parsers', 'introduce', 'rebuild', 'file1', 'file2', 'resulted', 'advise', 'pair', 'maintaining', 'usernames', '989', 'appends', 'readlines', 'xy', 'differentiate', 'afterwards', 'razor', 'hints', 'zooming', 'gradle', 'exec', 'commandline', 'jni', 'dependencies', 'compilesdkversion', 'buildtoolsversion', 'defaultconfig', 'minsdkversion', 'targetsdkversion', 'versioncode', 'versionname', 'checksum', 'cmp', 'compiling', 'rm', 'ndk', 'mismatch', 'commenting', 'saying', 'community', 'partially', 'holds', 'consistent', 'macos', 'objc', 'nsobject', 'swift', 'targets', 'linker', 'architecture', 'overloading', 'maximum', 'tokens', 'usa', 'delimiter', 'classnotfoundexception', 'urlclassloader', '217', 'accesscontroller', 'doprivileged', 'appclassloader', 'findclass', '205', 'classloader', 'loadclass', '294', '266', 'abstractapplicationcontext', '161', '59', '83', 'openjdk', 'nov', 'endpoints', 'animatewithduration', 'troubles', '+data', 'printwriter', 'grab', '410', 'encodeuricomponent', 'arduino', 'hid', 'straightforward', 'hardware', 'pygame', '270', 'yahoo', 'plus', 'anchor', 'hovered', 'effects', 'hovering', 'uncheck', 'unlike', 'radiobutton', 'lol', 'negative', 'calculated', 'ranges', 'scenarios', 'getruntime', 'cf', 'servicename', 'replaceall', 'happened', 'processbuilder', '485', '135', '130', '597', '475', '667', 'shutting', 'dalvikvm', 'threadid', 'exiting', '344', 'policy', 'phonewindow', 'decorview', 'viewroot', '521', '868', 'sig', '484', 'freed', '276', '88', '416', '349', '427', 'isplaying', 'rewriteengine', 'rewritecond', 'request_filename', 'rewriterule', 'places', 'cms', 'codeigniter', 'xampp', '_cookie', 'missed', '181', 'starter', 'provides', 'ua', 'scalable', 'awesome', 'maxcdn', 'bootstrapcdn', 'skin', 'ie8', 'media', 'oss', 'purple', 'collapse', 'mini', 'sr', 'flat', 'maincontent', '400px', 'tabs', 'birthday', 'cake', 'h4', 'april', 'january', 'february', 'march', 'june', 'july', 'fillcolor', 'strokecolor', 'fff', 'digital', '141', '188', '86', 'bezier', 'dot', 'pixels', 'pixel', 'legend', 'tolowercase', 'aspect', 'connect_error', 'internally', 'automapper', 'mapper', 'serializing', 'circular', 'directions', 'depends', 'icollection', 'stated', 'numerical', '1e', 'pos', 'fmt', 'ellipsis', 'recover', 'ap', 'situations', 'va', 'represented', 'c++11', 'leaves', 'truncated', 'accomplished', 'viewbox', 'maxwidth', 'textblock', 'updatesourcetrigger', 'propertychanged', 'horizontalalignment', 'verticalalignment', 's+', 'perl', 'finds', 'vote', 'researching', 'bookmark', 'constexpr', 'mystruct', 'produced', 'wsdl', 'usable', 'mimetype', 'openxmlformats', 'sheet', 'dts', 'servicemodel', 'basichttpbinding', 'ntlm', 'buffered', 'getfiles', 'getfilename', 'possibility', 'reply', 'splitting', 'margintop', 'tahoma', 'aa', 'ib', 'ac', 'canada', 'air', 'soft', 'dollar', 'seat', 'contract', 'el', 'conversions', 'contexts', 'expands', 'race', 'frequently', 'allowing', 'comp', 'bugs', 'ideal', 'conclusion', 'funny', 'draft', 'stand', 'applicationid', 'driving', 'crazy', 'skype', 'onstop', 'landscape', 'ostream', 'typename', 'compatibility', 'singleton', 'locking', 'specialization', 'learned', 'wchar_t', 'php5', 'shed', 'verification', 'ease', 'freezes', 'hang', 'phones', 'deals', 'timeouts', 'connectivitymanager', 'networkinfo', 'isconnected', 'activities', 'expand', 'parents', 'expanding', 'striped', 'thead', 'dropped', 'group_id', 'hook', 'recursive', 'inputtype', 'proc', 'del', 'intended', 'addon', 'legacy', 'ipod', 'shall', 'distributed', 'deploy', 'staff', 'mechanism', 'expensive', 'effective', 'underscore', 'googleapiclient', 'naming', 'leaks', 'leak', 'xyz', '012', 'sc', 'subclasses', 'hierarchy', 'chain', 'tuples', 'plate', 'defaults', 'interpret', 'considered', 'tail', 'twisted', 'mymap', 'getsingleton', 'validating', 'imports', 'include_once', 'topnav', 'dbconnect', 'subtotal', 'mydata', 'selectcommand', 'systems', 'requesting', 'involves', 'obvious', 'increments', 'lock', 'xrange', '100000', 'appending', 'unsafe', 'implicitly', 'worth', 'dateformatter', 'escaping', 'todate', 'hey', '981', '+0000', '983', '6px', 'sizing', 'placehold', '57', 'ci', '8859', 'fixing', 'newsletter', 'fieldset', 'hides', 'touppercase', 'skills', 'enters', 'observable', 'ko', 'maxlength', 'sendemail', 'nombre', 'lo', 'stripslashes', 'arabic', 'asynchronous', 'baseclass', 'threaded', 'timed', 'predefined', 'fxml', 'xaxis', 'yaxis', 'myname', 'addall', 'newvalue', 'r3', 'referenced', 'ld', 'i386', 'aborted', 'hack', 'python2', 'pyc', 'st', 'peek', 'tkinter', 'pil', 'dice', 'geometry', 'everywhere', 'mainloop', 'workflow', 'diagnostics', 'verbose', 'listeners', 'pointed', 'urn', 'interrupted', 'serialization', 'neutral', 'publickeytoken', 'serialized', 'demand', 'developers', 'fake', 'jumped', 'fun', 'died', 'tired', 'multithreading', 'renderer', 'surface', 'creation', 'getwindow', 'value_type', 'leftmargin', 'concerned', 'colspan', 'weak', 'packets', 'datestring', 'mypanel', 'debugged', '1l', 'requestfocus', 'setcolor', 'skip', 'tableid', 'cell2', 'getmonth', 'getfullyear', 'ss', 'maxsize', 'unresolved', 'getter', 'namedquery', 'uuid', 'nonnull', 'getentitymanager', 'setparameter', 'relate', 'namely', 'mainly', 'columnname', 'inherits', 'numerous', 'restriction', 'file_exists', 'public_html', '654', 'ascx', 'validators', 'reasonable', 'require_once', 'client_id', 'secret', 'offline', 'authenticated', 'dimensions', 'conflicts', 'stdafx', 'nsnotificationcenter', 'defaultcenter', 'rootviewcontroller', 'statusbar', 'appearance', 'uncomment', 'uiwindow', 'placing', '12px', '8px', '16px', '14px', 'decoration', 'doctrine', 'numberformatexception', 'feeling', '0xff', 'targeting', 'modes', 'version_codes', 'javadoc', 'canceled', 'locate', 'wsgi', 'rpm', 'spec', 'tar', 'gz', 'license', 'externally', 'deprecated', 'stores', 'accurate', 'overall', 'stacked', 'normalize', 'countrycode', 'af', 'image_url', 'sha256', 'uppercase', 'meant', 'hash', 'cryptography', 'faces', 'texture', 'manages', 'iplimage', 'pitch', 'curr', 'size_t', 'scalar', 'eyes', 'ic_launcher', 'layout_torightof', 'layout_margin', '000000', 'vi', 'imageloader', 'keyset', 'publisher', 'outofmemoryerror', 'ram', 'gb', 'processor', 'ubuntu', 'redirects', 'showdialog', 'rock', 'tie', 'ending', 'highlight', 'selectedvalue', 'floatvalue', 'blackcolor', 'respective', 'team', 'teams', 'bob', 'avg', 'pandas', 'pd', 'dataframe', 'dtype', 'int64', 'effectively', 'itertools', 'particle', 'physics', 'pulls', 'forces', 'overcome', 'continues', 'increased', 'stretch', 'atlas', 'glm', 'vec3', 'getcurrentposition', 'currentposition', 'velocity', 'acceleration', 'integration', 'constructed', '5f', '2f', 'immediate', 'x+1', 'indices', 'triangle', 'shaders', 'shader', '4f', 'birth', 'effort', 'eager', 'targetentity', 'nullable', 'credits', 'getsession', 'findall', 'textfile', 'classcastexception', 'd4', 'stands', 'tf', 'recognize', 'hierarchical', 'analysis', 'stations', '221', 'dec', 'par', 'clusters', 'mix', 'read_csv', '238', 'arial', 'sans', 'serif', '3px', '5px', '888', 'slidedown', 'slideup', 'xerces', 'vendor', 'implementations', 'apis', 'accordion', 'slidetoggle', 'siblings', 'breaks', 'table_name', 'getdouble', 'decoder', 'decoded', 'bytebuffer', 'encoder', 'erb', 'link_to', 'created_at', 'strftime', 'logged_in', 'heroku', 'hw', 'setid', 'getjson', 'inventory', 'webm', 'mins', 'clarify', 'textcontent', 'codecs', 'ceil', 'filereader', 'chunk', 'appended', 'xhr', 'createtextnode', 'ga', 'insertbefore', '__str__', 'vertices', '170', 'python34', 'bound', 'collate', 'escape', 'generation', 'df', 'markers', 'hp', 'setattribute', 'fades', 'resized', 'grow', 'shrink', 'swipe', 'base_url', 'rb', 'routes', 'killing', 'fonts', 'databasehelper', 'sqliteexception', 'upgrade', 'contentresolver', '129', 'ct', 'execsql', 'getcontentresolver', 'getwritabledatabase', 'comparing', 'uninstall', 'seticon', 'getdrawable', 'viewpager', '50dp', 'tablayout', 'layout_above', '5dp', 'center_vertical', 'corresponds', 'l1', 'pickerview', 'fl', 'iboutlet', 'uipickerview', 'uitextfield', 'trunk', '30319', 'presses', 'bubble', 'val1', 'val2', 'appeared', 'inactive', '500px', '4s', '22px', 'spacing', '3s', '35px', 'forkey', 'newly', '3rd', 'recursively', 'accesstoken', 'document_root', 'request_uri', 'migration', 'xxxxx', 'srcdirs', 'ehcache', 'xxxx', 'rename', 'deprecation', 'hbm', 'testcompile', 'filetree', 'applet', 'qr', 'scanning', 'getuserid', 'equalsignorecase', 'social', 'tweets', 'vimeo', 'sf', 'infobox', 'icons', 'onfocus', 'onblur', 'headline', 'visit', 'themes', 'helvetica', '5em', 'grails', 'listfragment', 'song', 's1', 'songs', 'getparent', 'setbackgroundresource', 'anim', 'puts', 'es', 'mysql_real_escape_string', 'kept', 'openqa', 'webelement', 'testng', 'z0', 'findelement', 'sendkeys', 'expecting', 'gettitle', 'matcher', 'corners', 'decision', 'nameerror', 'hot', 'name1', 'ball', '555', 'expanded', 'twig', 'male', 'female', 'endblock', 'understood', 'qui', 'unordered_map', '+i', 'recursion', 'uniqueid', 'selecteddate', 'entryset', 'getkey', 'statuscode', 'getlist', 'exc', 'nums', 'slots', 'stringstream', 'arbitrary', 'discovered', 'placeholderfragment', 'foobar', 'googling', 'slug', 'totally', 'calculating', 'unix', 'timestamps', 'irrelevant', 'overlapping', 'describes', 'anchorpane', 'maxheight', 'infinity', 'minwidth', 'ru', 'tablecolumn', '125', 'fxmlloader', 'getclass', 'getresource', 'invocationtargetexception', 'nativemethodaccessorimpl', 'invoke0', '537', '722', 'glass', 'didselectrowatindexpath', 'searchresult', 'setimage', 'forstate', 'uicontrolstatenormal', 'addtarget', 'forcontrolevents', 'contentview', '333333', 'verdana', 'textalignment', 'customview', 'lifecycle', 'coder', 'nsbundle', 'mainbundle', 'withevent', 'uievent', 'numberofrowsinsection', 'dropbox', 'matched', 'latin1', 'tabindex', 'autofocus', 'product_name', 'num_rows', 'cloud', 'oauth', 'manipulate', 'id1', 'id2', 'commas', 'str1', 'str2', 'brackets', 'quotes', 'outcome', 'guarantee', 'cut', 'wants', 'jumping', 'watched', 'fullscreen', 'statistics', 'justify', 'label2', 'superview', 'nslayoutconstraint', 'relatedby', 'toitem', 'multiplier', 'layouts', 'tablets', 'adapt', 'resolution', 'datetimepicker', 'ratings', 'rating', 'star', 'knockout', 'vehicles', 'drivers', 'isauthenticated', 'tojson', 'orderid', '62', 'discount', 'hadoop', 'resides', 'treat', 'claims', 'permissions', 'homecontroller', 'stamp', 'tenant', 'claim', 'h5', 'h6', 'editable', 'heart', 'mappings', 'relationships', 'descriptor', 'jsonparser', 'settextsize', 'jobj', 'clientprotocolexception', '511', '560', 'strictmode', 'libcore', 'plainsocketimpl', '144', 'abstracthttpclient', '465', 'viewflipper', 'backwards', 'motionevent', 'myactivity', 'setontouchlistener', 'ontouchlistener', 'ontouch', 'action_down', 'getx', 'action_up', 'getapplication', 'dispatchtouchevent', 'viewrootimpl', 'messagequeue', 'stable', 'often', 'ipython', 'resizable', 'annoying', 'concepts', 'nor', 'slowly', 'freq', 'occurrence', 'myarray', 'allocate', 'ie11', 'favorite', 'infinite', 'intval', 'benefit', 'nicely', 'wcf', 'webservices', 'viewcontrollers', 'okay', 'presented', 'tabbar', 'restore', 'jdialog', 'dbuser', 'dbpass', 'getpath', 'fos', 'componentmodel', '9a', 'za', 'stringlength', 'viewbag', 'todouble', 'category_id', 'category_name', 'endforeach', 'post_title', 'row++', 'experiencing', 'intermediate', 'addresses', 'researched', 'imagedata', 'commondatakinds', 'modelform', 'primary_key', 'lowercase', 'manufacturer', 'nome', 'valor', 'cron', 'strtotime', 'highlighting', 'currentpage', 'club', '60px', '666', 'ccc', 'page1', 'page2', 'highlighted', 'form_validation', 'set_rules', 'credential', 'app_id', 'order_id', 'is_array', 'item_details', 'item_id', 'item_name', 'preg_replace', 'strip_tags', '79', '254', 'innodb', 'foreign', 'bufferedinputstream', 'bufferedoutputstream', 'responsecode', '208', 'nio', '335', '412', 'anonfun', '105', 'anon', '328', '413', '984', '786', 'wiki', 'honestly', 'groupname', 'jsoup', 'entered', 'elsewhere', 'copies', 'attaching', 'ups', 'executable', 'inherited', 'base64_encode', 'php_eol', 'salt', 'nowhere', 'decrypt', 'webforms', 'deny', 'locked', 'alright', 'gnu', 'published', 'componentname', '1001', 'restarting', 'multiline', 'fieldname', 'ondestroy', 'disconnected', 'acquire', '65535', 'unused', 'performed', 'charat', 'lastindexof', '1000000', 'displayfor', 'editorfor', 'jaxrs', 'jetty', 'cxf', 'getinstance', 'webappcontext', 'customers', 'chance', 'picks', 'served', 'gov', 'nr', 'curlopt_httpheader', 'pem', 'passwords', 'recreate', '273', 'london', 'frameworks', '87', 'opener', '213', 'getattr', 'ioerror', 'errno', 'furthermore', 'determined', 'tabhost', 'addtab', 'newtabspec', 'tab1', 'setindicator', 'setcontent', 'tab2', 'india', 'xd', 'keytool', 'alias', 'privatekey', 'keystore', 'magic', 'passport', 'minimal', 'flexible', 'didnt', 'datatemplate', 'stackpanel', 'textwrapping', 'fontfamily', 'wp', 'fontsize', 'matlab', 'ja', 'instantiated', 'integrate', 'sdks', 'flag_activity_new_task', 'setflags', 'mime', 'onconfigurationchanged', 'configchanges', 'organize', 'defines', 'expose', 'orm', 'sqlalchemy', 'extensions', 'representing', 'inspect', 'areas', 'dumb', 'spans', 'strangely', 'winfx', 'presentation', 'mc', 'blend', 'dockpanel', 'downloadmanager', 'hosts', 'crashing', 'backtrace', 'libdispatch', 'dylib', 'corefoundation', 'ver', 'wow64', 'clr', '50727', 'p0', 'operand', 'rooms', 'hosting', 'mscorlib', 'appropriately', 'prevent', 'talk', 'form1', 'form2', 'fw', 'npm', 'hm', 'pf', 'hat', 'codepen', '0dip', 'layout_marginright', 'tabcontent', 'avi', 'thru', 'jobject', 'codebase', 'homepage', 'splash', 'shortcut', 'submenu', 'jqueryui', 'beta', 'hub', 'setvisibility', 'monitoring', 'telnet', 'executors', 'communication', 'hmac', 'sha1', 'stick', 'exit_on_close', 'bf', 'minlength', 'opensession', 'concerns', 'fair', 'enqueue', 'differently', 'bye', 'personal', 'contenteditable', 'elm', '1500', 'fo', 'fh', '1d', 'wikipedia', 'titles', 'pageid', 'terminated', 'counter++', 'y++', 'expires', 'authorize', 'poll', 'ones', 'detach', 'glad', 'implicit', 'websites', 'towards', 'startinfo', 'verb', 'processstartinfo', 'privileges', 'exits', 'appdomain', 'picturebox', 'picturebox1', 'backcolor', 'translatey', 'rectangles', 'vid', 'invert', 'toupper', 'pen', 'defaulttablemodel', 'getmodel', 'bufferedwriter', 'filewriter', 'xna', 'collect', 'significant', 'increasing', 'supporting', 'capabilities', 'gdb', 'visits', 'charge', 'pod', 'violation', 'safely', 'error_message', 'capability', 'voice', 'sockets', 'messed', 'getaddress', 'ir', 'pw', 'clientsocket', 'maincontroller', 'serversocket', 'pool', 'parses', 'particularly', 'reach', 'hangs', 'roughly', 'promise', 'persists', 'fax', 'companyname', 'denied', 'retrieves', 'graphic', 'itemtype', 'sibling', 'textbox1', 'textbox2', 'repeating', 'deck', 'neither', 'keyup', 'county', 'postcode', 'equalto', 'agree', 'town', 'till', 'word1', 'suddenly', 'startswith', 'w+', 'locally', 'power', 'et', 'dummy', '+i+', 'parent_id', 'confusion', 'fourth', 'longest', 'nest', 'stumped', 'leaf', 'pro', 'sap', 'portal', 'literally', 'visitors', 'persistent', 'phonegap', 'challenge', '121', '226', '116', '154', '157', '249', 'corrupted', 'accessed', 'fluent', 'mock', 'configuring', 'pan', 'forbidden', 'colored', 'thousands', 'hotspot', 'photoshop', 'jersey', 'mediatype', 'gson', 'httpserver', 'bought', 'javaee', 'webapps', 'nesting', 'coll', 'sorting', 'sth', 'bindparam', 'result1', 'blabla', 'autowired', 'userdetails', 'getpassword', 'authorities', 'concurrency', 'expired', 'redirection', 'matplotlib', 'fig', 'plt', 'ax', 'cropped', 'scenes', 'jf', 'cl', 'getcontentpane', 'removeall', 'l2', 'panel1', 'b2', 'setresizable', 'cities', 'opinion', 'sharing', 'persist', 'paris', 'played', 'relations', 'jane', 'test4', 'intersect', 'unordered', 'pushes', 'quot', 'mk', 'updated_at', 'population', 'setdata', 'rpc', 'fork', 'multiprocessing', 'googled', 'afraid', 'attempted', 'mapoptions', 'maptypeid', 'terrain', 'strokeweight', 'setmap', 'addlistener', 'setposition', 'fading', 'becoming', 'cdata', 'units', 'gl10', 'gl', 'glclear', 'gl_color_buffer_bit', 'uniform', 'gl_texture_2d', 'varying', 'vec2', 'texture2d', 'held', 'opengl', 'ni', 'iasyncresult', 'asyncresult', 'employees', 'employeeid', 'refers', 'early', 'ini', 'highest', 'fopen', 'fgets', 'fclose', 'six', 'myproject', 'lcom', 'loadlibrary', 'clinit', 'tb', 'num1', 'num2', 'xxxxxxxx', 'explaining', 'suspect', 'owned', 'lname', 'tz', 'bother', 'nsfetchedresultscontroller', 'fetchedresultscontroller', 'managedobjectcontext', 'valueforkey', 'setheader', 'bearer', 'viewholder', 'fromhtml', 'mview', 'scss', '2s', 'dashed', 'vue', 'doe', 'updatepanel', '420', 'artist', 'nsutf8stringencoding', 'trip', 'mcursor', 'phonenumber', 'ischecked', 'class1', 'adapters', 'list_item', 'knew', 'merged', 'sealed', 'graphs', 'confirmed', '350', 'frameborder', 'released', 'ptr', 'mmm', 'highscore', '146', '142', 'sessionstorage', 'setobject', 'setitem', 'getobject', 'deferred', 'maze', 'pink', 'neighbors', 'gem', 'page_id', 'rank', 'clearfix', 'isotope', 'sl', 'itemprop', 'select2', 'onsubmit', 'prev', 'insertafter', 'replies', 'pfobject', 'initwithnibname', 'nibnameornil', 'nibbundleornil', 'pfuser', 'currentuser', 'pfquery', 'createdat', 'forindexpath', 'didreceivememorywarning', 'navigationcontroller', 'uialertview', 'initwithtitle', 'cancelbuttontitle', 'otherbuttontitles', 'textview1', '40dp', 'spinner1', 'btn1', 'listview1', 'simple_list_item_1', 'cors', 'charges', 'tofixed', 'infos', 'fetches', 'begininvoke', '001', 'forgot', 'subcategory', 'getid', 'processrequest', 'isnullorempty', 'saveas', 'ashx', 'repo', 'titanium', 'spawn', 'installer', 'sorted', 'mymodal', '587', 'speech', 'recognition', 'sphinx', 'semi', 'dic', 'grammar', 'badge', 'uibarbuttonitem', 'rc', 'tochararray', 'dump', '184', 'inputmethodmanager', '296', 'chinese', '216', 'noted', 'plaintext', 'novice', 'alphabet', 'cnt', 'globals', 'messaging', 'polling', 'battery', 'apns', 'foreground', 'user1', 'user2', 'massive', 'requiring', 'reliable', 'project_id', 'sourceforge', 'projectid', 'inverse', 'textboxes', 'geturl', 'balls', 'imap', 'inbox', 'overview', 'unread', 'galaxy', 'avd', '1280', '285', 'density', 'hd', 'dimensional', 'passes', 'additionally', 'combinations', 'i18n', 'feb', 'babel', 'debian', 'flask', '0a', 'mar', 'thx', 'grep', 'breakpoint', 'multidimensional', 'tryparse', 'totals', 'bigdecimal', 'pl', 'observablecollection', 'servlets', 'catalina', 'hovers', 'hitting', 'showasaction', 'tr1', 'redhat', '__gnu_cxx', 'candidates', '551', 'samsung', 'ee', 'seperate', 'lab', 'desire', 'encountering', 'firstly', 'secondly', 'adrequest', 'vfy', 'landroid', '441', 'packagemanager', 'applicable', 'kids', 'ta', '131', 'hyperlink', 'newbie', 'textviewresourceid', 'efficient', 'capturing', 'captured', '160', 'ic', 'interopservices', '720', 'listviewitem', 'idle', 'calc', 'dojo', 'referred', 'styleable', 'tracks', 'albums', 'innertext', 'w3schools', 'advanced', 'releasing', 'finger', 'cdnjs', 'cloudflare', 'candidate', 'inspector', 'datecreated', 'ut', 'xmldocument', 'xmlnode', 'msgbox', 'itextsharp', 'ble', 'grouping', 'row1', 'nb', 'conference', 'conversation', 'ember', '3600', 'grant', 'cable', 'empid', 'companies', 'linkedin', 'rsa', 'retry', 'poi', 'wrapped', 'adjusted', 'newline', 'shuffle', '77', 'bbb', 'aaa', 'subtitle', 'jan', 'jun', 'jul', 'aug', 'borderwidth', '155', 'validates', 'win7', 'stdio', 'ifndef', 'interceptor', 'stateless', 'compliant', 'jboss', 'purchase', 'sell', 'fee', 'sku', 'indicates', 'disposed', 'undeclared', 'marker', 'nearest', 'fragmentactivity', 'ft', 'containskey', 'treenode', 'regard', 'breaking', '80px', 'functioning', 'dialogresult', 'ack', 'eventhandler', 'primefaces', 'jsf', 'outputtext', 'multimap', 'rd', 'iterators', 'vague', 'addrow', 'removechild', 'heights', 'stringreader', 'jtextarea', 'focusable', 'y_axis', 'setlocationrelativeto', 'distinguish', 'leo', 'temporarily', 'unavailable', 'rootscope', 'disc', 'abort', 'filtering', 'artists', 'difficulties', 'checker', 'pulled', 'continuously', 'viewstate', 'telerik', 'primitive', 'outputting', 'removal', 'tinymce', 'audit', 'secure', 'proposed', 'phtml', 'ti', '730', 'recognized', 'strength', 'starttime', 'wb', '++', 'urlencoded', 'shorter', 'filelist', 'involve', 'latter', 'former', 'proj', 'getdescription', 'richtextbox', 'winforms', 'containerbase', 'spi', '291', '352', '219', '356', '557', '556', 'executioncontext', '253', '275', '606', '152', '331', '271', '267', '315', '297', '167', 'grizzly', '235', 'filterchain', 'defaultfilterchain', 'strategies', '117', 'threadpool', 'dowork', 'euro', 'requestcontext', 'intentfilter', 'accepts', 'surfaceholder', 'screenx', 'screeny', 'getbitmap', 'getwidth', 'getheight', 'ontouchevent', 'drawbitmap', '260', 'gety', 'pause', 'googlemap', 'mmap', 'supportmapfragment', 'findfragmentbyid', '107', 'access_fine_location', 'sdk_int', 'granted', 'edu', 'importing', 'appcontroller', 'invalidoperationexception', 'linkid', 'pivot', 'autoincrement', 'carbon', 'content1', 'programatically', 'uiscreen', 'mainscreen', 'uigraphicsgetcurrentcontext', 'access_token', 'tracing', 'machines', 'chose', 'utilize', 'ifmodule', 'mod_rewrite', 'qsa', 'deposit', 'james', 'initcomponents', 'severe', 'joptionpane', 'showmessagedialog', 'leaflet', 'geojson', 'killed', 'triggering', 'mymodel', 'universal', 'mage', 'safety', 'validated', 'quarter', 'drawrect', 'quest', 'ret', 'problematic', 'designer', 'paintcomponent', 'achieving', 'jasperreports', 'locale', 'numberformat', 'playlist', 'decrypted', 'predicate', 'intellisense', 'facility', 'tablename', 'implode', 'consumption', 'older', 'newimage', 'unrecognized', 'workarounds', 'entitymanager', 'eclipselink', '106', '207', '725', 'protectiondomain', 'dointersectionprivilege', '242', '962', '228', '165', '489', '301', '108', 'nativeconstructoraccessorimpl', 'delegatingconstructoraccessorimpl', '411', '386', 'sqlerror', 'mysqlio', 'connectionimpl', 'nature', 'approx', 'viewwillappear', 'prepend', 'gave', 'q1', 'delta', 'eventid', 'fullcalendar', 'appbundle', 'ax1', 'ax2', 'cordova', 'station', 'album', 'basis', 'nsurlrequest', 'viewdidappear', 'subtype', 'pathforresource', 'inputfile', 'outputfile', 'jenkins', 'intend', 'wider', 'trough', 'platforms', 'buffers', 'templated', 'mdata', 'wd', 'existence', 'collected', 'listen', 'lhs', 'namespaces', 'japanese', 'a2', 'po', 'withrowanimation', 'textstyle', 'italic', 'connects', '304', 'jsonresponse', 'parseexception', 'aslist', '194', '190', 'index++', '2009', 'boundfield', 'onmouseover', 'relation', 'nsuserdefaults', 'standarduserdefaults', 'protect', 'appium', 'malformedurlexception', 'descriptions', 'thumb', 'featured', 'greetings', 'haystack', 'elasticsearch', 'higher', 'ak', 'oauth_token', 'paginate', 'unity', 'interfaces', 'getsize', 'aar', 'newer', 'artifacts', 'per_page', 'rowid', 'mysql_result', 'prog', 'reg', 'keypress', '600px', 'tabinfo', 'prices', 'isolate', 'establish', 'scrollable', 'atom', 'etree', 'iter', 'ele', 'truly', 'university', 'au', 'operate', 'mylib', 'marshalas', 'unmanagedtype', 'hresult', 'il', 'productid', 'productname', 'templateurl', 'consectetur', 'elit', 'vitae', 'companyid', 'company_id', 'analyzer', 'tokenizer', '1800', 'minimize', 'x0', 'lr', '314', '263', 'classifier', 'weights', 'asio', 'ec', 'closest', 'img1', 'link1', 'img2', 'link2', 'meeting', 'int32', 'protocols', 'sqldatareader', 'fjs', 'en_us', 'outline', 'treated', 'gd', 'inst', 'bulk', 'triangles', '505', 'rx', 'index1', 'spam', 'recipients', 'notify', 'alignment', 'prod', 'testcase', '_traits', 'char_traits', 'callable', 'firebase', 'minecraft', 'carry', 'accepting', 'raspberry', 'result2', 'magento', 'depend', 'walk', 'sensors', 'informations', 'datas', 'budget', 't3', 'mt', 'pyspark', 'gzip', 'malloc', 'rss', 'marquee', 'fox', 'htdocs', 'compress', 'irc', 'angular2', 'cm', 'bmi', 'popover', 'cgsizemake', 'navigationitem', 'brain', 'dostuff', 'myservice', 'migrate', '174', 'standardwrappervalve', '2003', 'acme', 'exclusive', 'ons', 'ins', 'beyond', 'datagridview1', 'operands', 'uploadfile', 'requestbody', 'okhttpclient', 'tier', 'film', 'hooks', '348', 'gdx', 'unspecified', 'resolver', '507', 'cli', 'daemoncommandexecution', '176', '94', '187', 'lwjgl', 'natives', 'armeabi', 'mkdirs', 'jdt', 'scopes', 'xamarin', 'chooses', 'she', 'createquery', '032', 'ispostback', 'datastore', 'searcher', 'consecutive', 'barcode', 'sat', '405', 'parallax', 'factor', 'serious', 'crashed', 'fabric', 'crashlytics', '640', 'cgsize', 'eu', 'groovy', 'mdl', 'ev', 'ans', 'tester', 'art', 'occurrences', 'uint32_t', 'listings', 'scales', 'cellpadding', 'col1', 'col2', 'energy', 'forth', 'reviews', 'xslt', 'severity', 'chris', 'xsl', 'cellspacing', 'icloud', 'screenshots', 'qa', '480', 'ultimate', 'decodestream', 'isolated', 'unsure', 'imaging', 'drawimage', 'startx', 'starty', 'stopwatch', 'edit2', 'elastic', 'complexity', 'picking', 'bjarne', 'chapter', 'cont', 'concern', 'classa', 'classb', 'timeline', 'jsonp', 'profiler', 'horizontally', 'spin', 'pyplot', 'sp1', 'j+1', 'cat_id', 'professional', 'tapped', 'titlelabel', 'rg', 'para', 'ra', 'getposition', 'todatetime', 'actionbarsherlock', 'denominator', 'fraction', 'gonna', 'reduced', 'secondary', 'ny', 'k1', 'k2', 'intel', 'cygwin', 'dos', '_request', 'mydomain', '403', '163', 'flag_activity_clear_top', 'launches', 'obtained', 'stat', 'getfragmentmanager', 'boot', 'mockito', 'runwith', 'springjunit4classrunner', 'responseentity', 'sw', 'enabling', 'shares', 'pdb', 'busy', 'pb', 'department', 'discover', 'xl', 'setdate', 'unmanaged', 'xmlparser', 'resetting', 'compares', 'teacher', 'count++', 'jscrollpane', 'scrollpane', 'diff', 'fri', '2004', 'tty', 'mem', '0x00000000', 'didfinishlaunchingwithoptions', 'launchoptions', 'rolling', 'customization', 'mission', 'datafield', 'unknownhostexception', 'showinputdialog', 'cxx', 'demos', 'fft', 'libcxxsupport', 'string_utils', 'allocator', 'istream', 'tolower', 'basic_string', 'vtable', 'cmake', 'layoutparams', 'setlayoutparams', 'persons', 'arg3', 'poco', 'york', 'loggerfactory', 'setbackground', 'jcomponent', 'erase', 'remoteviews', 'insamplesize', 'largest', 'getdefault', 'accelerometer', 'refreshed', 'statically', 'labelledby', 'clause', 'earth', 'union', 'notebook', 'referer', 'pig', 'preg_match_all', 'parentheses', 'somewhat', 'prompts', 'egg', 'flex', 'remaining', 'onfailure', 'yeah', 'favicon', 'selectlistitem', 'i+', 'unexpectedly', 'eloquent', 'departure', '246', '237', 'sticky', '244', 'form1_load', 'notified', 'webdriver', 'woff', 'ttf', '8888', 'noclassdeffounderror', 'groupid', 'artifactid', '193', 'getelementsbyclassname', 'paragraphs', 'swf', 'allowfullscreen', 'autoplay', 'av', 'disables', 'testdata', 'membership', 'mvn', 'mainclass', 'renamed', 'purchases', 'setenabled', 'getattribute', 'stopping', 'repeatedly', 'trash', 'intersection', 'line1', 'line2', 'jobs', 'composite', 'tensorflow', 'py2', 'cert', 'mainctrl', '4000', 'stateprovider', 'javascripts', 'setoptions', 'bindingflags', 'ofstream', 'venue', 'students', 'dob', 'major', 'photos', 'picasso', 'squareup', '206', '423', '588', '818', 'decorator', 'extjs', '312', 'rnd', 'acts', 'listening', 'socketexception', 'nosuchalgorithmexception', 'setproperty', 'af_inet', 'sock_stream', 'assumed', 'exclusions', 'bom', 'enumeration', 'anyways', 'htc', 'pagex', 'offsetheight', 'dialect', 'factors', 'thymeleaf', 'registers', 'captcha', '256', 'gold', 'zoomed', 'getexternalstoragedirectory', 'ondraw', '330', 'submitting', 'date_time', 'responds', 'friendly', 'singleline', '2dp', 'onmeasure', 'widthmeasurespec', 'heightmeasurespec', 'measurespec', 'positioned', 'scrollbar', 'twoway', 'bitmapimage', 'propertyname', 'instantiation', 'breakpoints', 'bgcolor', 'gm', 'dialogs', '800px', 'googlecode', 'tempor', 'labore', 'dolore', 'magna', 'enim', 'quis', 'nisi', 'ea', 'commodo', 'consequat', 'duis', 'velit', 'nulla', 'bucket', 'lan', 'indexing', 'pros', 'cons', 'setwebviewclient', 'indent', 'switches', 'getcolor', 'testactivity', 'german', 'patch', 'tm', 'vice', 'versa', 'jcombobox', 'locator', 'dbset', 'dayofweek', 'amounts', 'seq', 'comm', 'interpolation', '512', '2048', 'spend', 'convention', 'fruits', 'consumes', 'resid', '166', 'the_title', 'post_type', 'wp_query', 'have_posts', 'the_post', 'endwhile', 'sdf', 'wed', 'bear', 'indicating', 'actor', 'eur', 'usd', 'datacolumn', 'filenames', 'revision', 'value3', 'jasper', 'getresourceasstream', 'band', 'opaque', 'asm', 'dependentassembly', 'applying', 'season', '625', 'sam', '243', '324', 'theres', 'importantly', 'signing', 'clears', 'childnodes', 'dns', '3306', 'counts', 'underline', 'pdfpcell', 'setborder', 'snap', 'ha', 'dword', 'enumerate', 'protection', 'tp', '_t', 'pseudocode', 'booking', 'personid', 'fancy', 'popular', 'plist', 'interpreter', 'guest', '191', '408', 'dbc', 'backbutton', '__dirname', 'technologies', 'roi', 'isenabled', 'goals', 'classic', 'jmenuitem', 'menubar', 'jmenu', 'bw', 'ob', 'cssclass', 'ionic', 'getint', 'late', 'turning', 'mypage', 'mousemove', 'nsdateformatter', 'isnt', 'zone', '595', 'requestwindowfeature', 'objectmapper', 'codehaus', 'jackson', 'biginteger', 'myintent', 'pendingintent', 'notificationcompat', 'notificationmanager', 'tns', 'oauth2', 'endpoint', 'typeid', 'gridview1', 'playback', 'first_name', 'last_name', 'full_name', 'rawquery', 'sprintf', '0x00', 'datatables', 'getarguments', 'getboolean', 'onattach', 'putboolean', 'putint', 'setarguments', 'gridlayout', 'xmldoc', 'documentelement', 'smsmanager', 'phoneno', 'movie', 'man', 'lives', 'gr', 'bytearray', 'professor', 'battle', 'enemy', 'notepad', 'apologize', 'spirit', 'chmod', 'automatic', 'phpmyadmin', 'memset', 'office', '2007', 'searchview', 'pushviewcontroller', 'nspredicate', 'scaletype', 'name2', 'class2', 'observe', 'cfm', 'wire', 'ndarray', 'writes', 'declarations', 'cstdlib', 'king', 'cerr', 'catid', 'hql', 'ast', '325', 'antlr', '248', '183', 'sessionimpl', 'imagepath', 'file_path', '_data', '__thiscall', 'asynccallback', 'oncomplete', 'virtualhost', 'couldnt', 'gotten', 'province', 'toggleclass', 'completionhandler', 'addobserver', 'fileinput', 'undo', 'forecolor', 'imgproc', 'createbitmap', 'imageview1', 'visually', 'throughout', 'naturally', '149', '223', 'cnn', 'quotation', 'csharp', 'input2', 'mysqlcommand', 'loginactivity', 'silverlight', 'thu', 'mainpage', 'eventname', 'unclear', 'initwithdata', 'datausingencoding', 'cr', 'escaped', 'placeholders', 'hear', 'mod', 'apt', 'i686', 'floats', 'fly', 'pg', 'textview2', 'ems', 'onmouseout', 'weblogic', 'gameobject', 'elevation', 'ia', 'retrofit', 'getmethod', 'getstatus', 'routing', '203', '338', '353', 'urllib2', 'myusername', 'isinstance', 'referencing', 'borderfactory', 'executions', 'packaging', 'navigator', 'scrollto', 'progid', 'viable', 'simplest', 'sake', 'clarity', 'foo2', 'myvar', 'exited', '2147483647', 'setfont', 'mouseevent', 'ibm', 'sharp', 'wss', 'onmessage', 'onclose', 'yyy', 'industry', 'brand', 'brands', 'worksheet', 'food', 'b4', 'tipo', 'sheets', 'myreader', 'sounds', 'hundred', 'troubleshooting', 'semantic', 'trans', 'overrides', 'unittest', 'lnk2019', 'lnk2001', 'helped', 'tbb', '__cdecl', 'complaining', 'registry', 'affects', 'clearing', 'currenttime', 'chrono', 'kb', '0x0', 'intention', 'param1', 'param2', 'slot', 'jcenter', 'belong', 'buildtypes', 'minifyenabled', 'proguardfiles', 'getdefaultproguardfile', 'itemlist', 'uniqid', 'sale', '18px', '150px', 'headertext', '700', 'webfont', 'clues', 'ion', 'testrunner', '__call__', 'syntaxerror', 'colmodel', 'rownum', 'pager', 'jsonreader', 'sortorder', 'adipiscing', 'laoreet', 'nunc', 'massa', 'aliquam', 'erat', 'tellus', 'egestas', 'vel', 'vestibulum', 'orci', 'ol', '1em', 'clf', 'phpinfo', 'reversed', 'america', 'gmt', 'comparable', 'sym', 'formal', 'anaconda', 'wheel', 'stanford', 'ser', 'nlp', 'droppable', 'b3', 'collapsible', 'jasmine', 'infile', 'mysqli_fetch_assoc', 'ist', 'uname', 'instruction', 'employeename', 'bot', 'joined', 'joins', 'cleartimeout', 'smooth', 'mkmapview', 'phpunit', '372', 'couchbase', 'connectionmanager', 'httpservlet', 'doget', 'quiz', 'education', 'ben', 'localstorage', 'cx', 'cy', 'wizard', 'pet', 'datamodel', 'descendants', 'simplify', 'numeric', 'binder', 'exposed', 'interactive', 'conventions', 'completes', 'mo', 'localization', 'overwritten', 'choosing', '11px', 'fin', 'hotel', 'site_url', 'ix', 'unbind', 'chevron', 'growing', 'hell', 'reportviewer', 'oop', 'des', 'brought', 'squares', 'uint8_t', 'automated', 'og', 'park', 'macros', 'interpreted', 'benchmark', 'sequential', 'java_opts', 'bl', '384', 'hero', '375', 'setview', 'networking', 'hibernatetemplate', 'getvalues', 'bt', 'getservice', 'unauthorized', 'multiselect', 'bellow', 'cursors', 'xmlreader', 'datum', '30dp', 'jqplot', 'placement', 'gcm', '9999', 'ship', 'svc', 'tracker', '831', 'xdebug', 'pear', 'grows', 'dataindex', 'caret', 'phpmailer', 'messageid', 'spread', 'delimited', 'pst', 'survey', 'segments', 'selections', 'ig', 'ht', 'unlimited', 'outgoing', 'ton', 'biggest', 'treemap', 'mid', 'drawstring', 'usuario', 'codigo', 'ri', 'sums', 'la', 'preload', 'expandablelistview', 'illuminate', 'dispatch_async', 'datastring', 'selectlist', 'htmlattributes', 'lp', 'setdisplayhomeasupenabled', 'wow', 'bc', 'getintent', 'getstringextra', 'ticker', 'jsondata', 'nsinvalidargumentexception', 'dat', '6s', 'mult', 'purchased', 'quad', 'new1', 'decryption', 'applewebkit', 'khtml', 'gecko', 'exponent', 'bigint', 'misc', 'parsedouble', '269', '295', '332', 'grouplayout', 'createsequentialgroup', 'addgroup', 'createparallelgroup', 'baseline', 'addcomponent', 'columnwidth', 'modifications', 'myobject', 'programmer', 'functionalities', 'carousel', '16dp', 'layout_alignleft', 'geocoder', 'stylesheets', 'tl', 'valign', 'fontweight', 'deserialization', 'hostconfig', 'mapred', 'proto', 'invoker', '399', 'segmentation', 'operators', '3a', 'outfile', 'cocos2d', '00000000', 'r0', '414', 'fp', 'scr', '544', '554', 'activitymanager', 'windowmanager', 'death', 'zipcode', '2a', 'assignments', 'screenorientation', 'adview', 'leads', '197', '1120', 'fab', 'addflags', 'getsimplename', 'storedprocedure', 'collector', 'gl11', 'redraw', 'nx', 'bodyparser', 'methodname', 'genre', 'loginbutton', 'courseid', 'getlastname', 'setw', 'libstdc++', 'terminating', 'textures', 'refs', '472', 'lollipop', 'mysql_fetch_assoc', 'nom', 'migrations', '__file__', 'stdlib', 'lm', 'cu', 'validations', 'mydbgl', 'selectquery', 'selecteditem', 'bp', 'dt1', 'dt2', 'gvrow', 'findcontrol', 'dis', 'vis', 'interpolate', '173', 'dragged', 'typeahead', 'dragging', 'grunt', 'sql2', 'query2', 'listfiles', '64bit', 'emulated', 'movies', 'geopoint', 'discovery', 'bindvalue', 'qdebug', '12345', 'camel', 'practical', 'timers', 'callbacks', 'guard', 'pdfs', 'stringwriter', '225', 'nfc', 'startbutton', 'rw', 'forname', 'equations', 'interop', 'jsbin', 'horizontalscrollview', 'gridbaglayout', 'inv', 'n1', 'setforeground', '310', 'getsource', 'amt', 'receipt', 'jlist', 'robot', 'dsn', '490', 'mr', 'contracts', 'bower_components', 'delivered', 'vhosts', 'sortable', '212', 'p3', '7d', 'p4', 'directives', 'glyphicon', 'pencil', 'mywebsite', 'ckeditor', 'specs', 'suffix', 'zlib', 'gtk', 'amd64', 'imageid', 'fasterxml', 'restclient', 'baseaddress', 'readtoend', 'streamwriter', 'docker', 'v8', 'digest', 'onresume', 'recaptcha', 'glob', '755', 'silver', 'km', 'gdata', 'project1', 'webbrowser', 'bing', 'geolocation', 'printer', 'consuming', 'crm', 'grabbing', 'struts2', 'sprite', 'elapsedtime', 'vector2', 'gametime', 'elapsed', 'spritebatch', 'getstate', 'contextmenu', 'authorized', 'targetapi', 'locals', 'generics', 'aaaa', 'destructor', 'ics', 'smarty', 'injector', 'caches', 'threshold', 'gulp', 'dcm', 'inset', 'finishing', 'ifdef', 'modelandview', 'uimanager', 'addmouselistener', 'catching', 'neque', 'libero', 'braces', 'suite', 'gateway', 'f1', 'f3', 'selectors', 'imageio', 'xlink', 'user_profile', 'error_log', 'setcookie', 'instrument', 'widths', '13px', 'remainder', 'fragmentpageradapter', 'charsequence', 'setcurrentitem', 'kit', '2c', 'partition', 'cores', 'eliminate', 'columnindex', 'rowindex', 'curly', 'dpi', 'merging', 'viewing', '355', 'requestparam', 'permutation', 'datatransfer', 'overlooking', 'intermediates', 'ipv4', 'ips', 'metro', 'unityengine', 'monobehaviour', 'randomnumber', 'rn', 'domdocument', 'securerandom', 'max_value', 'nvarchar', 'isnull', 'suit', 'wl', 'rmi', 'httpconnection', 'countdown', 'resets', 'start_time', 'migrating', 'fd', 'wx', 'gs', 'eye', 'waste', 'volley', 'volleyerror', 'cb', 'gestures', 'touching', 'dirty', 'gc_for_alloc', 'decoderesource', 'withobject', 'consistently', 'august', 'september', 'october', 'extracting', 'msbuild', 'n++', 'dataprovider', 'dataservice', 'cleanup', 'innerexception', 'categoryid', 'outdated', 'minflater', 'notifydatasetchanged', 'managing', 'm_data', 'rad', 'forced', 'chk', 'recipe', 'frm', 'environmental', 'errorcode', 'du', 'timepicker', 'motion', '02d', 's4', 'currentnode', 'visualization', 'addcolumn', 'dataview', 'polynomial', 'propagation', 'median', 'mouseout', 'xpos', 'ypos', 'xelement', 'tons', 'servletcontext', 'setcontenttype', '264', '2x', 'composition', 'referenceerror', 'detecting', 'indicated', 'kickstart', 'enforce', 'remote_addr', 'fwrite', 'addelement', 'parentelement', '3g', 'cllocationmanager', 'became', 'html4', 'parsejson', 'content_type', 'buff', 'fread', 'diagram', 'transitions', 'sadly', 'human', 'httpd', 'bind_param', 'gp', 'defaultvalue', 'glide', 'smallest', 'comparator', 'slim', 'finalize', 'getrgb', 'datasnapshot', '274', 'instruments', 'od', 'referencedcolumnname', 'glvertex3f', 'ln', 'na', 'lastly', 'setpadding', 'setimageresource', 'producer', 'vect', 'millions', 'inflating', 'cardview', 'mydate', 'ly', 'ie7', 'xmlserializer', 'isloggedin', 'usertype', 'getresult', 'exercises', 'typeface', 'groupposition', 'settypeface', 'layout_centervertical', 'beancreationexception', 'mystring', 'natural', 'yui', 'welcomed', 'scroller', 'nsmutableurlrequest', 'nsmanagedobjectcontext', 'coredata', 'texttospeech', '6f', 'winner', 'integrity', 'orient', 'retval', 'ambiguous', 'seven', 'grids', 'sphere', 'books', 'introduced', 'myobj', 'income', 'environ', 'dirs', 'context_processors', 'possibilities', 'nodevalue', 'templatefield', 'jade', 'configs', '31bf3856ad364e35', 'aspnet', '541', 'gwt', 'fancybox', 'pad', 'bounce', 'scores', 'superclass', 'bullets', 'readkey', 'automation', 'createobject', '960', '975', '902', 'interrupt', 'promises', '32px', 'attendance', '323', 'medical', 'appointment', 'si', 'director', 'esc', 'los', 'myimage', 'obj1', 'obj2', 'endfor', 'lst', 'basket', 'surefire', 'timeunit', 'teardown', '20000', 'brush', 'cube', 'gl_float', 'glloadidentity', '1000px', 'checkbox1', 'birthdate', 'sex', 'showmessage', 'excuse', 'validity', 'dm', 'uicollectionview', 'oftype', 'binds', 'httpmethod', 'getproperties', 'nsset', 'gameboard', 'traverse', 'bird', 'searchmanager', 'mdrawerlist', 'mdrawerlayout', 'getactionbar', 'madapter', 'newconfig', 'planet', 'psycopg2', 'cur', 'column1', 'column2', 'mytest', 'createinstance', 'blogspot', '580', 'roadmap', 'polyline', 'kml', 'zindex', 'determining', '283', 'signaled', 'commercial', 'lua', '585', 'sensormanager', 'chromium', 'exceeded', '815', 'reddit', 'hive', 'hole', 'tbl', '444', 'complextype', 'sax', 'anchors', 'provisioning', 'readable', 'mediacontroller', 'screenwidth', '527', 'datareader', 'requestanimationframe', 'reservation', 'runner', 'logically', 'studentid', 'fromdate', 'blitz', '17px', 'yesterday', 'graphics2d', 'g2d', 'baz', 'dock', 'addslashes', 'cleaning', '_context', 'bordercolor', 'wpdb', 'compressed', 'subcategories', 'tpl', 'maths', 'y0', 'x3', 'coords', 'fish', 'datos', 'sdl', 'sayhello', 'loose', 'bi', 'ipendpoint', 'seekbar', 'parsecolor', 'inflateexception', '553', 'createviewfromtag', 'rinflate', 'appcompatdelegateimplv7', '501', 'createview', '25dp', 'myadapter', 'soundcloud', 'favorites', '120px', 'supplier', 'customer_id', 'decimals', 'visitor', 'authenticator', 'webpack', 'loadmodule', '1a', '5th', '1b', 'senddata', 'shield', 'sup', 'votes', 'v5', 'subscriptions', 'dbconn', 'postdata', 'x00', 'frag', '259', 'computers', '1947', '178', '808', '268', 'forcing', 'prio', '841', 'sslcontext', 'x509certificate', 'categoryname', 'ioc', 'jmx', 'blackberry', 'unchanged', '525', 'cust', 'autogeneratecolumns', 'datagridtextcolumn', 'onpropertychanged', 'newtab', 'hashtable', 'mdf', 'targetframework', 'assemblies', 'executorservice', 'linkedlist', '_value', 'dept', 'sql1', '265', 'menuitems', 'displaymetrics', 'file_put_contents', 'vaadin', 'vec', 'lib64', 'jndi', 'certainly', '60000', '341', '422', 'configurable', 'ontextchanged', 'smtpclient', 'abcd', 'emailaddress', '5d', 'f0', 'transformer', 'reopen', 'doublevalue', 'bitmapdrawable', 'intents', 'testapp', 'redis', 'recommendations', 'adobe', 'finder', 'swingutilities', 'lk', 'jsonstring', 'userservice', 'cats', 'hasvalue', 'sz', 'clojure', 'coldfusion', 'instant', '8dp', 'shadows', 'vector3', '337', 'speaker', 'startanimation', 'mysql_close', 'defineclass', 'osgi', '358', '278', '429', '262', 'activator', '390', '340', 'javac', 'todos', 'errorhandler', '_y', 'isnan', 'isopen', 'asax', 'presentationcore', 'serviceprovider', '65536', 'jetbrains', 'subentry', 'equinox', 'javase', '767', 'nick', '196', '498', 'layers', 'isfile', 'jwt', 'wallpaper', 'detector', 'consume', '3f', 'onsaveinstancestate', '380', 'watching', 'listbox1', 'alphabets', 'sqldataadapter', 'itemname', 'htmlentities', 'modern', 'segue', 'loggedin', 'webcam', 'movement', 'gpio', 'blit', 'tagged', 'shortest', 'sessionfactory', 'currentthread', 'coyote', 'abstractprotocol', 'mv', 'tablesorter', 'simplicity', 'algo', 'visualstudio', 'varies', 'backgroundimage', 'translate3d', 'imgs', 'reshape', 'setgravity', 'identifiers', 'subversion', 'setresult', 'vec4', 'gl_array_buffer', 'recieve', 'sqlstate', 'primarykey', 'mwebview', 'android_asset', 'requirejs', 'mymodule', 'itr', 'mycontext', 'hasmany', '366', 'onresponse', 'mviewpager', 'felix', 'bundled', 'bufferedimage', 'jp', 'tag_id', 'tag_name', '470', '354', 'propertytype', 'mytype', 'xtype', 'collectionview', 'imagearray', 'outstream', 'qry', 'div1', 'mutex', 'combobox1', 'jaxb', 'iphonesimulator', 'cname', 'list1', 'list2', 'ds', 'uielement', 'textinput', 'annotate', 'editform', 'unlock', 'hinstance', 'actualwidth', 'branch', 'procedures', 'entityframework', 'a3', 'gridviewcolumn', 'exceeds', 'intervals', 'compareto', 'qmainwindow', 'supervisor', 'tiny', 'n2', 'serialport', '1050', 'optimal', 'referrer', 'wtf', '7px', 'blade', 'setstyle', 'compact', 'house', '156', 'pickle', 'opcode', 'handlebars', '322', '772', 'curlopt_ssl_verifypeer', 'axis2', '339', 'strcmp', 'nexttoken', 'dximagetransform', 'clip', '2em', 'mlistener', 'putstring', 'consumed', 'uwsgi', 'workers', 'myview', 'aspectj', 'pstmt', 'tablecell', 'xmlelement', 'nanotime', 'endtime', 'crc', 'keychain', 'equality', 'button3', 'constructors', 'advantages', 'entitymanagerfactory', 'transactionmanager', 'emf', 'mymethod', 'http11', 'quartz', 'echoed', 'popupwindow', 'sessionid', 'invokelater', 'apikey', 'meaningful', 't0', 'diagonal', 'upgrading', 'phar', 'db_connect', 'pypi', 'setuptools', 'db1', 'stringio', 'sprites', '229', 'hdc', 'addevent', 'listitems', 'wicket', 'imageicon', 'edititemtemplate', 'headerstyle', 'itemstyle', 'topmargin', '357', '293', 'bukkit', '305', 'craftbukkit', 'sourcefile', '239', 'departments', 'med', 'whitelist', 'mailto', '620', 'subitems', 'hamburger', '650', 'mainpanel', '509', 'shoot', 'topleft', 'argb_8888', 'coffee', 'slf4j', 'studying', 'figcaption', 'stoppropagation', 'runners', 'parentrunner', 'junit4', 'refused', '392', 'vals', '236', 'football', '0s', '_db', 'newlist', 'iframes', '000z', 'reminder', 'jars', 'fid', 'gridbagconstraints', 'insets', 'filetype', 'contentlength', 'tagname', 'httpapplication', 'cgcolor', 'm_pi', '374', 'memcache', 'contactform', 'american', 'sitemap', 'isactive', 'fk', 'nhibernate', 'sports', 'scrollviewer', 'person1', 'fundamental', 'yml', 'svm', 'predict', 'filein', 'v20150310', '577', 'turpis', 'nec', 'input1', 'caps', 'audiomanager', 'unique_ptr', 'maintenance', 'closer', 'portable', 'cgimage', 'nsuinteger', 'imagefile', 'msvc', 'mpl', '126', 'adress', 'getfirstname', 'searchterm', '_defaultimage', 'queryset', 'restaurant', 'ingredients', 'sanitize', 'memcpy', 'pricing', 'markdown', 'edt', 'monster', 'guzzle', '334', 'campaign', 'gbp', 'staging', 'compilerservices', 'prime', 'codebehind', 'scriptmanager', 'contenttemplate', 'fileinfo', '0000000000', 'uicollectionviewcell', 'index2', 'mingw32', 'csrf_token', 'secondviewcontroller', 'een', 'om', 'te', 'lvl', 'scatter', '308', 'rev', '456', 'mypackage', 'contextloaderlistener', 'dispatcherservlet', 'eot', 'legal', 'sequences', 'prompted', 'peripheral', 'tcpclient', 'simplexmlelement', 'db_password', 'arange', 'backing', 'commandbutton', 'query1', 'pylab', '44100', 'kw', '1112', 'octave', 'bindingsource', 'solr', 'empname', 'json_data', 'frameset', 'is_active', 'onactivitycreated', 'guava', 'webmvc', 'modelattribute', 'taglib', 'jstl', 'commandname', 'defer', 'operationcontract', 'servicebehaviors', 'bal', 'mi', 'gles20', 'forever', 'modelitem', 'tc', 'googlemaps', 'jcheckbox', 'greeting', 'viewdata', 'compressformat', '0x1', 'mcamera', 'getparameters', 'mimic', 'isequaltostring', 'yourself', 'karma', 'column_dimensions', 'ag', 'bd', 'bm', 'cg', 'paul', 'queues', 'video_id', 'dofinal', 'hbase', 'zookeeper', 'qualifier', '1111', '474', 'watcher', 'workerthread', 'cls', 'piechart', 'splits', 'flickr', 'fromfile', '311', 'peer', 'unpack', '241', 'tab3', 'outstate', 'loaddata', 'searchtext', 'inputline', 'nsentitydescription', 'exporter', 'mirror', 'epoch', 'targetfield', 'getcolumnindexorthrow', 'newtext', 'signalr', 'revert', 'nsmutabledictionary', 'reactor', 'mbuilder', 'access_network_state', 'c2dm', 'aspnetdb', 'uniqueidentifier', 'inheriting', 'enums', 'a4', 'nickname', 'pageradapter', 'strcpy', 'userinput', 'egl', 'bordered', 'complains', 'key1', 'key2', 'f5', 'intvalue', 'xdocument', 'dexer', 'fpm', 'getbroadcast', 'invoices', 'vehicle', 'objectoutputstream', 'writeobject', 'capacity', 'easing', 'bitmaps', 'argb', 'div2', 'adj', 'firewall', '435', 'eat', 'phantomjs', '460', 'bokeh', 'myfunc', 'autopostback', 'openlayers', 'setcenter', 'lon', 'theta', 'shopping', 'distutils', 'sqlparameter', 'datalist', 'availability', 'httpwebresponse', 'pcl', 'crypt', 'virtualenv', 'g1', 'modelversion', 'amazonaws', 'logfactory', 'dostart', 'abstractlifecycle', '799', '261', 'arrows', 'discard', 'zxing', '303', 'urlstring', 'returnvalue', 'dbcon', 'jms', 'failures', 'table2', 'contentpane', 'fixture', 'df2', 't4', 'a0', 'quota', 'sim', 'rotated', 'logback', '690', 'signingconfigs', 'signingconfig', 'imageadapter', 'mainmenu', 'assertequals', 'sonar', 'mycommand', 'initiated', 'gene', 'requesthandler', 'globally', 'basedir', 'fileset', 'crt', '642', 'getresponsestream', 'responseobject', 'stringvalue', 'contentvalues', 'database_version', 'key_name', 'applicationfilterchain', 'internaldofilter', 'standardcontextvalve', 'authenticatorbase', 'standardhostvalve', 'valves', 'errorreportvalve', 'standardenginevalve', 'coyoteadapter', 'abstracthttp11processor', 'jioendpoint', '1145', '615', 'grayscale', 'coord', '11615', 'teamfara', 'circadianrhythmmonitor4', 'powered', '+0', 'msc', '351', 'resteasy', '342', 'sensitive', 'manufacturers', 'fputs', 'log_tag', 'inputtext', 'bag', 'tokenize', 'patient', 'nm', 'startid', 'espresso', 'virtualenvs', 'mustache', 'dialogfragment', '458', '940', 'brightness', 'authors', 'sass', 'dropdowns', '252', 'association', 'mycompany', '379', 'eol', 'returnurl', 'blogs', 'restaurants', 'isbn', '247', 'resolving', 'mainnav', 'standards', 'delegates', 'oid', '347', '326', 'bufsize', '739', '211', 'semaphore', 'var1', 'df1', '346', 'interceptors', '318', '282', 'setchecked', 'getchildat', 'actors', 'qi', 'jax', 'xmlsoap', 'oasis', 'bandwidth', 'tif', 'slick', 'alarmmanager', 'protobuf', 'nsurlsession', 'requestwithurl', 'startpoint', 'optgroup', 'medicine', '162', '343', 'db2', 'appwidget', 'hue', 'eng', 'forhttpheaderfield', 'tumblr', 'backgroundworker', 'storm', 'accountid', 'swagger', '630', 'togglebutton', 'tornado', 'statuses', 'alist', 'postid', 'dbhost', 'directoryinfo', 'logon', '576', 'nn', 'node1', '_e', 'customername', 'cocoa', 'nmea', 'column3', 'jj', 'quoted', 'autocompletetextview', 'notitlebar', '889', 'cpath', 'thumbs', 'key3', 'q2', 'q3', 'hbs', 'database_table', 'databasehandler', 'key_id', 'namelist', 'asdf', 'beforesend', 'mov', 'autorelease', 'keyframes', '277', '307', '281', 'var2', 'var3', 'onlayout', 'sqliteconnection', 'string2', 'fromjson', 'bytearrayinputstream', 'userprofile', '824', 'spy', 'routeprovider', '858', 'viewid', 'objphpexcel', 'setcellvalue', 'param_str', 'palindrome', 'sslsocketimpl', 'selectbox', 'emailid', 'duedate', 'db_user', 'pageviewcontroller', 'clearrect', '373', '874', 'rotating', '289', 'ns2', 'setwidth', 'nazwa', 'cassandra', 'thrift', 'ing', 'todolist', 'mul', 'deriveddata', 'iphoneos', 'department_id', 'skspritenode', 'ocean', 'springapplication', '_key', 'objecttype', 'dv', 'jarray', '292', '496', '394', '309', '385', '670', 'mongotemplate', 'datepickerdialog', 'screensize', 'middlename', 'minoccurs', 'pat', 'userlocation', '1600', 'a5', '005', 'europe', 'ninject', '319', 'borderpane', 'm1', 'choreographer', 'typedarray', 'hibernate3', 'user_input', '504', 'jsch', 'sg', 'precompiled', 'crawler', 'keypressed', 'io_service', 'spanish', 'filltext', 'soapenv', 'abstractautowirecapablebeanfactory', 'bluetoothadapter', 'bluetoothdevice', 'unobtrusive', 'write_external_storage', 'manytomany', 'handlerequest', '867', 'dash', 'pdfreader', 'aux', 'customerid', 'applicationdispatcher', 'nestedservletexception', 'editors', 'frameworkservlet', 'eight', 'nine', 'audiorecord', 'c4', 'nv', 'dataadapter', 'ui360', 'sm2', 'trade', 'paged', 'simplecursoradapter', '570', 'contactlist', 'eh', 'vbox', '+this', 'fcm', 'typ', 'linearlayoutmanager', 'itemview', 'popupmenu', 'db_host', '835', 'roc', 'skaction', 'classlist', 'oldvalue', 'projectname', 'application_json', 'printstream', 'tn', 'startservice', 'intentservice', 'resttemplate', 'textwatcher', 'exclusion', 'sortexpression', 'messenger', 'powershell', 'ages', 'cap', '382', 'gems', 'celery', 'neo4j', 'nenter', 'standardcontext', 'lifecyclebase', 'java_home', 'startindex', 'australia', 'anaconda3', 'message_id', '23t20', 'swig', 'ssn', 'repr', 'incident', 'delegatingfilterproxy', 'mdb', 'pkg', 'newnode', 'navigationbar', 'ddl', 'mgoogleapiclient', 'yen', 'breeze', 'service1', 'percentages', 'getusername', 'cocoapods', 'swt', 'abbr', 'sv', 'mixer', 'modelid', 'manufacturerid', 'keyvaluepair', 'sqldbtype', 'nop', 'odata', 'extent', 'inputted', 'geronimo', 'submenus', 's5', 'millis', 'jbossweb', 'lb', 'telephonymanager', 'connectionresult', '853', 'itemscontrol', 'itemspaneltemplate', 'beef', 'liferay', 'vim', 'measurechildwithmargins', 'uinput', 'sha', 'facade', 'pipes', 'newfile', 'requiredfieldvalidator', 'dial_code', 'baos', '2877', 'thevalue', 'sitename', 'runbehavior', 'controllercontext', 'cbc', 'facades', 'gethashcode', 'mydatabase', 'blockquote', 'currentdate', 'comboboxitem', 'string1', 'stringrequest', 'testlist', 'accounttype', 'deviceid', 'restlet', 'linkedhashmap', 'mycanvas', 'pods', 'condimentum', 'eros', 'pellentesque', 'malesuada', 'quam', 'eget', 'ante', 'donec', 'mauris', '572', 'jlabel1', '517', 'addgap', 'preferred_size', 'logfile', 'yaw', 'container_12', 'invite', 'hdr', 'datetime2', 'mylogger', '75px', 'anytime', 'contextloader', '8388', '598', 'mainapp', 'sbin', 'ns1', 'breadcrumb', 'newname', '402', 'parseobject', 'justo', 'sem', 'dui', 'roster', 'maxoccurs', 'radiogroup', 'filterchainproxy', 'virtualfilterchain', 'onceperrequestfilter', 'nioendpoint', 'clubs', 'miles', 'entityid', 'basicdbobject', '12dp', 'keylistener', 'ctl00', 'x_axis', '_alloc', 'imagename', 'coroutine', '_bi', 'deps', 'quaternion', 'output_file', '2327', 'workbench', 'checklexer', 'routeparams', 'equipment', 'jam', 'matrix3d', '_this', 'bankaccount', 'jspservlet', '870', 'mailmessage', 'stripe', 'gregoriancalendar', '996', 'psi', 'expandable', 'childposition', 'ep', 'appendtext', 'orig', 'palette', 'webappclassloader', 'resourceid', 'newfragment', 'ownable', 'synchronizers', '_tp', 'norm', 'link3', 'colorspace', 'httpconn', 'wndproc', 'openglrenderer', 'libsystem_c', 'gc_concurrent', 'dme', 'robolectric', 'griddata', 'tentity', '272', 'dealer', 'polymer', 'log4net', 'alertview', 'bluetoothsocket', 'firstchild', 'disposing', 'rdr', 'mpaint', 'painter', 'hamcrest', 'marshaller', 'abstractbeanfactory', 'defaultlistablebeanfactory', '6119', 'pdo_mysql', 'joda', 'gpa', 'graphdb', 'getsqlvaluestring', 'tabspec', 'valuetype', 'seekto', 'libsystem_kernel', 'libsystem_pthread', '968', '11269', 'imagesource', 'ipn', 'eventdate', 'accountnumber', 'contours', '50087', 'connectionhandlerthread', 'sort_order', 'rl', 'qus', 'pyw', 'clj', 'hudson', 'default_size', 'w64', 'app_data', '_gl', 'myconnection', 'webcontainer', 'reflectivemethodinvocation', 'weekday', 'fcntl', 'xcoord', 'ycoord', 'num3', 'alexander', 'vector3f', 'decimalformat', 'ns0', 'scribblenaut', 'website5', 'addedge', 'httpurlconnectionimpl', '872', 'opensans', 'quartzcore', 'multiprecision', '16038', 'drawchild', 'dispatchdraw', 'abstractbutton', '14033', '6467', 'someobject', 'stn', 'sitecore', 'ctypes', 'mtabhost', 'valuearray', 'strsql', 'prop1', 'messagechar', '3273', 'armv7', 'wno', 'twentythirteen', '3+3', 'x5c', 'x7825', 'kings', 'monthname', 'invokerfilterchain', 'ray', 'bbox', '12243', 'httpengine', 'workday', 'richreaderdemo', 'session_data', 'vtk', 'expiresbytype', 'fetchrequest', 'glyph', 'openapi', 'serializers', 'mortbay', 'privateframeworks', 'hk2', 'markerclusterer', 'talledlocalcontainer', 'standardhost', 'sizeremaining', 'grailsruntimeexception', 'resistance', '2199', 'atrybut', 'mingw64', 'colorama', 'email_message', 'clean_string', 'testimonial', 'okio', 'pyinstaller', 'c00000', 'mu_ado_2', 'suseptible', 'phpback', 'casper', 'usg', 'mule', 'monoandroid70', 'uaid', 'connectedthread', 'edgelength', 'reference_wrapper', '21558', 'cursedchico', 'istanbuleventpool', 'palegreen', 'limegreen', 'w5', 'mobilesdk', '0x00000005', 'backgroundtaskhost', 'appcore', 'csi', '0x200', '0x4c0', '0x8c6', 'mediascanner', 'botocore', 'intset', 'decomp', 'persona', 'jzy3d', '_cls1', 'switchmap', 'dpdocter_db', '13271', 'irrlicht', 'shapearray', 'exampleproguard', 'ra0', 'lwf', 'hellolwfcocos2dx', 'libcocos2dcpp', '26045', 'parsecommandcache', 'phi_', 'cc1', '5818', 'catchjniexception', 'gameasset', '29938', 'x4c', 'model_account', 'ts2304', 'codesleeve', 'u0f0b', 'v20161221155621', 'ioslib', 'localintent', 'airportto'])\n",
      "CPU times: user 2min 29s, sys: 481 ms, total: 2min 29s\n",
      "Wall time: 2min 55s\n"
     ]
    }
   ],
   "source": [
    "%%time\n",
    "def filter_vocab(n=10000):\n",
    "        top_stats = sorted(model._word_stats.values(), reverse=True)[:n]\n",
    "        \n",
    "        counter = 0\n",
    "        top_words = []\n",
    "        for k, v in model._word_stats.items():\n",
    "            if v in top_stats and counter < n:\n",
    "                counter += 1\n",
    "                top_words.append(k)\n",
    "                \n",
    "        filtered_vocab = dict([(word, model._vocab[word]) for word in top_words])\n",
    "        model._vocab = filtered_vocab\n",
    "\n",
    "filter_vocab()"
   ]
  },
  {
   "cell_type": "code",
   "execution_count": null,
   "metadata": {},
   "outputs": [],
   "source": [
    "%%time\n",
    "model.filter_vocab()"
   ]
  },
  {
   "cell_type": "markdown",
   "metadata": {},
   "source": [
    "Do one more iteration through the dataset, reducing learning rate 20 times and L2-regularization 5 times with freezed vocab:"
   ]
  },
  {
   "cell_type": "code",
   "execution_count": 22,
   "metadata": {
    "ExecuteTime": {
     "end_time": "2018-11-12T21:58:00.298402Z",
     "start_time": "2018-11-12T21:52:35.100786Z"
    }
   },
   "outputs": [
    {
     "name": "stdout",
     "output_type": "stream",
     "text": [
      "LogRegressor v0.9 | 70000 (100.00%) samples fitted.\n",
      "0.67\n",
      "Mean of the loss function on the last 10k TRAIN samples: 14.06\n",
      "CPU times: user 23min, sys: 11.6 s, total: 23min 12s\n",
      "Wall time: 28min 5s\n"
     ]
    },
    {
     "data": {
      "image/png": "[encoded data removed]",
      "text/plain": [
       "<Figure size 432x288 with 1 Axes>"
      ]
     },
     "metadata": {
      "needs_background": "light"
     },
     "output_type": "display_data"
    }
   ],
   "source": [
    "%%time\n",
    "# HERE'S YOUR CODE\n",
    "# metrics = model.fit_dataframe(df, ...\n",
    "metrics = model.fit_dataframe(df, learning_rate=model.learning_rate/20,\n",
    "                              gamma_=model.gamma_/5, freeze_vocab=True)\n",
    "# HERE'S YOUR CODE\n",
    "# accuracy = ...\n",
    "accuracy = np.mean(metrics['Jaccard'][-10000:])\n",
    "print('{:.2f}'.format(accuracy))\n",
    "plot = plt.plot(pd.Series(metrics['loss'][:-10000]).rolling(10000).mean())\n",
    "last_10k_train_loss = np.mean(metrics['loss'][-20000:-10000]) \n",
    "print(f'Mean of the loss function on the last 10k TRAIN samples: {last_10k_train_loss:.2f}')"
   ]
  },
  {
   "cell_type": "markdown",
   "metadata": {
    "collapsed": true
   },
   "source": [
    "**<font color=\"red\">Question 9:</font> What's the average value of Jaccard accuracy in case of reducing the vocabulary size?**\n",
    "\n",
    "*For discussions, please stick to [ODS Slack](https://opendatascience.slack.com/), channel #mlcourse_ai, pinned thread __#a8_q9__*\n",
    "\n",
    "**<font color=\"red\">Answer options:</font>**\n",
    "1. 0.66\n",
    "2. 0.69\n",
    "3. 0.72 \n",
    "4. 0.75"
   ]
  },
  {
   "cell_type": "markdown",
   "metadata": {},
   "source": [
    "## 10. Predicting tags for new questions\n",
    "\n",
    "At the end of this assignment, you are supposed to implement the method `predict_proba`, which takes a model and a string containing the question and returns a list of predicted question tags with their probabilities."
   ]
  },
  {
   "cell_type": "code",
   "execution_count": 47,
   "metadata": {
    "ExecuteTime": {
     "end_time": "2018-11-12T21:58:40.677323Z",
     "start_time": "2018-11-12T21:58:40.671312Z"
    }
   },
   "outputs": [],
   "source": [
    "def predict_proba(model, sentence):\n",
    "    p = {}\n",
    "    # HERE'S YOUR CODE\n",
    "    for tag in model._tags:\n",
    "        z = model._b[tag]\n",
    "        for word in sentence:\n",
    "            if word in model._vocab:\n",
    "                z += model._w[tag][model._vocab[word]]\n",
    "        tag_proba = sigmoid(z)\n",
    "        p[tag] = tag_proba\n",
    "        print(f'{tag}: {p[tag]*100:.2f}%.')\n",
    "    return p"
   ]
  },
  {
   "cell_type": "code",
   "execution_count": 48,
   "metadata": {
    "ExecuteTime": {
     "end_time": "2018-11-12T21:58:41.226458Z",
     "start_time": "2018-11-12T21:58:41.223459Z"
    }
   },
   "outputs": [],
   "source": [
    "sentence = (\"I want to improve my coding skills, so I have planned write \" +\n",
    "            \"a Mobile Application.need to choose between Apple's iOS or Google's Android.\" +\n",
    "            \" my background: I have done basic programming in .Net,C/C++,Python and PHP \" +\n",
    "            \"in college, so got OOP concepts covered. about my skill level, I just know \" +\n",
    "            \"concepts and basic syntax. But can't write complex applications, if asked :(\" +\n",
    "            \" So decided to hone my skills, And I wanted to know which is easier to \" +\n",
    "            \"learn for a programming n00b. A) iOS which uses Objective C B) Android \" + \n",
    "            \"which uses Java. I want to decide based on difficulty level\")"
   ]
  },
  {
   "cell_type": "markdown",
   "metadata": {},
   "source": [
    "Preprocessing of the question (sentence) will only include converting it to lower case and deleting commas."
   ]
  },
  {
   "cell_type": "code",
   "execution_count": 49,
   "metadata": {
    "ExecuteTime": {
     "end_time": "2018-11-12T21:58:42.315626Z",
     "start_time": "2018-11-12T21:58:42.311628Z"
    }
   },
   "outputs": [
    {
     "name": "stdout",
     "output_type": "stream",
     "text": [
      "jquery: 0.00%.\n",
      "javascript: 0.00%.\n",
      "php: 0.00%.\n",
      "html: 0.00%.\n",
      "android: 100.00%.\n",
      "c++: 0.00%.\n",
      "python: 0.00%.\n",
      "c#: 0.00%.\n",
      "java: 0.00%.\n",
      "ios: 0.00%.\n"
     ]
    }
   ],
   "source": [
    "pred = predict_proba(model, sentence.lower().replace(',', ''))"
   ]
  },
  {
   "cell_type": "code",
   "execution_count": 50,
   "metadata": {
    "ExecuteTime": {
     "end_time": "2018-11-12T21:58:42.963020Z",
     "start_time": "2018-11-12T21:58:42.960009Z"
    }
   },
   "outputs": [],
   "source": [
    "tag_preds = sorted(pred.items(), key=lambda t: t[1], reverse=True)"
   ]
  },
  {
   "cell_type": "code",
   "execution_count": 51,
   "metadata": {
    "ExecuteTime": {
     "end_time": "2018-11-12T21:58:43.381228Z",
     "start_time": "2018-11-12T21:58:43.376229Z"
    }
   },
   "outputs": [
    {
     "data": {
      "text/plain": [
       "[('android', 1.0)]"
      ]
     },
     "execution_count": 51,
     "metadata": {},
     "output_type": "execute_result"
    }
   ],
   "source": [
    "list(filter(lambda t: t[1] > 0.9, tag_preds))"
   ]
  },
  {
   "cell_type": "markdown",
   "metadata": {},
   "source": [
    "**<font color=\"red\">Question 10:</font> Which tag or tags are associated with this question if the acceptance threshold is $ 0.9 $?**\n",
    "\n",
    "*For discussions, please stick to [ODS Slack](https://opendatascience.slack.com/), channel #mlcourse_ai, pinned thread __#a8_q10__*\n",
    "\n",
    "**<font color=\"red\">Answer options:</font>**\n",
    "1. ios\n",
    "2. android\n",
    "3. c#, c++\n",
    "4. ios, php"
   ]
  },
  {
   "cell_type": "markdown",
   "metadata": {},
   "source": [
    "PS: in the original question the following four tags are put: java, android, objective-c, ios."
   ]
  }
 ],
 "metadata": {
  "kernelspec": {
   "display_name": "Python 3",
   "language": "python",
   "name": "python3"
  },
  "language_info": {
   "codemirror_mode": {
    "name": "ipython",
    "version": 3
   },
   "file_extension": ".py",
   "mimetype": "text/x-python",
   "name": "python",
   "nbconvert_exporter": "python",
   "pygments_lexer": "ipython3",
   "version": "3.7.1"
  }
 },
 "nbformat": 4,
 "nbformat_minor": 2
}
