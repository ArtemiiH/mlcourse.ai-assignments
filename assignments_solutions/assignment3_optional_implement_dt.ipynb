{
 "cells": [
  {
   "cell_type": "markdown",
   "metadata": {},
   "source": [
    "## [mlcourse.ai](mlcourse.ai) – Open Machine Learning Course \n",
    "Author: [Yury Kashnitskiy](https://yorko.github.io) (@yorko). Edited by Anna Tarelina (@feuerengel). This material is subject to the terms and conditions of the [Creative Commons CC BY-NC-SA 4.0](https://creativecommons.org/licenses/by-nc-sa/4.0/) license. Free use is permitted for any non-commercial purpose."
   ]
  },
  {
   "cell_type": "markdown",
   "metadata": {},
   "source": [
    "# <center>Assignment #3. Optional part\n",
    "## <center> Implementation of the decision tree algorithm"
   ]
  },
  {
   "cell_type": "code",
   "execution_count": 1,
   "metadata": {},
   "outputs": [],
   "source": [
    "import numpy as np\n",
    "from matplotlib import pyplot as plt\n",
    "from sklearn.base import BaseEstimator\n",
    "from sklearn.datasets import make_classification, make_regression, load_digits, load_boston\n",
    "from sklearn.model_selection import train_test_split, GridSearchCV\n",
    "from sklearn.metrics import accuracy_score, mean_squared_error"
   ]
  },
  {
   "cell_type": "markdown",
   "metadata": {},
   "source": [
    "Let's fix `random_state` (a.k.a. random seed) beforehand."
   ]
  },
  {
   "cell_type": "code",
   "execution_count": 2,
   "metadata": {},
   "outputs": [],
   "source": [
    "RANDOM_STATE = 17"
   ]
  },
  {
   "cell_type": "markdown",
   "metadata": {},
   "source": [
    "**Implement the class `DecisionTree`**\n",
    "**Specification:**\n",
    "- the class is inherited from `sklearn.BaseEstimator`;\n",
    "- class constructor has the following parameters: \n",
    "    `max_depth` - maximum depth of the tree (`numpy.inf` by default); \n",
    "    `min_samples_split` - the minimum number of instances in a node for a splitting to be done (2 by default); \n",
    "    `criterion` - split criterion ('gini' or 'entropy' for classification, 'variance' or 'mad_median' for regression; 'gini' by default);\n",
    "    \n",
    "    A functional to be maximized to find an optimal partition at a given node has the form\n",
    "    $$Q(X, j, t) = F(X) - \\dfrac{|X_l|}{|X|} F(X_l) - \\dfrac{|X_r|}{|X|} F(X_r),$$\n",
    "    where $X$ are samples at a given node, $X_l$ and $X_r$ are partitions of samples $X$ into two parts \n",
    "    with the following condition $[x_j < t]$, and $F(X)$ is a partition criterion.\n",
    "    \n",
    "    For classification: let $p_i$ be the fraction of the instances of the $i$-th class in the dataset $X$.\n",
    "    \n",
    "    'gini': Gini impurity $F(X) = 1 -\\sum_{i = 1}^K p_i^2$.\n",
    "    \n",
    "    'entropy': Entropy $F(X) = -\\sum_{i = 1}^K p_i \\log_2(p_i)$.\n",
    "    \n",
    "    For regression: $y_j = y(x_j)$ - is a target for an instance $x_j$, $y = (y_1, \\dots, y_{|X|})$ - is a target vector.\n",
    "    \n",
    "    'variance': Variance (mean quadratic deviation from average) $F(X) = \\dfrac{1}{|X|} \\sum_{x_j \\in X}(y_j - \\dfrac{1}{|X|}\\sum_{x_i \\in X}y_i)^2$\n",
    "    \n",
    "    'mad_median': Mean deviation from the median $F(X) = \\dfrac{1}{|X|} \\sum_{x_j \\in X}|y_j - \\mathrm{med}(y)|$\n",
    "    \n",
    "- the class has several methods: `fit`, `predict` and `predict_proba`;\n",
    "- the`fit` method takes the matrix of instances `X` and a target vector `y` (`numpy.ndarray` objects) and returns an instance of the class `DecisionTree` representing the decision tree trained on the dataset `(X, y)` according to parameters set in the constructor; \n",
    "- the `predict_proba` method takes the matrix of instances `X` and returns the matrix `P` of a size `X.shape[0] x K`, where `K` is the number of classes and $p_{ij}$ is the probability of an instance in $i$-th row of `X` to belong to class $j \\in \\{1, \\dots, K\\}$.\n",
    "- the `predict` method takes the matrix of instances `X` and returns a prediction vector; in case of classification, prediction for an instance $x_i$ falling into leaf $L$ will be the class, mostly represented among instances in $L$. In case of regression, it'll be the mean value of targets for all instances in leaf $L$."
   ]
  },
  {
   "cell_type": "code",
   "execution_count": 3,
   "metadata": {},
   "outputs": [],
   "source": [
    "def entropy(y):\n",
    "    labels, counts = np.unique(y, return_counts=True)\n",
    "    probs = counts/len(y)\n",
    "    probs_times_log = probs*np.log2(probs)\n",
    "    return -np.sum(probs_times_log)"
   ]
  },
  {
   "cell_type": "code",
   "execution_count": 4,
   "metadata": {},
   "outputs": [],
   "source": [
    "def gini(y):\n",
    "    labels, counts = np.unique(y, return_counts=True)\n",
    "    probs = counts/len(y)\n",
    "    return 1 - np.sum(probs**2)"
   ]
  },
  {
   "cell_type": "code",
   "execution_count": 5,
   "metadata": {},
   "outputs": [],
   "source": [
    "def variance(y):\n",
    "    return np.mean((np.array(y) - np.mean(y))**2)"
   ]
  },
  {
   "cell_type": "code",
   "execution_count": 6,
   "metadata": {},
   "outputs": [],
   "source": [
    "def mad_median(y):\n",
    "    y = np.array(y)\n",
    "    med_y = np.median(y)\n",
    "    return np.mean(np.abs(y-med_y))"
   ]
  },
  {
   "cell_type": "markdown",
   "metadata": {},
   "source": [
    "The `Node` class implements a node in the decision tree."
   ]
  },
  {
   "cell_type": "code",
   "execution_count": 7,
   "metadata": {},
   "outputs": [],
   "source": [
    "class Node():\n",
    "    \n",
    "    def __init__(self, feature_idx=0, threshold=0, labels=None, left=None, right=None):\n",
    "        self.feature_idx = feature_idx\n",
    "        self.threshold = threshold\n",
    "        self.labels = labels\n",
    "        self.left = left\n",
    "        self.right = right"
   ]
  },
  {
   "cell_type": "markdown",
   "metadata": {},
   "source": [
    "Let's determine the function for calculating a prediction in a leaf. For regression, let's take the mean for all values in a leaf, for classification - the most popular class in leaf."
   ]
  },
  {
   "cell_type": "code",
   "execution_count": 8,
   "metadata": {},
   "outputs": [],
   "source": [
    "criterion_functions = {\n",
    "    'gini': gini,\n",
    "    'entropy': entropy,\n",
    "    'variance': variance,\n",
    "    'mad_median': mad_median\n",
    "}"
   ]
  },
  {
   "cell_type": "code",
   "execution_count": 9,
   "metadata": {},
   "outputs": [],
   "source": [
    "class DecisionTree(BaseEstimator):\n",
    "    \n",
    "    def __init__(self, max_depth=np.inf, min_samples_split=2, \n",
    "                 criterion='gini', debug=False, N_targets=None):\n",
    "        self.max_depth = max_depth\n",
    "        self.min_samples_split = min_samples_split\n",
    "        self.criterion = criterion\n",
    "        self.F = criterion_functions[criterion]\n",
    "        self.root = None\n",
    "        self.N_targets = N_targets\n",
    "        \n",
    "    def fit(self, X, y):\n",
    "        if self.criterion in ('gini', 'entropy') \\\n",
    "        and self.N_targets is None:\n",
    "            self.N_targets = len(np.unique(y))\n",
    "        X = np.array(X)\n",
    "        if len(X.shape) == 1:\n",
    "            X = X.reshape((-1, 1))\n",
    "        y = np.array(y)\n",
    "        N = X.shape[0]\n",
    "        F_X = self.F(y)\n",
    "        if F_X == 0 or self.max_depth < 1 or N < self.min_samples_split:\n",
    "            if self.criterion in ('gini', 'entropy'):\n",
    "                self.root = Node(\n",
    "                    labels=np.bincount(\n",
    "                        y.astype(np.int64),\n",
    "                        minlength=self.N_targets\n",
    "                    )\n",
    "                )\n",
    "            else:\n",
    "                self.root = Node(labels=y)\n",
    "        else:\n",
    "            sorted_ind = np.argsort(y)\n",
    "            X = X[sorted_ind]\n",
    "            y = y[sorted_ind]\n",
    "            change = list()\n",
    "            i = 0\n",
    "            prev = y[i]\n",
    "            for i in range(1, X.shape[0]):\n",
    "                if y[i] != prev:\n",
    "                    change.append(i)\n",
    "                    prev = y[i]\n",
    "\n",
    "            max_Q_feature_idx = 0\n",
    "            max_Q_threshold = (X[change[0]-1, max_Q_feature_idx]\\\n",
    "                               + X[change[0], max_Q_feature_idx]) / 2\n",
    "            max_Q_left = X[:, max_Q_feature_idx] < max_Q_threshold\n",
    "            left_N = X[max_Q_left].shape[0]\n",
    "            right_N = N - left_N\n",
    "            max_Q = F_X - (left_N*self.F(y[max_Q_left]) + right_N*self.F(y[~max_Q_left]))/N\n",
    "\n",
    "            for feature_idx in range(X.shape[1]):\n",
    "                for point in change:\n",
    "                    threshold = (X[point-1, feature_idx] + X[point, feature_idx]) / 2\n",
    "                    left = X[:, feature_idx] < threshold\n",
    "                    left_N = X[left].shape[0]\n",
    "                    right_N = N - left_N\n",
    "                    if left_N == 0 or right_N == 0:\n",
    "                        continue\n",
    "                    Q = F_X - (left_N*self.F(y[left]) + right_N*self.F(y[~left]))/N\n",
    "                    if Q > max_Q:\n",
    "                        max_Q = Q\n",
    "                        max_Q_threshold = threshold\n",
    "                        max_Q_feature_idx = feature_idx\n",
    "                        max_Q_left = left\n",
    "                        \n",
    "            self.root = Node(\n",
    "                feature_idx=max_Q_feature_idx,\n",
    "                threshold=max_Q_threshold\n",
    "            )\n",
    "            self.root.left = DecisionTree(\n",
    "                max_depth=self.max_depth-1,\n",
    "                min_samples_split=self.min_samples_split, \n",
    "                criterion=self.criterion,\n",
    "                N_targets=self.N_targets\n",
    "            )\n",
    "            self.root.left.fit(X[max_Q_left], y[max_Q_left])\n",
    "            \n",
    "            self.root.right = DecisionTree(\n",
    "                max_depth=self.max_depth-1,\n",
    "                min_samples_split=self.min_samples_split, \n",
    "                criterion=self.criterion,\n",
    "                N_targets=self.N_targets\n",
    "            )\n",
    "            self.root.right.fit(X[~max_Q_left], y[~max_Q_left])        \n",
    "        return self\n",
    "    \n",
    "    def predict(self, X):\n",
    "        X = np.array(X)\n",
    "        if len(X.shape) == 1:\n",
    "            X = X.reshape((-1, 1))\n",
    "        return np.apply_along_axis(func1d=self.predict_sample, axis=1, arr=X)\n",
    "\n",
    "    def predict_sample(self, sample):\n",
    "        if self.root.labels is not None:\n",
    "            if self.criterion in ('gini', 'entropy'):\n",
    "                return np.argmax(self.root.labels)\n",
    "            else:\n",
    "                return self.root.labels.mean()\n",
    "        else:\n",
    "            left = sample[self.root.feature_idx] < self.root.threshold\n",
    "            if left:\n",
    "                return self.root.left.predict_sample(sample)\n",
    "            else:\n",
    "                return self.root.right.predict_sample(sample)\n",
    "        \n",
    "    def predict_proba(self, X):\n",
    "        X = np.array(X)\n",
    "        if len(X.shape) == 1:\n",
    "            X = X.reshape((-1, 1))\n",
    "        return np.apply_along_axis(func1d=self.predict_sample_proba, axis=1, arr=X)\n",
    "    \n",
    "    def predict_sample_proba(self, sample):\n",
    "        if self.root.labels is not None:\n",
    "            return (self.root.labels)/sum(self.root.labels)\n",
    "        else:\n",
    "            left = sample[self.root.feature_idx] < self.root.threshold\n",
    "            if left:\n",
    "                return self.root.left.predict_sample_proba(sample)\n",
    "            else:\n",
    "                return self.root.right.predict_sample_proba(sample)"
   ]
  },
  {
   "cell_type": "markdown",
   "metadata": {},
   "source": [
    "## Testing the implemented algorithm"
   ]
  },
  {
   "cell_type": "markdown",
   "metadata": {},
   "source": [
    "### Classification"
   ]
  },
  {
   "cell_type": "markdown",
   "metadata": {},
   "source": [
    "Download the dataset `digits` using the method `load_digits`. Split the data into train and test with the `train_test_split` method, use parameter values `test_size=0.2`, and `random_state=17`. Try to train shallow decision trees and make sure that gini and entropy criteria return different results."
   ]
  },
  {
   "cell_type": "code",
   "execution_count": 10,
   "metadata": {},
   "outputs": [],
   "source": [
    "# You code here\n",
    "digits = load_digits()\n",
    "data = digits.data\n",
    "target = digits.target\n",
    "X_train, X_test, y_train, y_test = train_test_split(\n",
    "    data, target,\n",
    "    test_size=0.2,\n",
    "    random_state=RANDOM_STATE\n",
    ")"
   ]
  },
  {
   "cell_type": "markdown",
   "metadata": {},
   "source": [
    "Using 5-folds cross-validation (`GridSearchCV`) pick up the optimal values of the `max_depth` and `criterion` parameters. For the parameter `max_depth` use range(3, 11), for criterion use {'gini', 'entropy'}. Quality measure is `scoring`='accuracy'."
   ]
  },
  {
   "cell_type": "code",
   "execution_count": 11,
   "metadata": {},
   "outputs": [
    {
     "name": "stdout",
     "output_type": "stream",
     "text": [
      "Fitting 5 folds for each of 16 candidates, totalling 80 fits\n"
     ]
    },
    {
     "name": "stderr",
     "output_type": "stream",
     "text": [
      "[Parallel(n_jobs=-1)]: Done  80 out of  80 | elapsed:   23.9s finished\n"
     ]
    },
    {
     "data": {
      "text/plain": [
       "GridSearchCV(cv=5, error_score='raise',\n",
       "       estimator=DecisionTree(N_targets=None, criterion='gini', debug=None, max_depth=inf,\n",
       "       min_samples_split=2),\n",
       "       fit_params=None, iid=True, n_jobs=-1,\n",
       "       param_grid={'criterion': ['gini', 'entropy'], 'max_depth': range(3, 11)},\n",
       "       pre_dispatch='2*n_jobs', refit=True, return_train_score=False,\n",
       "       scoring='accuracy', verbose=True)"
      ]
     },
     "execution_count": 11,
     "metadata": {},
     "output_type": "execute_result"
    }
   ],
   "source": [
    "# You code here\n",
    "params = {\n",
    "    'criterion': ['gini', 'entropy'],\n",
    "    'max_depth': range(3, 11)\n",
    "}\n",
    "tree_grid = GridSearchCV(DecisionTree(), params,\n",
    "                         cv=5, n_jobs=-1, scoring='accuracy',\n",
    "                         verbose=True, return_train_score = False)\n",
    "tree_grid.fit(X_train, y_train)"
   ]
  },
  {
   "cell_type": "markdown",
   "metadata": {},
   "source": [
    "Draw the plot of the mean quality measure `accuracy` for criteria `gini` and `entropy` depending on `max_depth`."
   ]
  },
  {
   "cell_type": "code",
   "execution_count": 12,
   "metadata": {},
   "outputs": [
    {
     "data": {
      "image/png": "[encoded data removed]",
      "text/plain": [
       "<Figure size 432x288 with 1 Axes>"
      ]
     },
     "metadata": {},
     "output_type": "display_data"
    }
   ],
   "source": [
    "# You code here\n",
    "criterions = params['criterion']\n",
    "criterion_mask = tree_grid.cv_results_['param_criterion'].data\n",
    "mean_test_score = tree_grid.cv_results_['mean_test_score']\n",
    "for criterion in criterions:\n",
    "    plt.plot(params['max_depth'], mean_test_score[criterion_mask==criterion], label=criterion)\n",
    "plt.xlabel('max depth')\n",
    "plt.ylabel('mean test score')\n",
    "plt.legend(loc='upper left')\n",
    "plt.show()"
   ]
  },
  {
   "cell_type": "markdown",
   "metadata": {},
   "source": [
    "**1. Choose all correct statements:**\n",
    "1. Optimal value of the `max_depth` parameter is on the interval [4, 9] for both criteria.<br>\n",
    "**False - max_depth=8 is optimal for criterion='gini', but max_depth=10 is optimal for 'entropy'**\n",
    "2. Created plots have no intersection on the interval [3, 10]<br>\n",
    "**False - we clearly see intersections**\n",
    "3. Created plots intersect each other only once on the interval [3, 10].<br>\n",
    "**False - we clearly see at least two intersections**\n",
    "4. The best quality for `max_depth` on the interval [3, 10] is reached using `gini` criterion .<br>\n",
    "**True - best parameters are max_depth=10 and criterion='entropy'**\n",
    "5. Accuracy is strictly increasing at least for one of the criteria, when `max_depth` is also increasing on the interval [3, 10]<br>\n",
    "**True - for criterion='entropy' accuracy is strictly increasing on the interval [3, 10]**"
   ]
  },
  {
   "cell_type": "markdown",
   "metadata": {},
   "source": [
    "**2. What are the optimal values for max_depth and criterion parameters?**\n",
    "1. max_depth = 7, criterion = 'gini';\n",
    "2. max_depth = 7, criterion = 'entropy';\n",
    "3. max_depth = 10, criterion = 'entropy';\n",
    "4. max_depth = 10, criterion = 'gini';\n",
    "5. max_depth = 9, criterion = 'entropy';\n",
    "6. max_depth = 9, criterion = 'gini';"
   ]
  },
  {
   "cell_type": "code",
   "execution_count": 13,
   "metadata": {},
   "outputs": [
    {
     "data": {
      "text/plain": [
       "(0.85525400139178842, {'criterion': 'entropy', 'max_depth': 9})"
      ]
     },
     "execution_count": 13,
     "metadata": {},
     "output_type": "execute_result"
    }
   ],
   "source": [
    "tree_grid.best_score_, tree_grid.best_params_"
   ]
  },
  {
   "cell_type": "markdown",
   "metadata": {},
   "source": [
    "**Answer:**\n",
    "* So the optimal parameters are criterion='entropy', max_depth=9"
   ]
  },
  {
   "cell_type": "markdown",
   "metadata": {},
   "source": [
    "Train decision tree on `(X_train, y_train)` using the optimal values of `max_depth` and `criterion`. Compute class probabilities for `X_test`."
   ]
  },
  {
   "cell_type": "code",
   "execution_count": 14,
   "metadata": {},
   "outputs": [],
   "source": [
    "# You code here\n",
    "optimal_tree = DecisionTree(**tree_grid.best_params_)\n",
    "optimal_tree.fit(X_train, y_train)\n",
    "probas = optimal_tree.predict_proba(X_test)"
   ]
  },
  {
   "cell_type": "markdown",
   "metadata": {},
   "source": [
    "Using the given matrix, compute the mean class probabilities for all instances in `X_test`."
   ]
  },
  {
   "cell_type": "code",
   "execution_count": 15,
   "metadata": {},
   "outputs": [
    {
     "data": {
      "text/plain": [
       "array([ 0.09166667,  0.08611111,  0.09722222,  0.09611111,  0.11666667,\n",
       "        0.12083333,  0.08333333,  0.09305556,  0.10555556,  0.10944444])"
      ]
     },
     "execution_count": 15,
     "metadata": {},
     "output_type": "execute_result"
    }
   ],
   "source": [
    "# You code here\n",
    "classes_probas = probas.mean(axis=0)\n",
    "classes_probas"
   ]
  },
  {
   "cell_type": "markdown",
   "metadata": {},
   "source": [
    "**3. What is the maximum probability in a resulted vector?**\n",
    "1. 0.127\n",
    "2. 0.118\n",
    "3. 1.0\n",
    "4. 0.09"
   ]
  },
  {
   "cell_type": "code",
   "execution_count": 16,
   "metadata": {},
   "outputs": [
    {
     "data": {
      "text/plain": [
       "0.12083333333333333"
      ]
     },
     "execution_count": 16,
     "metadata": {},
     "output_type": "execute_result"
    }
   ],
   "source": [
    "max(classes_probas)"
   ]
  },
  {
   "cell_type": "markdown",
   "metadata": {},
   "source": [
    "## Regression"
   ]
  },
  {
   "cell_type": "markdown",
   "metadata": {},
   "source": [
    "Download the dataset `boston` using the method `load_boston`. Split the data into train and test with the `train_test_split` method, use parameter values `test_size=0.2`, `random_state=17`. Try to train shallow regression decision trees and make sure that `variance` and `mad_median` criteria return different results."
   ]
  },
  {
   "cell_type": "code",
   "execution_count": 17,
   "metadata": {},
   "outputs": [],
   "source": [
    "# You code here\n",
    "boston = load_boston()\n",
    "data = boston.data\n",
    "target = boston.target\n",
    "X_train, X_test, y_train, y_test = train_test_split(data, target, test_size=0.2,\n",
    "                                                    random_state=RANDOM_STATE)"
   ]
  },
  {
   "cell_type": "markdown",
   "metadata": {},
   "source": [
    "Using 5-folds cross-validation (`GridSearchCV`) pick up the optimal values of the `max_depth` and `criterion` parameters. For the parameter `max_depth` use `range(2, 9)`, for `criterion` use {'variance', 'mad_median'}. Quality measure is `scoring`='neg_mean_squared_error'."
   ]
  },
  {
   "cell_type": "code",
   "execution_count": 18,
   "metadata": {},
   "outputs": [
    {
     "name": "stdout",
     "output_type": "stream",
     "text": [
      "Fitting 5 folds for each of 16 candidates, totalling 80 fits\n"
     ]
    },
    {
     "name": "stderr",
     "output_type": "stream",
     "text": [
      "[Parallel(n_jobs=-1)]: Done  80 out of  80 | elapsed:   33.4s finished\n"
     ]
    },
    {
     "data": {
      "text/plain": [
       "GridSearchCV(cv=5, error_score='raise',\n",
       "       estimator=DecisionTree(N_targets=None, criterion='gini', debug=None, max_depth=inf,\n",
       "       min_samples_split=2),\n",
       "       fit_params=None, iid=True, n_jobs=-1,\n",
       "       param_grid={'criterion': ['variance', 'mad_median'], 'max_depth': range(2, 10)},\n",
       "       pre_dispatch='2*n_jobs', refit=True, return_train_score=False,\n",
       "       scoring='neg_mean_squared_error', verbose=True)"
      ]
     },
     "execution_count": 18,
     "metadata": {},
     "output_type": "execute_result"
    }
   ],
   "source": [
    "# You code here\n",
    "params = {\n",
    "    'criterion': ['variance', 'mad_median'],\n",
    "    'max_depth': range(2, 10)\n",
    "}\n",
    "tree_grid = GridSearchCV(DecisionTree(), params, n_jobs=-1, cv=5,\n",
    "                         verbose=True, return_train_score=False,\n",
    "                         scoring='neg_mean_squared_error')\n",
    "tree_grid.fit(X_train, y_train)"
   ]
  },
  {
   "cell_type": "markdown",
   "metadata": {},
   "source": [
    "Draw the plot of the mean quality measure `neg_mean_squared_error` for criteria `variance` and `mad_median` depending on `max_depth`."
   ]
  },
  {
   "cell_type": "code",
   "execution_count": 19,
   "metadata": {},
   "outputs": [
    {
     "data": {
      "image/png": "[encoded data removed]",
      "text/plain": [
       "<Figure size 432x288 with 1 Axes>"
      ]
     },
     "metadata": {},
     "output_type": "display_data"
    }
   ],
   "source": [
    "# You code here\n",
    "criterions = params['criterion']\n",
    "criterion_mask = tree_grid.cv_results_['param_criterion'].data\n",
    "mean_test_score = tree_grid.cv_results_['mean_test_score']\n",
    "for criterion in criterions:\n",
    "    plt.plot(params['max_depth'], mean_test_score[criterion_mask==criterion], label=criterion)\n",
    "plt.xlabel('max depth')\n",
    "plt.ylabel('mean test score')\n",
    "plt.legend(loc='upper left')\n",
    "plt.show()"
   ]
  },
  {
   "cell_type": "markdown",
   "metadata": {},
   "source": [
    "**4. Choose all correct statements:**\n",
    "1. Created plots have no intersection on the interval [2, 8]. <br>\n",
    "**False - intersection on max_depth=4**\n",
    "2. Created plots intersect each other only once on the interval [2, 8]. <br>\n",
    "**True**\n",
    "3. Optimal value of the `max_depth` for each of the criteria is on the border of the interval [2, 8].<br>\n",
    "**True**\n",
    "4. The best quality at `max_depth` on the interval [2, 8] is reached using `mad_median` criterion.<br>\n",
    "**False - we can clearly see it on the plot**"
   ]
  },
  {
   "cell_type": "markdown",
   "metadata": {},
   "source": [
    "**5. What are the optimal values for `max_depth` and `criterion` parameters?**\n",
    "1. max_depth = 9, criterion = 'variance';\n",
    "2. max_depth = 5, criterion = 'mad_median';\n",
    "3. max_depth = 4, criterion = 'variance';\n",
    "4. max_depth = 2, criterion = 'mad_median';\n",
    "5. max_depth = 4, criterion = 'mad_median';\n",
    "6. max_depth = 5, criterion = 'variance'."
   ]
  },
  {
   "cell_type": "code",
   "execution_count": 20,
   "metadata": {},
   "outputs": [
    {
     "data": {
      "text/plain": [
       "({'criterion': 'variance', 'max_depth': 6}, -18.738980346460238)"
      ]
     },
     "execution_count": 20,
     "metadata": {},
     "output_type": "execute_result"
    }
   ],
   "source": [
    "tree_grid.best_params_, tree_grid.best_score_"
   ]
  },
  {
   "cell_type": "markdown",
   "metadata": {},
   "source": [
    "**Answer:**\n",
    "* So the optimal parameters are criterion='variance', max_depth=6"
   ]
  }
 ],
 "metadata": {
  "kernelspec": {
   "display_name": "Python 3",
   "language": "python",
   "name": "python3"
  },
  "language_info": {
   "codemirror_mode": {
    "name": "ipython",
    "version": 3
   },
   "file_extension": ".py",
   "mimetype": "text/x-python",
   "name": "python",
   "nbconvert_exporter": "python",
   "pygments_lexer": "ipython3",
   "version": "3.6.3"
  },
  "name": "lesson4_part2_Decision_trees.ipynb"
 },
 "nbformat": 4,
 "nbformat_minor": 2
}
